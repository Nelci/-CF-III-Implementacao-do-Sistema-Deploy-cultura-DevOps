{
  "nbformat": 4,
  "nbformat_minor": 0,
  "metadata": {
    "colab": {
      "provenance": [],
      "include_colab_link": true
    },
    "kernelspec": {
      "name": "python3",
      "display_name": "Python 3"
    },
    "language_info": {
      "name": "python"
    }
  },
  "cells": [
    {
      "cell_type": "markdown",
      "metadata": {
        "id": "view-in-github",
        "colab_type": "text"
      },
      "source": [
        "<a href=\"https://colab.research.google.com/github/Nelci/-CF-III-Implementacao-do-Sistema-Deploy-cultura-DevOps/blob/main/LDA_funk.ipynb\" target=\"_parent\"><img src=\"https://colab.research.google.com/assets/colab-badge.svg\" alt=\"Open In Colab\"/></a>"
      ]
    },
    {
      "cell_type": "code",
      "execution_count": 2,
      "metadata": {
        "id": "LkiDOPItuYad"
      },
      "outputs": [],
      "source": [
        "\n",
        "import pandas as pd\n",
        "import numpy as np\n",
        "import spacy\n",
        "\n",
        "import re, nltk, spacy, gensim\n",
        "# Sklearn\n",
        "from sklearn.decomposition import LatentDirichletAllocation, TruncatedSVD, PCA\n",
        "from sklearn.feature_extraction.text import CountVectorizer, TfidfVectorizer\n",
        "from sklearn.model_selection import GridSearchCV\n",
        "from pprint import pprint\n"
      ]
    },
    {
      "cell_type": "code",
      "source": [
        "# for plotting purpouse\n",
        "!pip install data-science-utils\n",
        "\n",
        "from ds_utils.unsupervised import plot_cluster_cardinality, plot_cluster_magnitude, plot_magnitude_vs_cardinality\n",
        "from scipy.spatial.distance import euclidean\n",
        "import matplotlib.pyplot as plt"
      ],
      "metadata": {
        "colab": {
          "base_uri": "https://localhost:8080/"
        },
        "id": "dmO-s0q_GVWW",
        "outputId": "ea2dc2d3-a6e2-4a36-c95f-919ac89e1483"
      },
      "execution_count": 3,
      "outputs": [
        {
          "output_type": "stream",
          "name": "stdout",
          "text": [
            "Collecting data-science-utils\n",
            "  Downloading data_science_utils-1.7.1-py3-none-any.whl (21 kB)\n",
            "Requirement already satisfied: numpy>=1.3 in /usr/local/lib/python3.10/dist-packages (from data-science-utils) (1.22.4)\n",
            "Requirement already satisfied: scipy>=1.0.0 in /usr/local/lib/python3.10/dist-packages (from data-science-utils) (1.10.1)\n",
            "Requirement already satisfied: pandas>=0.23.0 in /usr/local/lib/python3.10/dist-packages (from data-science-utils) (1.5.3)\n",
            "Requirement already satisfied: matplotlib>2.02 in /usr/local/lib/python3.10/dist-packages (from data-science-utils) (3.7.1)\n",
            "Requirement already satisfied: seaborn>=0.8.0 in /usr/local/lib/python3.10/dist-packages (from data-science-utils) (0.12.2)\n",
            "Requirement already satisfied: scikit-learn>=1.0.0 in /usr/local/lib/python3.10/dist-packages (from data-science-utils) (1.2.2)\n",
            "Requirement already satisfied: pydotplus>=2.0.2 in /usr/local/lib/python3.10/dist-packages (from data-science-utils) (2.0.2)\n",
            "Requirement already satisfied: joblib>=0.12 in /usr/local/lib/python3.10/dist-packages (from data-science-utils) (1.3.1)\n",
            "Requirement already satisfied: contourpy>=1.0.1 in /usr/local/lib/python3.10/dist-packages (from matplotlib>2.02->data-science-utils) (1.1.0)\n",
            "Requirement already satisfied: cycler>=0.10 in /usr/local/lib/python3.10/dist-packages (from matplotlib>2.02->data-science-utils) (0.11.0)\n",
            "Requirement already satisfied: fonttools>=4.22.0 in /usr/local/lib/python3.10/dist-packages (from matplotlib>2.02->data-science-utils) (4.41.0)\n",
            "Requirement already satisfied: kiwisolver>=1.0.1 in /usr/local/lib/python3.10/dist-packages (from matplotlib>2.02->data-science-utils) (1.4.4)\n",
            "Requirement already satisfied: packaging>=20.0 in /usr/local/lib/python3.10/dist-packages (from matplotlib>2.02->data-science-utils) (23.1)\n",
            "Requirement already satisfied: pillow>=6.2.0 in /usr/local/lib/python3.10/dist-packages (from matplotlib>2.02->data-science-utils) (8.4.0)\n",
            "Requirement already satisfied: pyparsing>=2.3.1 in /usr/local/lib/python3.10/dist-packages (from matplotlib>2.02->data-science-utils) (3.1.0)\n",
            "Requirement already satisfied: python-dateutil>=2.7 in /usr/local/lib/python3.10/dist-packages (from matplotlib>2.02->data-science-utils) (2.8.2)\n",
            "Requirement already satisfied: pytz>=2020.1 in /usr/local/lib/python3.10/dist-packages (from pandas>=0.23.0->data-science-utils) (2022.7.1)\n",
            "Requirement already satisfied: threadpoolctl>=2.0.0 in /usr/local/lib/python3.10/dist-packages (from scikit-learn>=1.0.0->data-science-utils) (3.2.0)\n",
            "Requirement already satisfied: six>=1.5 in /usr/local/lib/python3.10/dist-packages (from python-dateutil>=2.7->matplotlib>2.02->data-science-utils) (1.16.0)\n",
            "Installing collected packages: data-science-utils\n",
            "Successfully installed data-science-utils-1.7.1\n"
          ]
        }
      ]
    },
    {
      "cell_type": "code",
      "source": [
        "!python -m spacy download pt_core_news_sm #pacote de protugues do spacy"
      ],
      "metadata": {
        "colab": {
          "base_uri": "https://localhost:8080/"
        },
        "id": "uhNrudKTVrgi",
        "outputId": "645813dd-4eeb-434e-feef-fc695ad03323"
      },
      "execution_count": 4,
      "outputs": [
        {
          "output_type": "stream",
          "name": "stdout",
          "text": [
            "2023-07-23 20:26:29.260356: W tensorflow/compiler/tf2tensorrt/utils/py_utils.cc:38] TF-TRT Warning: Could not find TensorRT\n",
            "Collecting pt-core-news-sm==3.5.0\n",
            "  Downloading https://github.com/explosion/spacy-models/releases/download/pt_core_news_sm-3.5.0/pt_core_news_sm-3.5.0-py3-none-any.whl (13.0 MB)\n",
            "\u001b[2K     \u001b[90m━━━━━━━━━━━━━━━━━━━━━━━━━━━━━━━━━━━━━━━━\u001b[0m \u001b[32m13.0/13.0 MB\u001b[0m \u001b[31m70.3 MB/s\u001b[0m eta \u001b[36m0:00:00\u001b[0m\n",
            "\u001b[?25hRequirement already satisfied: spacy<3.6.0,>=3.5.0 in /usr/local/lib/python3.10/dist-packages (from pt-core-news-sm==3.5.0) (3.5.4)\n",
            "Requirement already satisfied: spacy-legacy<3.1.0,>=3.0.11 in /usr/local/lib/python3.10/dist-packages (from spacy<3.6.0,>=3.5.0->pt-core-news-sm==3.5.0) (3.0.12)\n",
            "Requirement already satisfied: spacy-loggers<2.0.0,>=1.0.0 in /usr/local/lib/python3.10/dist-packages (from spacy<3.6.0,>=3.5.0->pt-core-news-sm==3.5.0) (1.0.4)\n",
            "Requirement already satisfied: murmurhash<1.1.0,>=0.28.0 in /usr/local/lib/python3.10/dist-packages (from spacy<3.6.0,>=3.5.0->pt-core-news-sm==3.5.0) (1.0.9)\n",
            "Requirement already satisfied: cymem<2.1.0,>=2.0.2 in /usr/local/lib/python3.10/dist-packages (from spacy<3.6.0,>=3.5.0->pt-core-news-sm==3.5.0) (2.0.7)\n",
            "Requirement already satisfied: preshed<3.1.0,>=3.0.2 in /usr/local/lib/python3.10/dist-packages (from spacy<3.6.0,>=3.5.0->pt-core-news-sm==3.5.0) (3.0.8)\n",
            "Requirement already satisfied: thinc<8.2.0,>=8.1.8 in /usr/local/lib/python3.10/dist-packages (from spacy<3.6.0,>=3.5.0->pt-core-news-sm==3.5.0) (8.1.10)\n",
            "Requirement already satisfied: wasabi<1.2.0,>=0.9.1 in /usr/local/lib/python3.10/dist-packages (from spacy<3.6.0,>=3.5.0->pt-core-news-sm==3.5.0) (1.1.2)\n",
            "Requirement already satisfied: srsly<3.0.0,>=2.4.3 in /usr/local/lib/python3.10/dist-packages (from spacy<3.6.0,>=3.5.0->pt-core-news-sm==3.5.0) (2.4.7)\n",
            "Requirement already satisfied: catalogue<2.1.0,>=2.0.6 in /usr/local/lib/python3.10/dist-packages (from spacy<3.6.0,>=3.5.0->pt-core-news-sm==3.5.0) (2.0.8)\n",
            "Requirement already satisfied: typer<0.10.0,>=0.3.0 in /usr/local/lib/python3.10/dist-packages (from spacy<3.6.0,>=3.5.0->pt-core-news-sm==3.5.0) (0.9.0)\n",
            "Requirement already satisfied: pathy>=0.10.0 in /usr/local/lib/python3.10/dist-packages (from spacy<3.6.0,>=3.5.0->pt-core-news-sm==3.5.0) (0.10.2)\n",
            "Requirement already satisfied: smart-open<7.0.0,>=5.2.1 in /usr/local/lib/python3.10/dist-packages (from spacy<3.6.0,>=3.5.0->pt-core-news-sm==3.5.0) (6.3.0)\n",
            "Requirement already satisfied: tqdm<5.0.0,>=4.38.0 in /usr/local/lib/python3.10/dist-packages (from spacy<3.6.0,>=3.5.0->pt-core-news-sm==3.5.0) (4.65.0)\n",
            "Requirement already satisfied: numpy>=1.15.0 in /usr/local/lib/python3.10/dist-packages (from spacy<3.6.0,>=3.5.0->pt-core-news-sm==3.5.0) (1.22.4)\n",
            "Requirement already satisfied: requests<3.0.0,>=2.13.0 in /usr/local/lib/python3.10/dist-packages (from spacy<3.6.0,>=3.5.0->pt-core-news-sm==3.5.0) (2.27.1)\n",
            "Requirement already satisfied: pydantic!=1.8,!=1.8.1,<1.11.0,>=1.7.4 in /usr/local/lib/python3.10/dist-packages (from spacy<3.6.0,>=3.5.0->pt-core-news-sm==3.5.0) (1.10.11)\n",
            "Requirement already satisfied: jinja2 in /usr/local/lib/python3.10/dist-packages (from spacy<3.6.0,>=3.5.0->pt-core-news-sm==3.5.0) (3.1.2)\n",
            "Requirement already satisfied: setuptools in /usr/local/lib/python3.10/dist-packages (from spacy<3.6.0,>=3.5.0->pt-core-news-sm==3.5.0) (67.7.2)\n",
            "Requirement already satisfied: packaging>=20.0 in /usr/local/lib/python3.10/dist-packages (from spacy<3.6.0,>=3.5.0->pt-core-news-sm==3.5.0) (23.1)\n",
            "Requirement already satisfied: langcodes<4.0.0,>=3.2.0 in /usr/local/lib/python3.10/dist-packages (from spacy<3.6.0,>=3.5.0->pt-core-news-sm==3.5.0) (3.3.0)\n",
            "Requirement already satisfied: typing-extensions>=4.2.0 in /usr/local/lib/python3.10/dist-packages (from pydantic!=1.8,!=1.8.1,<1.11.0,>=1.7.4->spacy<3.6.0,>=3.5.0->pt-core-news-sm==3.5.0) (4.7.1)\n",
            "Requirement already satisfied: urllib3<1.27,>=1.21.1 in /usr/local/lib/python3.10/dist-packages (from requests<3.0.0,>=2.13.0->spacy<3.6.0,>=3.5.0->pt-core-news-sm==3.5.0) (1.26.16)\n",
            "Requirement already satisfied: certifi>=2017.4.17 in /usr/local/lib/python3.10/dist-packages (from requests<3.0.0,>=2.13.0->spacy<3.6.0,>=3.5.0->pt-core-news-sm==3.5.0) (2023.5.7)\n",
            "Requirement already satisfied: charset-normalizer~=2.0.0 in /usr/local/lib/python3.10/dist-packages (from requests<3.0.0,>=2.13.0->spacy<3.6.0,>=3.5.0->pt-core-news-sm==3.5.0) (2.0.12)\n",
            "Requirement already satisfied: idna<4,>=2.5 in /usr/local/lib/python3.10/dist-packages (from requests<3.0.0,>=2.13.0->spacy<3.6.0,>=3.5.0->pt-core-news-sm==3.5.0) (3.4)\n",
            "Requirement already satisfied: blis<0.8.0,>=0.7.8 in /usr/local/lib/python3.10/dist-packages (from thinc<8.2.0,>=8.1.8->spacy<3.6.0,>=3.5.0->pt-core-news-sm==3.5.0) (0.7.9)\n",
            "Requirement already satisfied: confection<1.0.0,>=0.0.1 in /usr/local/lib/python3.10/dist-packages (from thinc<8.2.0,>=8.1.8->spacy<3.6.0,>=3.5.0->pt-core-news-sm==3.5.0) (0.1.0)\n",
            "Requirement already satisfied: click<9.0.0,>=7.1.1 in /usr/local/lib/python3.10/dist-packages (from typer<0.10.0,>=0.3.0->spacy<3.6.0,>=3.5.0->pt-core-news-sm==3.5.0) (8.1.6)\n",
            "Requirement already satisfied: MarkupSafe>=2.0 in /usr/local/lib/python3.10/dist-packages (from jinja2->spacy<3.6.0,>=3.5.0->pt-core-news-sm==3.5.0) (2.1.3)\n",
            "Installing collected packages: pt-core-news-sm\n",
            "Successfully installed pt-core-news-sm-3.5.0\n",
            "\u001b[38;5;2m✔ Download and installation successful\u001b[0m\n",
            "You can now load the package via spacy.load('pt_core_news_sm')\n"
          ]
        }
      ]
    },
    {
      "cell_type": "code",
      "source": [
        "path =  '/content/drive/MyDrive/UFRGS/mestrado/PLN/analise funk/analise_musicas - refrao'\n",
        "df = pd.read_csv(path+'//base_refrao.csv',\n",
        "                sep = ';',decimal=',')\n",
        "\n",
        "df2 = df.groupby(['musica']).agg({'refrao':'sum'}).reset_index()\n",
        "# Convert to list\n",
        "data = df2.refrao.values.tolist()"
      ],
      "metadata": {
        "id": "PC1ZoVZWvrLW",
        "colab": {
          "base_uri": "https://localhost:8080/",
          "height": 389
        },
        "outputId": "6c4fb279-1c56-428e-8cd9-3d110573394d"
      },
      "execution_count": 5,
      "outputs": [
        {
          "output_type": "error",
          "ename": "FileNotFoundError",
          "evalue": "ignored",
          "traceback": [
            "\u001b[0;31m---------------------------------------------------------------------------\u001b[0m",
            "\u001b[0;31mFileNotFoundError\u001b[0m                         Traceback (most recent call last)",
            "\u001b[0;32m<ipython-input-5-c302bc3e7f58>\u001b[0m in \u001b[0;36m<cell line: 2>\u001b[0;34m()\u001b[0m\n\u001b[1;32m      1\u001b[0m \u001b[0mpath\u001b[0m \u001b[0;34m=\u001b[0m  \u001b[0;34m'/content/drive/MyDrive/UFRGS/mestrado/PLN/analise funk/analise_musicas - refrao'\u001b[0m\u001b[0;34m\u001b[0m\u001b[0;34m\u001b[0m\u001b[0m\n\u001b[0;32m----> 2\u001b[0;31m df = pd.read_csv(path+'//base_refrao.csv',\n\u001b[0m\u001b[1;32m      3\u001b[0m                 sep = ';',decimal=',')\n\u001b[1;32m      4\u001b[0m \u001b[0;34m\u001b[0m\u001b[0m\n\u001b[1;32m      5\u001b[0m \u001b[0mdf2\u001b[0m \u001b[0;34m=\u001b[0m \u001b[0mdf\u001b[0m\u001b[0;34m.\u001b[0m\u001b[0mgroupby\u001b[0m\u001b[0;34m(\u001b[0m\u001b[0;34m[\u001b[0m\u001b[0;34m'musica'\u001b[0m\u001b[0;34m]\u001b[0m\u001b[0;34m)\u001b[0m\u001b[0;34m.\u001b[0m\u001b[0magg\u001b[0m\u001b[0;34m(\u001b[0m\u001b[0;34m{\u001b[0m\u001b[0;34m'refrao'\u001b[0m\u001b[0;34m:\u001b[0m\u001b[0;34m'sum'\u001b[0m\u001b[0;34m}\u001b[0m\u001b[0;34m)\u001b[0m\u001b[0;34m.\u001b[0m\u001b[0mreset_index\u001b[0m\u001b[0;34m(\u001b[0m\u001b[0;34m)\u001b[0m\u001b[0;34m\u001b[0m\u001b[0;34m\u001b[0m\u001b[0m\n",
            "\u001b[0;32m/usr/local/lib/python3.10/dist-packages/pandas/util/_decorators.py\u001b[0m in \u001b[0;36mwrapper\u001b[0;34m(*args, **kwargs)\u001b[0m\n\u001b[1;32m    209\u001b[0m                 \u001b[0;32melse\u001b[0m\u001b[0;34m:\u001b[0m\u001b[0;34m\u001b[0m\u001b[0;34m\u001b[0m\u001b[0m\n\u001b[1;32m    210\u001b[0m                     \u001b[0mkwargs\u001b[0m\u001b[0;34m[\u001b[0m\u001b[0mnew_arg_name\u001b[0m\u001b[0;34m]\u001b[0m \u001b[0;34m=\u001b[0m \u001b[0mnew_arg_value\u001b[0m\u001b[0;34m\u001b[0m\u001b[0;34m\u001b[0m\u001b[0m\n\u001b[0;32m--> 211\u001b[0;31m             \u001b[0;32mreturn\u001b[0m \u001b[0mfunc\u001b[0m\u001b[0;34m(\u001b[0m\u001b[0;34m*\u001b[0m\u001b[0margs\u001b[0m\u001b[0;34m,\u001b[0m \u001b[0;34m**\u001b[0m\u001b[0mkwargs\u001b[0m\u001b[0;34m)\u001b[0m\u001b[0;34m\u001b[0m\u001b[0;34m\u001b[0m\u001b[0m\n\u001b[0m\u001b[1;32m    212\u001b[0m \u001b[0;34m\u001b[0m\u001b[0m\n\u001b[1;32m    213\u001b[0m         \u001b[0;32mreturn\u001b[0m \u001b[0mcast\u001b[0m\u001b[0;34m(\u001b[0m\u001b[0mF\u001b[0m\u001b[0;34m,\u001b[0m \u001b[0mwrapper\u001b[0m\u001b[0;34m)\u001b[0m\u001b[0;34m\u001b[0m\u001b[0;34m\u001b[0m\u001b[0m\n",
            "\u001b[0;32m/usr/local/lib/python3.10/dist-packages/pandas/util/_decorators.py\u001b[0m in \u001b[0;36mwrapper\u001b[0;34m(*args, **kwargs)\u001b[0m\n\u001b[1;32m    329\u001b[0m                     \u001b[0mstacklevel\u001b[0m\u001b[0;34m=\u001b[0m\u001b[0mfind_stack_level\u001b[0m\u001b[0;34m(\u001b[0m\u001b[0;34m)\u001b[0m\u001b[0;34m,\u001b[0m\u001b[0;34m\u001b[0m\u001b[0;34m\u001b[0m\u001b[0m\n\u001b[1;32m    330\u001b[0m                 )\n\u001b[0;32m--> 331\u001b[0;31m             \u001b[0;32mreturn\u001b[0m \u001b[0mfunc\u001b[0m\u001b[0;34m(\u001b[0m\u001b[0;34m*\u001b[0m\u001b[0margs\u001b[0m\u001b[0;34m,\u001b[0m \u001b[0;34m**\u001b[0m\u001b[0mkwargs\u001b[0m\u001b[0;34m)\u001b[0m\u001b[0;34m\u001b[0m\u001b[0;34m\u001b[0m\u001b[0m\n\u001b[0m\u001b[1;32m    332\u001b[0m \u001b[0;34m\u001b[0m\u001b[0m\n\u001b[1;32m    333\u001b[0m         \u001b[0;31m# error: \"Callable[[VarArg(Any), KwArg(Any)], Any]\" has no\u001b[0m\u001b[0;34m\u001b[0m\u001b[0;34m\u001b[0m\u001b[0m\n",
            "\u001b[0;32m/usr/local/lib/python3.10/dist-packages/pandas/io/parsers/readers.py\u001b[0m in \u001b[0;36mread_csv\u001b[0;34m(filepath_or_buffer, sep, delimiter, header, names, index_col, usecols, squeeze, prefix, mangle_dupe_cols, dtype, engine, converters, true_values, false_values, skipinitialspace, skiprows, skipfooter, nrows, na_values, keep_default_na, na_filter, verbose, skip_blank_lines, parse_dates, infer_datetime_format, keep_date_col, date_parser, dayfirst, cache_dates, iterator, chunksize, compression, thousands, decimal, lineterminator, quotechar, quoting, doublequote, escapechar, comment, encoding, encoding_errors, dialect, error_bad_lines, warn_bad_lines, on_bad_lines, delim_whitespace, low_memory, memory_map, float_precision, storage_options)\u001b[0m\n\u001b[1;32m    948\u001b[0m     \u001b[0mkwds\u001b[0m\u001b[0;34m.\u001b[0m\u001b[0mupdate\u001b[0m\u001b[0;34m(\u001b[0m\u001b[0mkwds_defaults\u001b[0m\u001b[0;34m)\u001b[0m\u001b[0;34m\u001b[0m\u001b[0;34m\u001b[0m\u001b[0m\n\u001b[1;32m    949\u001b[0m \u001b[0;34m\u001b[0m\u001b[0m\n\u001b[0;32m--> 950\u001b[0;31m     \u001b[0;32mreturn\u001b[0m \u001b[0m_read\u001b[0m\u001b[0;34m(\u001b[0m\u001b[0mfilepath_or_buffer\u001b[0m\u001b[0;34m,\u001b[0m \u001b[0mkwds\u001b[0m\u001b[0;34m)\u001b[0m\u001b[0;34m\u001b[0m\u001b[0;34m\u001b[0m\u001b[0m\n\u001b[0m\u001b[1;32m    951\u001b[0m \u001b[0;34m\u001b[0m\u001b[0m\n\u001b[1;32m    952\u001b[0m \u001b[0;34m\u001b[0m\u001b[0m\n",
            "\u001b[0;32m/usr/local/lib/python3.10/dist-packages/pandas/io/parsers/readers.py\u001b[0m in \u001b[0;36m_read\u001b[0;34m(filepath_or_buffer, kwds)\u001b[0m\n\u001b[1;32m    603\u001b[0m \u001b[0;34m\u001b[0m\u001b[0m\n\u001b[1;32m    604\u001b[0m     \u001b[0;31m# Create the parser.\u001b[0m\u001b[0;34m\u001b[0m\u001b[0;34m\u001b[0m\u001b[0m\n\u001b[0;32m--> 605\u001b[0;31m     \u001b[0mparser\u001b[0m \u001b[0;34m=\u001b[0m \u001b[0mTextFileReader\u001b[0m\u001b[0;34m(\u001b[0m\u001b[0mfilepath_or_buffer\u001b[0m\u001b[0;34m,\u001b[0m \u001b[0;34m**\u001b[0m\u001b[0mkwds\u001b[0m\u001b[0;34m)\u001b[0m\u001b[0;34m\u001b[0m\u001b[0;34m\u001b[0m\u001b[0m\n\u001b[0m\u001b[1;32m    606\u001b[0m \u001b[0;34m\u001b[0m\u001b[0m\n\u001b[1;32m    607\u001b[0m     \u001b[0;32mif\u001b[0m \u001b[0mchunksize\u001b[0m \u001b[0;32mor\u001b[0m \u001b[0miterator\u001b[0m\u001b[0;34m:\u001b[0m\u001b[0;34m\u001b[0m\u001b[0;34m\u001b[0m\u001b[0m\n",
            "\u001b[0;32m/usr/local/lib/python3.10/dist-packages/pandas/io/parsers/readers.py\u001b[0m in \u001b[0;36m__init__\u001b[0;34m(self, f, engine, **kwds)\u001b[0m\n\u001b[1;32m   1440\u001b[0m \u001b[0;34m\u001b[0m\u001b[0m\n\u001b[1;32m   1441\u001b[0m         \u001b[0mself\u001b[0m\u001b[0;34m.\u001b[0m\u001b[0mhandles\u001b[0m\u001b[0;34m:\u001b[0m \u001b[0mIOHandles\u001b[0m \u001b[0;34m|\u001b[0m \u001b[0;32mNone\u001b[0m \u001b[0;34m=\u001b[0m \u001b[0;32mNone\u001b[0m\u001b[0;34m\u001b[0m\u001b[0;34m\u001b[0m\u001b[0m\n\u001b[0;32m-> 1442\u001b[0;31m         \u001b[0mself\u001b[0m\u001b[0;34m.\u001b[0m\u001b[0m_engine\u001b[0m \u001b[0;34m=\u001b[0m \u001b[0mself\u001b[0m\u001b[0;34m.\u001b[0m\u001b[0m_make_engine\u001b[0m\u001b[0;34m(\u001b[0m\u001b[0mf\u001b[0m\u001b[0;34m,\u001b[0m \u001b[0mself\u001b[0m\u001b[0;34m.\u001b[0m\u001b[0mengine\u001b[0m\u001b[0;34m)\u001b[0m\u001b[0;34m\u001b[0m\u001b[0;34m\u001b[0m\u001b[0m\n\u001b[0m\u001b[1;32m   1443\u001b[0m \u001b[0;34m\u001b[0m\u001b[0m\n\u001b[1;32m   1444\u001b[0m     \u001b[0;32mdef\u001b[0m \u001b[0mclose\u001b[0m\u001b[0;34m(\u001b[0m\u001b[0mself\u001b[0m\u001b[0;34m)\u001b[0m \u001b[0;34m->\u001b[0m \u001b[0;32mNone\u001b[0m\u001b[0;34m:\u001b[0m\u001b[0;34m\u001b[0m\u001b[0;34m\u001b[0m\u001b[0m\n",
            "\u001b[0;32m/usr/local/lib/python3.10/dist-packages/pandas/io/parsers/readers.py\u001b[0m in \u001b[0;36m_make_engine\u001b[0;34m(self, f, engine)\u001b[0m\n\u001b[1;32m   1733\u001b[0m                 \u001b[0;32mif\u001b[0m \u001b[0;34m\"b\"\u001b[0m \u001b[0;32mnot\u001b[0m \u001b[0;32min\u001b[0m \u001b[0mmode\u001b[0m\u001b[0;34m:\u001b[0m\u001b[0;34m\u001b[0m\u001b[0;34m\u001b[0m\u001b[0m\n\u001b[1;32m   1734\u001b[0m                     \u001b[0mmode\u001b[0m \u001b[0;34m+=\u001b[0m \u001b[0;34m\"b\"\u001b[0m\u001b[0;34m\u001b[0m\u001b[0;34m\u001b[0m\u001b[0m\n\u001b[0;32m-> 1735\u001b[0;31m             self.handles = get_handle(\n\u001b[0m\u001b[1;32m   1736\u001b[0m                 \u001b[0mf\u001b[0m\u001b[0;34m,\u001b[0m\u001b[0;34m\u001b[0m\u001b[0;34m\u001b[0m\u001b[0m\n\u001b[1;32m   1737\u001b[0m                 \u001b[0mmode\u001b[0m\u001b[0;34m,\u001b[0m\u001b[0;34m\u001b[0m\u001b[0;34m\u001b[0m\u001b[0m\n",
            "\u001b[0;32m/usr/local/lib/python3.10/dist-packages/pandas/io/common.py\u001b[0m in \u001b[0;36mget_handle\u001b[0;34m(path_or_buf, mode, encoding, compression, memory_map, is_text, errors, storage_options)\u001b[0m\n\u001b[1;32m    854\u001b[0m         \u001b[0;32mif\u001b[0m \u001b[0mioargs\u001b[0m\u001b[0;34m.\u001b[0m\u001b[0mencoding\u001b[0m \u001b[0;32mand\u001b[0m \u001b[0;34m\"b\"\u001b[0m \u001b[0;32mnot\u001b[0m \u001b[0;32min\u001b[0m \u001b[0mioargs\u001b[0m\u001b[0;34m.\u001b[0m\u001b[0mmode\u001b[0m\u001b[0;34m:\u001b[0m\u001b[0;34m\u001b[0m\u001b[0;34m\u001b[0m\u001b[0m\n\u001b[1;32m    855\u001b[0m             \u001b[0;31m# Encoding\u001b[0m\u001b[0;34m\u001b[0m\u001b[0;34m\u001b[0m\u001b[0m\n\u001b[0;32m--> 856\u001b[0;31m             handle = open(\n\u001b[0m\u001b[1;32m    857\u001b[0m                 \u001b[0mhandle\u001b[0m\u001b[0;34m,\u001b[0m\u001b[0;34m\u001b[0m\u001b[0;34m\u001b[0m\u001b[0m\n\u001b[1;32m    858\u001b[0m                 \u001b[0mioargs\u001b[0m\u001b[0;34m.\u001b[0m\u001b[0mmode\u001b[0m\u001b[0;34m,\u001b[0m\u001b[0;34m\u001b[0m\u001b[0;34m\u001b[0m\u001b[0m\n",
            "\u001b[0;31mFileNotFoundError\u001b[0m: [Errno 2] No such file or directory: '/content/drive/MyDrive/UFRGS/mestrado/PLN/analise funk/analise_musicas - refrao//base_refrao.csv'"
          ]
        }
      ]
    },
    {
      "cell_type": "code",
      "source": [
        "\n",
        "def sent_to_words(sentences):\n",
        "    for sentence in sentences:\n",
        "        yield(gensim.utils.simple_preprocess(str(sentence), deacc=True))  # deacc=True removes punctuations\n",
        "\n",
        "data_words = list(sent_to_words(data))\n",
        "print(data_words[:1])"
      ],
      "metadata": {
        "colab": {
          "base_uri": "https://localhost:8080/"
        },
        "id": "a7ffUU2Hw4td",
        "outputId": "e75eb0b2-578e-443a-ff22-8a4701f79d9d"
      },
      "execution_count": null,
      "outputs": [
        {
          "output_type": "stream",
          "name": "stdout",
          "text": [
            "[['yeah', 'obrigado', 'deus', 'me', 'deu', 'um', 'trabalho', 'to', 'no', 'corre', 'na', 'luta', 'pra', 'vencer', 'sei', 'que', 'tempo', 'nao', 'volta', 'pro', 'passado', 'passado', 'vem', 'me', 'transparecer', 'meu', 'presente', 'junta', 'com', 'futuro', 'quem', 'nao', 'botou', 'fe', 'pagou', 'pra', 'ver', 'eu', 'descarrego', 'pente', 'palavras', 'pro', 'mundo', 'um', 'milhao', 'de', 'sonho', 'pra', 'escrever']]\n"
          ]
        }
      ]
    },
    {
      "cell_type": "code",
      "source": [
        "nlp = spacy.load('pt_core_news_sm', disable=['parser', 'ner'])  #estou carregando um modelo de stamming para filtrar as musicas só por advervios, verbos, sustantivos e adjetivos"
      ],
      "metadata": {
        "id": "Ifp-zZ1ZVXkc"
      },
      "execution_count": null,
      "outputs": []
    },
    {
      "cell_type": "code",
      "source": [
        "aux = nlp(\" \".join(data_words[1]))\n",
        "for token in aux:\n",
        "    print(token.text, token.pos_, token.lemma_)"
      ],
      "metadata": {
        "id": "em3M0bewXKsL",
        "colab": {
          "base_uri": "https://localhost:8080/"
        },
        "outputId": "be553ccc-78e4-4d3a-f5d5-14b585bfd1ef"
      },
      "execution_count": null,
      "outputs": [
        {
          "output_type": "stream",
          "name": "stdout",
          "text": [
            "respeita VERB respeitar\n",
            "corre VERB correr\n",
            "que SCONJ que\n",
            "nos PRON nós\n",
            "fez VERB fazer\n",
            "deixa NOUN deixa\n",
            "de ADP de\n",
            "lado NOUN lado\n",
            "mau ADJ mau\n",
            "olhado NOUN olhado\n",
            "calma ADJ calmo\n",
            "que PRON que\n",
            "vai AUX ir\n",
            "chegar VERB chegar\n",
            "sua DET seu\n",
            "vez NOUN vez\n",
            "muita DET muito\n",
            "labuta NOUN labuta\n",
            "ooh AUX ooh\n",
            "foi AUX ser\n",
            "muita DET muito\n",
            "luta NOUN luta\n",
            "ooh DET ooh\n",
            "pra SCONJ pra\n",
            "poder VERB poder\n",
            "chegar VERB chegar\n",
            "pe ADP pe\n",
            "no ADP em o\n",
            "chao NOUN chao\n",
            "alma NOUN almar\n",
            "pura ADJ puro\n",
            "deus VERB deus\n",
            "me PRON eu\n",
            "abencoe VERB abencoe\n",
            "me PRON eu\n",
            "livre ADJ livre\n",
            "dos ADP de o\n",
            "males NOUN mal\n",
            "dessa ADP de esse\n",
            "vida NOUN vida\n",
            "louca ADJ louco\n",
            "longe ADV longe\n",
            "de ADP de\n",
            "maldade NOUN maldade\n"
          ]
        }
      ]
    },
    {
      "cell_type": "code",
      "source": [
        "\n",
        "def lemmatization(texts, allowed_postags=['NOUN', 'ADJ', 'VERB', 'ADV']): #'NOUN', 'ADJ', 'VERB', 'ADV'\n",
        "    texts_out = []\n",
        "    for sent in texts:\n",
        "        doc = nlp(\" \".join(sent))\n",
        "        texts_out.append(\" \".join([token.lemma_ if token.lemma_ not in ['-PRON-'] else '' for token in doc if token.pos_ in allowed_postags]))\n",
        "    return texts_out"
      ],
      "metadata": {
        "id": "CJZVOy1kxANs"
      },
      "execution_count": null,
      "outputs": []
    },
    {
      "cell_type": "code",
      "source": [
        "\n",
        "# Do lemmatization keeping only Noun, Adj, Verb, Adverb\n",
        "data_lemmatized = lemmatization(data_words, allowed_postags=['NOUN','ADJ','VERB','ADV'])\n",
        "len(data_lemmatized)"
      ],
      "metadata": {
        "colab": {
          "base_uri": "https://localhost:8080/"
        },
        "id": "WwMRDDmaxDZr",
        "outputId": "509b79e2-74a5-4fb3-d67d-30a7cf519cc8"
      },
      "execution_count": null,
      "outputs": [
        {
          "output_type": "execute_result",
          "data": {
            "text/plain": [
              "596"
            ]
          },
          "metadata": {},
          "execution_count": 10
        }
      ]
    },
    {
      "cell_type": "code",
      "source": [
        "data_lemmatized"
      ],
      "metadata": {
        "colab": {
          "base_uri": "https://localhost:8080/"
        },
        "id": "Bwhk6bYKGPZ0",
        "outputId": "9db829bf-62c3-4f3f-e2fb-c61cf864dab3"
      },
      "execution_count": null,
      "outputs": [
        {
          "output_type": "execute_result",
          "data": {
            "text/plain": [
              "['Yeah obrigar Deus dar trabalho to correr luta vencer saber tempo volta passar passado vir transparecer presente junta futuro botar pagar ver descarrego pente palavra mundo milhao sonho escrever',\n",
              " 'respeitar correr fazer deixa lado mau olhado calmo chegar vez labuta luta poder chegar chao almar puro deus abencoe livre mal vida louco longe maldade',\n",
              " 'perfume ficar ainda sinto aroma cobertor esqueco menos cheiro saudade dar desespero dever proibir usar perfume lembrar maluco fazer ninguem mais fazer filha puta querer mais baguncar vida mal curar vira recair logo tar tao bem resolver hoje ter jeito recair culpa culpa',\n",
              " 'trintar minuto ter graca gata damar perder mundo saber tempo ter mais graca gata achar lindar absurdo princesa hoje mais amanho saber saber pro resto vida so vez trintar minuto ter graca gata trintar minuto ter graca nao trintar minuto ter graca gata trintar minuto ter graca nao',\n",
              " 'musica pro clima ficar diferente relaxar trazer mary jane money ficar ricoso mujer querer novo bonde musica pro clima ficar diferente relaxar trazer mary jane money ficar ricoso mujer querer novo bonde',\n",
              " 'menino imbicar auge rir cara fraude',\n",
              " 'donar dinheiro faco querer beijo beijor donar cabare sempre posturar safar vida louco ter car anjo cama loba',\n",
              " 'consciencio defeito ter achar perfeita nunca achar ninguem saber ciumentar surtada marrenta parede tratar nego man cama so sexo ir muito mais aler entregar sustentar safar foguenta gostoso saber foda vir sentar tomar vir gozar onda erva venenoso quarto rolar pedir bota apetitoso parar pedir mais mais mais mais mais olhar fazer fazer fazer fazer fazer senta pro pai ir tons debaixo lencois',\n",
              " 'querer noite apenas ter querer lance compromisso fim',\n",
              " 'dancar aqui bomba balancar aqui bomba mexer aqui bomba mulherar jogar assim assim assim assim mundo mao ir cabeca mao ir movimento movimento sexy bota cintura bota cintura movimento movimento sexy agora comecar devagarinho ate baixo baixo baixo devagarinho ate devagarinho ate baixo baixo baixo devagarinho ate cima sensual movimiento sensual sensual movimiento bem sexy sexy movimiento bem sexy sexy chegar comecar danca bomba',\n",
              " 'mamar mamar mamar dia raiar sento relaxa sorrisin covarde',\n",
              " 'paz permanecar tranquilidade comunidade lili amigo estao privado lili saudade bater peito cria estao mais aqui aqui permanecar tranquilidade comunidade lili amigo privado lili saudade bater peito cria estao mais aqui aqui',\n",
              " 'paz permanecar tranquilidade comunidade lili amigo estao privado lili saudade bater peito cria estao mais aqui aqui permanecar tranquilidade comunidade lili amigo privado lili saudade bater peito cria estao mais aqui aqui',\n",
              " 'transparencia incomodo montao jesus guarde louco mundao brinde liberdade irmao jesus guarde louco mundao',\n",
              " 'distancia maltratar saber fortalecer relacao mais aguentar Aviao ta caro busao diferente voce norte sul cer cinza azul saudade exatamente igual sao natal voce norte sul cer cinza azul saudade exatamente igual sao natal sao natal',\n",
              " 'entao joga entao joga entao joga popo piroca entao joga entao jogo ir mozao jogar popo piroca entao joga entao joga entao joga popo piroca entao joga entao joga entao joga popo piroca',\n",
              " 'vida jogo ensinar jogar ces achar chegar primeiro ces querer quando acabar rei peao volta mesmo tabuleiro vida jogo ensinar jogar ces achar chegar primeiro ces querer acabar rei peao volta mesmo tabuleiro',\n",
              " 'manha sol esquentar madeiritar acordar cedo sempre jesus passar mae dizer filho pular cair cer ninguem vir ajudar tar aqui tar ajudar cair teto castelo sofrimento passe alimentar coragem completei taco goteira sempre facar melhor plantar colher dobro pequeno ergar cabeco aoa bem vir terra garoa zona leste favor o peito importar lugar piso direito ter respeito nao toa',\n",
              " 'quando falar vencer poder ter certeza mentira deposite fe poderoso ver orientar vida perder so ligar parecer sempre ta ouvir ouvir prece Maloqueiros acreditar sempre dar mao sempre dar protecao senhor acreditar sempre dar valor sempre ajudar senhor acreditar',\n",
              " 'dar tapinha potranca bumbum balanca chamar malandra apaixonar agora sentar sentar sentar sentar sentar sentar',\n",
              " 'ta soltar tanto prender prender boca procurar cara nem deixar boa dancar pista parede fazer gostar saber sentar perder xii agora',\n",
              " 'sentar aurelio vir fazer careta sentar aurelio vir fazer careta sentar senta senta senta senta senta senta sento mama beats chupa ninfeta ninfeta',\n",
              " 'rebola ai calico puxa soltar respira chuveiro acalmar olhar bagunca fazer cama soltar ai calico rebolar fazer magia perigoso calculista querer ver cor calcinha',\n",
              " 'dizer devagar amor forca ainda moca querer sentir dor tratar menina vaselino favor parecer rambo bazuca nuco dizer esfrega malo cara ir frente ir tra malona dar grito entalei quase vomitar virar gay assumir arte pederastia pude dia entao sorrir pedir casamento jumento aceitar lua mel ser egito cama dar grito',\n",
              " 'salve aliado merecedor batalhador pagar pau Madeira largato',\n",
              " 'aprender pensar primeiro acordar sentir cheiro ver maquiar espelho comer cama banheiro',\n",
              " 'deus guarde ter cer bom pisar hoje asfalto ouro aqui terra cumprir papel irmao rafael saudade aqui deixar yeah guarde alma puro perdoe pecado ter vida eterno paz mais anjo lado caminho guia deus pai guia passo levar vida cantar feat fenomenal feat fenomenal',\n",
              " '',\n",
              " 'mais mais briga moca nao mais mais briga ir amiga ir cuidar dar perder vir aqui dar amiga cuidado dar perder vir aqui dar',\n",
              " 'amiga dever dificil voce espelho ate dever querer gostoso linda batonzao vermelho contar aqui gente amiga ta sacanagem olhar cabelo chegar chegar ta maravilhosa nao conhecer ficar ate medo olhar monumento mulher bor beber beijar beijor tchaqui tchaqui bum bum bor beber beber beijar chao bumbum tchaqui tchaqui bum bum bora beber beijar beijor tchaqui tchaqui bum bum bor beber beber beijar chao bumbum tchaqui tchaqui',\n",
              " 'amor confesso tirar dor pecar simplesmente favor quero conhecer lugar mundo voce',\n",
              " 'procuro boca gosto grito seguir baile vida continuar sigo mentir sigo mentir faco malo dou viagem comentario foda ludmillar cidade luz sexo festa droga sinto vazer importar entao volta ai entao volta quero ver entao volta ai entao volta amo entao volta ai entao volta ai entao volta ai droga amor muito dificil',\n",
              " 'whisky agua coco tanto fazer cheio tesao cada vez querer mais vez querer mais tr ficar maneiro jogo clima alto alto alto alto alto corpo quente suar vir melar vir lamber cheiro toque fazer enlouquecer fazer enlouquecer',\n",
              " 'ter amor gente esquecer gente cumprir prometer ter hora ter lugar conhecer palavrar acabar ter amor brincadeira so pensar besteira fazer estrago naoer fede cheirar perder tempo dor cabeca levar prada so apaixonar levar gucci so impressionar maloqueiro lugar dia ter salseiro pra baguncar levar prada ce apaixonar levar gucci so impressionar maloqueiro lugar dia ter salseiro pra baguncar ter amor levar casa levar cama gostar iludir ate falar amar coracao maloqueiro ninguem engana ter amor levar casa levar cama gostar iludir ate falar amar coracao maloqueiro ninguem engano ter amor levar casa mostrar familia rouba alma rouba brisa fazer chorar depois excitar',\n",
              " 'ter amor gente esquecer gente cumprir prometer ter hora ter lugar conhecer palavrar acabar ter amor brincadeira so pensar besteira fazer estrago naoer fede cheirar perder tempo dor cabeca levar prada so apaixonar levar gucci so impressionar maloqueiro lugar dia ter salseiro pra baguncar levar prada ce apaixonar levar gucci so impressionar maloqueiro lugar dia ter salseiro pra baguncar ter amor levar casa levar cama gostar iludir ate falar amar coracao maloqueiro ninguem engana ter amor levar casa levar cama gostar iludir ate falar amar coracao maloqueiro ninguem engano ter amor levar casa mostrar familia rouba alma rouba brisa fazer chorar depois excitar',\n",
              " 'so saber faco faltar vez ligar noite madrugada acordar falta acordar falta cama pegar firme fodemo madrugada acordar falta acordar falta',\n",
              " 'daleste cheguei to sair fora vir chamar top vir so agora angro rei grau querer baile funk adiante',\n",
              " 'passar filme mente bom lembrar gente sonhar mandar rima improvisar gente deus fazer ver ta quebrar antes governador jose escravo antes vencedor davi desacreditar atravessar mar Moises ter fe cajado espelhar ne esse ser revolucionario',\n",
              " 'so retificar poder anotar anota campeao poder rir desacredito nao conseguir humildade chao sair comemorar fazer festa morrao sujeitar homem inspiracao molecada fazer onde caminhar fazer nome pegar quadrada mais espelho pra quebrar querer ficar rico logo ano querer poder ajudar comunidade ver sonho pivete realizar pequeno tumultuando carenagem querer dar melhora coroa ver mae milionar nunca mais trampar querer memo ver truta ser bom lugar',\n",
              " 'lembro chorei voce lembro so fazer sofrer ir arrepender entao antes ir digar lembrar beijo todo dia sentir saudade companhia entao antes ir digar lembrar beijo todo dia sentir saudade companhia entao',\n",
              " 'apontei cer esperanca dia chegar escrevi papel estrela dia brilhar ver mae chorar ter condicao melhor pai esforcar determinacao suor campeao mostrar pro mundao motivacao superacaor sofrer querer sensacao saber missao duvidar correr vario olhar fracasso colar dar abraco nunca deixeir lembrar deixei lembrar quando perdi lago ver vario pular barco mesmo assim deixei remar ter chao so ter fe andar vez chegar poder proximo ter chao so ter fe andar brinde merecedor pequeno rale vencer',\n",
              " 'som bater tambor xereco pau quebrar sentar balancar putarir lado quarto sala sala embalar preferida sentar senta senta senta senta senta senta senta senta senta senta senta senta senta senta senta senta senta senta senta senta senta senta senta fecho olho agora movimentar imaginar cena tu cavalgar rebolar devagar sentar sentar',\n",
              " 'carol niteroi mandar papo nao cerveja vivo gelado ar condicionado ar condicionado comer comer ar condicionado ar condicionado comer comer ar condicionado ar condicionado tirar calcinho meter pau gelar ar condicionado ar condicionado querer ventilador calor caralho querer ar condicionado querer ar condicionado ar pifar trocar namorado quero ar condicionado querer ar condicionado novinho de aqui baile dormir quarto ar condicionado ar condicionado',\n",
              " 'mundo aprender tombo muito bom amar bom vingar vilao coringar vilao coringar playboy asfalto nois pegar esculachar vilao coringar vilao coringar playboy asfalto nois pegar esculachar coringo jogar dedo ar Arlequina ratatata coringar arlequino ratatata coringar playboy asfalto nois pegar esculachar playboy asfalto nois pegar esculachar',\n",
              " 'Manganga afastar nojento cuidado poder ta lado cuidado poder ta lado ter amigo corno abraco corno amigao corno amigao chifre tamanho passar portao fingir saber ligar finge saber ligar falar corno manso falar corno manso falar corno manso cara preto pegar menino comer buceta terminar trair voltar depois terminar trair voltar depois safar boi',\n",
              " 'fazer furto baby coracao roubar amor arma entreguei tu tu querer querer juro fico apaixoneir bandido bandido',\n",
              " 'mano portar fuzil mano portar glock meta criar parar Brasil explodir porra carro forte bg glock bielzin ta glock orochi passar saber rei pinote',\n",
              " 'ce ter foco vencer alemaozinho render trajadao canto portar fendi entao ofender ver passar aprender brabo recusar errar acostumar joia pulso tao ver jogar dinheiro avulso hoje decolar Deus dar impulso tropa mainstreet grande mundo',\n",
              " 'gostar jogar cara assunto particular sempre liga pedir voltar tambem achar aqui nao mais lugar saber dar certo historinha voce apaixonar',\n",
              " 'ta louca ta doer ta doida ta louco ta louca ta doer ta doida ta louco atencao chao chao bota palmo chao chao chao bota palmo chao chao chao bota palmo chao chao',\n",
              " 'Piririm ligar ligar enterrar areia nao atolar enterrar areia nao atolar ficar to ficar to ficar atoladinho calmo calmo foguentinha calmo calmo foguentinha calmo calmo foguentinha',\n",
              " 'agora dar beijo querer tirar querer mente claramente vida andar frente obrigar virar vagabur suar corpo cama estranho quarto escuro pessoa nao esquecer amar achar ame tambem achar ame tambem so ate achar alguir ame tambem achar ame tambem',\n",
              " 'so tequila som varia perder sempre encontrar perder junto dom olho azul piscinar preto dominar biquini bom',\n",
              " 'pipi bebe ta solto soltar pica louco dar querer trepa rola forca pipi bebe ta solto soltar pica louco dar querer trepa rola forca dj bnaor caralho rola forca dar querer trepa rola forca tar chegar novinha safadeu querer dar vadia safar entao fico suave dj bnaor empurrar vadia safar entao fico suave dj bnaor empurrar vadia safar entao fico suave dj bnaor empurrar vadia safar entao fico suave dj bnaor empurrar empurrar empurrar vadia safar entao fico suave dj bnaor empurrar empurrar empurrar vadia safar entao fico suave dj bnaor empurrar',\n",
              " 'helipar baile favela marcone favela pequeno preparar foder xota ir helipa baile favela marcone favela pequeno preparar foder xota',\n",
              " 'fazer coreografia descer baile ficar vontade chapa bebida fazer tiktok convocar amiga sempre ter foto story gucci more lua car tralha gostar corte puro oh passar nave brisar porte gamar bala love flack peito tralha gostar Corte puro oh passar nave brisar porte gamar bala love flack peito tralha gostar corte puro oh passar nave brisar porte gamar bala love flack peito lost',\n",
              " 'mafioso kit maloca mais bolso estigo cocota pescoco meca lacrar evitar invejoso pennyr face ne piao volvo saber pousar xc pai hoje tommy nois empurrar some olhar tra bandeirinha americano bolso porradao jack buchano milha semana passar balmain olhar tambem calmo golpe saber volta xc falar querer funmaway funmaway funmaway dentro xc calmo calmo golpe saber',\n",
              " 'bander danca danca bander ginga balanca mexem intencao ir cama',\n",
              " 'reparar peca tar reparar capa tua glokar quando pesadao fico molhar doer sentar bandido quebrada igrejinha pia envolver cria soltar ver pista sacolinhr perder bucetinha frente macaquinha',\n",
              " 'desejo inimiga vida longo vejar dia mais vitoria bater frente tiro porrar bomba aqui papo criar fazer historia acreditar faco escudo late mais alto de aqui escuto camarote quase nao ver rachar querer aparecer beijinho ombro pro recalque passar longe beijinho ombro pra invejoso plantao ombro so fechar bonde beijinho ombro so ter disposicao',\n",
              " 'tratar garota sair bota rasgar roupa queimar mola tar bom cheia historia agora chorar chor chor tratar garota sair bota rasgar roupa queimar tar bom cheia historia agora chorar chor chorar agora chorar chor chor tratar garota agora chorar chor chor',\n",
              " 'ver querer certo andorinho so saber fazer verao querer esperar aqui peito abrir querer voltar pro bailao black lanca boca perva deixo molhar louco sentar peca cria boca viver vida louco querer gozar machucar pouquinho tapa so carinho so lembrar catucar gostosinho machucar pouquinho tapa so carinho so lembrar catucar gostosinho',\n",
              " 'cair boca empino toma cair boca empino tomar empurrar',\n",
              " 'vida meio baguncar preciso alguem dar mudado amor Confio parada ver ouco bokaloka dar amenizada vida meio baguncar preciso alguem dar mudado amor Confio parada ver ouco bokaloka',\n",
              " 'boladona boladonar madruga boladona sentar esquina esperar passar alto hora matina esquema todo armar esperar chegar balancar coreto voce lembrar cachorra gatinha adiantar esquivar soltar fera botor bicho pegar',\n",
              " 'taca chandon bom calor edredom bom tirar batom bom bom bom bom bom relaxa querer querer prazer noite prometer naturalmente acontecer',\n",
              " 'kit portar portar',\n",
              " 'dizer parceiro mc careca braco forte ter disposicao dalar bonde ter lado ruim tambem lado bom equilibrar por desequilibrado ficar ligar entao dobra atencao',\n",
              " 'mulher compromisso fora resumo assumar realidade desejo sonho consumo favor sonhar comigo quando acordar iludo ai insonia chorar enquanto neblina sumo olhar feroz chegar maldoso ideia libidinoso gostar muito fazer favor longe chamar amor dar bola rebolar insistir grudar nem colar pegar ser amor escola professor calco colar decote fino vir rebolar sempre sorrir invejoso cruzar dedo deus bem mais forte saber ter segredo entao causar causar memo rouba cena filme incomodo saber linda humilde ainda moda maravilhoso mexer amigo mexer gostoso menina professora ensina errar intencionado mesmo assim bom',\n",
              " 'bota boto bigode xoto bota boto boto bigode xota entrar tesao caralho bota pipokinha boto bota pipokinha boto pipokinha boto bota pipokinha boto bota bota bota bota bota bota bota bota bota botar pipokinha ei dj pablo rb botar bota bota bota pipokinha boto bota bota bota pipokinha boto bota bota bota pipokinha boto bota bota bota pipokinha boto bota bota bota pipokinha',\n",
              " 'briga demais saber loucurar chamar cama depois briga rua de oi voce saudade queima peito especialista sofrer',\n",
              " 'sempre adorar pancadao te trazer base aqui entrar vacilao entregar coracao mano malocar achar parar pensar automatico quando tu mexer parar bunda balanca voce conseguir mais parar bunda balanca voce conseguir controlar beber mao joelho bater palma bater palmo potranca desesperar bater palma palmo beber mao joelho bater palma bater palmo potranca desesperar bater palma palmo',\n",
              " 'flautar envolvente mexer mente presente saliente ficar louconar jogar gente falar assim falar assim ir bum tar tam vir bum tar tam tam mexe bum tar tam vir descer bum tar tam tam mexe bum tar tam vir descer bum ir vir bum bum treme bum tar tam tam tam vir tam tam tam tam tam tam tam tam tam tam tam tam tam tam tam tam vir tam tam tam tam tam tam tam tam tam tam tam tam tam tam tam tam vir tam tam tam tam tam tam tam tam tam tam tam',\n",
              " 'vario homem bomba bomba bomba bomba bomba aqui vario homem bomba lomba taca taca taca taca taca taca taca taca taca taca taca tacar',\n",
              " 'so convidei mais belo grande potencia balanca raba praia localizar ai perder vida bom mundao hoje pai bem longe casa hoje pai bem longe casa so bunda bunda barulho mar bailao tocar forte mao plataforma guaruja acionar encostar chamar raver praia viradao',\n",
              " 'pessoa facil lidar gostar voce negar cara mandar voce bloqueia mandar mensagem pedir voltar',\n",
              " 'rodo cpx tegar elmo complexao fluir aqui morrao bom gestao nois tranquilao favelar chique patamar nascer brilhar tentar parar brabaar pegar proteger nao dorme vario recalcar inveja pai forte cpx tegar elmo complexao fluir aqui morrao bom gestao nois tranquilao',\n",
              " 'fazer tempo gente enrolar Embola tempo passar dificil suportar voce gingado cabelo cacheado jogar lado saber hipnotizar fazer durona coracao pedra abrir brecha cupido flechar deixar levar festa conhecer direito respeito poder trocar beijo jeito carioca saber aperto beck voce fumar mais tarde hora passo buscar vir comigo gata amarrar gostar poder ficar sempre amarro tua marra estilo independente',\n",
              " 'Cabo chao cabo chao cabo chao cabo',\n",
              " 'job copo gin cuidando vida nois seguir game viver assim job copo gin cuidando vida nois seguir game viver assim',\n",
              " 'pulo muro pulo pulo muro pulo muro pulo pulo muro caio cima caio cogumelo cima cima cima cima cima cogumelo cima cima cima cima cima cima cogumelo cima cima cima cogumelo cima cima cogumelo cima cima cima cima cima cima cogumelo cima cima cima cogumelo bonde esperar bonde ta esperar desce cano empurrar empurrar descer vou empurrar cima cima vou empurrar cima cima cima cima cima cima cogumelo cima cima cima cogumelo cima cima cogumelo',\n",
              " 'cair boca bocetao cair boca Bocetao Bocetao bocetao bocetao agora contigo',\n",
              " 'to junto futuro ver inveja andar tra tchau falar olho obeso tanto olhar vida pai tchau falar',\n",
              " 'descer so label pro pequeno poder tomar chamar gata pro piao inevitavel saber mais tarde ir saber perder estrutura ate perder postura pequeno',\n",
              " 'ai rocinha aqui nois fumar putaria rola firme bate bumbum dormir aqui gostar encanto famoso degustar forte beber cavalo branco final ano revoar perversa peca embicar puxei ser linha descer boca veneno cabelinho camisa flamengo bonitao Meno rocinha frente faccao ta linha pique ahn entao lindao entao pegar visao',\n",
              " 'banho agua salgar corpo sujo areia alguer falar pro pescador mentir coisa feio viver pescaria cair teia ouvir hipnotizar canto banho agua salgar corpo sujo areia alguer falar pro pescador mentir coisa feio viver pescaria cair teia ouvir hipnotizar canto sereia dj perera original',\n",
              " 'fumar marijuana mina capricorniano tirar calcinho roso violeta deitado cama ta chapar querer tomar vin tipo tuezin so fuma bom green sentar cara olhar noite quase fim linda moco voce calcinha parecer ficar mais gostoso fuma haxixe kunk puro Manga roso tamber fumar verde borracha bola jogar mel carbura vela fazer fumaca olhar retina mente falar amar vento trazer momento temporario piranha falso sentimento trazer bom lembranca ter voce lado capricorniano jogar seda deitar cama ter voce lado capricorniana ter voce lado capricorniano',\n",
              " 'dificil voce acreditar cara bacano quando gente briga ai amar entao esquecer logo vir aqui cama dificil voce acreditar cara bacano quando gente briga ai amar entao esquecer logo vir aqui cama amar amor cara ver problematico ciumento saber fodo cama amar',\n",
              " 'jogar tropa cara tralha jogar tropa cara tralha jogar tropa cara tralha jogar tropa cara tralha pente alongar cordao pescoco vulgo camisa dinheiro bolso querer criminoso ce saber gostar perigoso brota aqui ver bom sentar bandidao descer bandidao senta bandidao descer bandidao senta bandidao descer bandidao senta bandidao descer bandidao senta bandidao descer bandidao',\n",
              " 'etapa sofrimento so saber mesmo passar dentro gestao casa pedra so servir ver fechar fecho pro mandadao ter paciencia falar demais ausencia mexeu tr agora sustentar tamo volta querer ver aguentar',\n",
              " 'bem diferente quando tratar gente bem diferente quando tratar gente',\n",
              " 'bololo sigo coracao partir revoada embalo solidao envolvi alguem brincar ter medo relacao hoje recebir convite perera encostar ir disciplina ter casado casamento amigo revoar festa mina boto pop smoke balmain enjoar terno mais caro casar unico solteiro chegar apadrinhar unico solteiro fazer despedida ter cuidado mulher davi andar quadrada sempre engatilhar foda cunhar gostar saber arrastir casado revoar planar dar plano historia render manchete pagina piar gordin bololo fazer sequestro festa levar casado revoada fudeu fuder fuder fuder dar perder casado hah cunhar aparecer fuder fudeu fuder fuder dar perder quebrada hahr cunhar aparecer achar moio pro tubarao achar',\n",
              " 'casar putaria abandono nunca adorar pernoitar vivencia maluco faltar comida casa procuro rua cachorro nato baby atura surto',\n",
              " 'casar putaria abandono nunca adorar pernoitar vivencia maluco faltar comida casa procuro rua cachorro nato baby atura surto',\n",
              " 'entao maozinhar palma bonde tigrao',\n",
              " 'maquina sexo transo igual animal bonde sexo anal',\n",
              " 'cheguei cheguei cheguei chegar baguncar zorra dane querer mais exploda ninguem estragar dia avisar poder falar cheguei cheguei cheguei chegar baguncar zorra dane querer mais exploda ninguem estragar dia avisar poder falar cheguei chegue i quebrar poder olhar apagar aumentar som recalcar falsiane conspiro despertar inveja alheio ter dom gostar sentar chora hoje fim incomodar gostar sentar chora sair casa causar',\n",
              " 'tentar enganar querer mais parar pagar ver voce',\n",
              " 'brigar bem alguir so tao bem ciumir normal mundo ter medir demais fazer muito bem nao capaz trocar querer contigo envelhecer dormir conchinha neguinha',\n",
              " 'ser dispor vir bater frente nois lenha bagulho aqui serio arrebentar bonde pesadao ter marcha lento bagulho aqui serio arrebentar bonde pesadao ter marcha lento',\n",
              " 'deixar ar fazer viajar arrepiar subir montanha pico conquistar vir saber gostar vista deixar ar fazer viajar arrepiar subir montanha pico conquista saber gostar vista',\n",
              " 'companheira fe abandonar cair ajudar levantar aceitar jeito',\n",
              " 'conexao incomum quimica perfeita achar lugar descer so ver bater bumbum chao fato aumentar tesao',\n",
              " 'deixar tempo resolver vir viver sentimento love vir viver historia',\n",
              " 'olhar amo querer tanto beijar corpo nu mentira hipocrisia voce ficar blue',\n",
              " 'nunca ver ninguem dancar mina nunca ver dancar mina frente deixar louco vir fascina frente deixar louco fascinar falar tar bom ainda melhorar fato querer fato consumar minuto ideia abracar ai Sereia cair conto pescador nunca ver ninguem dancar mina nunca ver ha ha frente deixar louco vir fascina frente deixar louco fascinar',\n",
              " 'mao crise bonde fazer dinheiro mostrar dedo meio governo fodar falso em omos verdadeiro querer comigo vir comeco',\n",
              " 'brincar molecadinha lembro quando so preocupar ir gol bomboniere tia alegria ter tubaina fechar ficar martirizar ser humano dar valor depois perder perceber dano venhar convenha gosto sao perceber ganhar',\n",
              " 'tar quieto casa fazer acabar voltar atual jurar voltar jurar voltar car surtar coracao amolecer jogar sarrar descer pica endurecer bater saudade tar plano repente acontecer foder coracao amolecer jogar sarrar descer pica endurecer pica endurecer bater saudade tar plano repente acontecer foder foder produzir boom mais explodir',\n",
              " 'coracao alaska jacare ta cheio firme palavra maloca jeito desbaratinar ir preto milha vir peito',\n",
              " 'penetrar penetracao penetrar penetracao piroco socar direto entrar sair bucetao quer enganar criar rua',\n",
              " 'lembro madrugada medo bala ver velho dobrar joelho enquanto orar lembro barriga roncar mesa sempre acreditar pai ali tar contar historia pequeno ce chorar ter dia achar ali hora saber ha noite momento hora saber ha noite momento hora agora poder passar responsa tamo capacitar mandar refrao som mandar aprender mundao som mandar aprender mundao letra falar pouco treta noite viver ilusao mae pedir esqueca nunca deixar dar atencao saber mau olhado rodear deus lado situacao mesmo andar caminho errar lado nao soltar mao querer dedicar vitoria honra gloria dar somente pai querer dedicar vitoria honra gloria dar somente pai maloka porta so derrota contar bom de aqui aprender lutar bom de aqui aprender lutar maloka porta so derrota contar bom de aqui aprender lutar bom de aqui aprender lutar',\n",
              " 'paola paolo paolo paolo afogar tua piriquita porra beat bolha afogar tua piriquita porra beat bolha afogar tua piriquita porra beat bolha tomar sequencia pica posicionar sentar cima posicionar sentar cima posicionar sentar cima',\n",
              " 'bem necessario briga ficarmo bem maturidade querer nao dizer ter curtida passar direct cheio tambem falar nome alguir voce tipo mulher vagabur cuidado andar cuidado nao queimar dar tempo querer liga querer muito louco quando gente transar nao facar esperar',\n",
              " 'broto reta vir exibir querer ensinar voce brincadeira novo tipo andar bicicleta mostrar ce mais esquecer cupido querido capricha tiro acertar maluca querer doida',\n",
              " 'cantar canto cantar restar sonhar sonhei tar linda parede tinta criancar correr meio rua cer tar cheio pipa barriga vazer dona mario sorrio ter ate barraco sacar virar frente piscina acreditar chuva carro importar pequeno desfilar tar paz policiar passar preto pobre favelar respeitar discriminar ali ninguir mais via sol nascer quadrado',\n",
              " 'menina puro talento descer joga maozeu alto enlouquecer gostoso beat encor rebolo pique escutar bater vir dancarina doer sentar doer sentar doer sentar provocar descer instigar',\n",
              " 'cuar cuerpo talento saber Bajo ahi caliento dame trago apenar vo empezar dame trago voy parar chico bailar hasta abajo hacier cuar mira pista son dancarina',\n",
              " 'joelho chao forte oracao face voltar solo assim inicio mais belo dia pedir termine bem dai protecao zoiao lutar querer colo quanta hipocrisiar caxola vazia olho vintem mal querer bem bem querer mal nunca bom poder ter certeza poder chamar braco fiel milhao transmitir pureza merecer colheita farar jus semear ver vario retroceder regar odio semente rancor perdoar alguir fundo peito ajudar alguir mundo precisar ver pedir perdao pecar imperfeito feio cobicar vir ter mal querer bem bem querer mal nunca bom poder ter certeza poder chamar braco fiel milhao transmitir pureza mal querer bem bem querer mal nunca bom poder ter certeza poder chamar braco fiel milhao transmitir pureza',\n",
              " 'dance danca maozinha final dar rodadinha olhe prum lar olhar pro prepar terreno danca comecar',\n",
              " 'atra meta nao consigo parar querer ver cair vacilar hoje sofro amor hoje vivo cantar jaguar morumbi guaruja',\n",
              " 'entao deixar dar bom mistura cama merecer som plaq colchao falar baixinho ir nao nao',\n",
              " 'chamar professor saber cama perverso vez beijinho namorar so querer sexo voce ficar assanhadinha',\n",
              " 'foder buceta filho puta deixar marca tapa bunda',\n",
              " 'amar porra deixa onda nao enganar amar porra poder falar lembrar quando querer transar amar porra deixa onda nao enganar amar porra poder falar lembrar quando tu querer ha',\n",
              " 'entao deixar porra vida levar voce perceber deixar fingir esquecer desligar celular vir dificil explicar',\n",
              " 'deixo voce louco vontade transar comigo olho cara safar bander hoje noite trazer surpresa voce carro ver dentro carro hoje ter putario dentro carro hoje ter putaria senta senta senta senta senta valer pena sento senta senta senta senta ha sentar senta senta senta senta valer pena sento senta senta senta senta dentro carro sentar senta senta senta senta valer pena sento senta senta senta senta ha dentro carro',\n",
              " 'curioso querer saber papai ter macete ter chance ter interesse antes responder pergunta vira costa avaliar bunda querer saber solteiro namorar depender depende perguntar depender depende perguntar depender depende perguntar',\n",
              " 'bem fazer comigo preciso abrigo bem favor fazer preciso carinho atencao',\n",
              " 'deixar tentar explicar nem ve passar mentira foda falar aceitar mais pagar preco covardia deixar tentar explicar nem ve passar mentira foda falar aceitar mais pagar preco covardia covardia moleque bom ajudar preciso trabalhar sustento vicio deixar cavalo andar parar prosperar avancar sempre continuar',\n",
              " 'slap flap tcheca splash afogar pau xereca rocket poc ploc ploc ploc pular pererecar slap flap tcheca splash afogar pau xereca rocket poc ploc ploc ploc pular pererecar',\n",
              " 'novidade destrar passinho cozinhar hit lancar de aqui envolvencia puro pique gostosin vir jogar deslocar desenrolar bate jogar ladin desenrolar jogar ladin hawaiano lancar braba pro menorzin desenrolar bate jogar ladin desenrolar jogar ladin desenrolar jogar ladin ladin ladin ladin acompanhar rei danca jogar ladin jogar ladin jogar ladin jogar ladin jogar ladin acompanhar rei danca hitzin olhar coreografia desenrolar jogar ladin desenrolar jogar ladin acompanhar rei danca hitzin',\n",
              " 'entao senta gostoso deslizar colo pai entao senta gostoso deslizar colo pai',\n",
              " 'tentar entregar coracao querer saber dizer parecer amar nao querer fazer sentir melhor mais mulher desejo saude bom ajude voce cuidar cuidar deixar sentimento entregar momento antes dizer adeus',\n",
              " 'dentro igreja pastor dizer entregar poderoso depositar dar plantar voce colher dobro quanta vez chorei quarto calar ter esperanca desacreditar sonho ver som estourar dormia sonhar acordar coloque empecilho sonho historia vida deus compor acreditar entao proponho deixar Deus comando tempo perfeito perfeito saber hoje amanho chegar trampor direito ter jeito passar visao destino vitor',\n",
              " 'marks novamente muka achar vida satisfazer juro querer mudar de aqui atra progresso adiantar so querer ver familia mais feliz sorriso rosto coroa valer mais barra ouro dar de aqui tempo nois ir ta sorrir meto marcha buscar mostrar favelar tambem poder risada cara desmerecer olhar pequeno hoje abrir janela vento bater ruim deixar vento levar enquanto ter forca viver nunca deixar sonhar dizer racional sempre sonhador manter vivo pequeno buscar so voce poder alcancar nunca deixar sonhar marks novamente nunca deixar sonhar abrir janela vento bater ruim deixar vento levar enquanto ter forca viver nunca deixar sonhar',\n",
              " 'mais vez fazer inabalavel naveguei mar bravio mente instavel assim tirar onda ate dificuldade adaptar adversidade ter tira cifro ter tamber forca vir nota pecador sim errante vir proprio suor guerreiro perseverante sigo ditar bom mau diferenciar marrento sim pes chao tombar aliado ligeiro pousadao botor diferenciar marrento sim pes chao tombar aliado bem ligeiro pousadao botor decolar botor decolar diferenciar malote firma fraco tornar firma forte duvidar hoje morder quando bielzin passar porte',\n",
              " 'trofeu ir voce preciso dizer pergunte fazer merecer mulher espetacular querer ver novo diferente meu dai nao sentar fofo entao explicar amiga querer novo chegar jeitinho carinha anjinho assumir levada representar raba neiff colocada neiff botada neiff vir botar depois tapa cara eu colocada neiff botada neiff vir botar depois tapa cara eu colo colo colocada neiff vir botar depois tapa cara representar raba representar raba neiff colocada neiff botada neiff vir botar depois tapa cara agora entender agora saqueir mais ter jeito',\n",
              " 'dj perera original apresento teter papai noel presente piroca cair cer acucar mel passar noite comigo ver teter cruel acucar mel presente piroca cair cer',\n",
              " 'dinheiro festinha privado ter mais',\n",
              " 'vir semana fim semana feriado remedio controlar disco arranhar parte dizer amo amo amo amo amo amo amo amo luca beat',\n",
              " 'arerir leoes tuf ate morrer arerir leoes tuf ate morrer arerir leoes tuf ate morrer',\n",
              " 'bandida sentar trar quico pro metralha voce jogar rabar solto fumaca congela tempo quando comigo ne nois saber memo tratar mulher dose flor licor sabor dose flor licor sabor falar odeia saber amar explicar sexta querer vir cama estresso doidona surtar hora tranquilo cara virar querer ficar tranquilo beber gelada ver voce rebolar la sacar esquecer problema esquecer noitada hoje focer junto',\n",
              " 'donar gigi dasqui aqui esposo ih dasqui dasqui ai esposo ih dasqui sim agarrar separar briga ligar querer carinho gostoso bico soco tr cruzar pena levar casa nem graca querer mulher cacador estao pista dizer agarrar separar briga ligar querer carinho gostoso bico soco tr cruzar pena levar casa nem graca querer mulher cacador estao pista dizer caolha nariz tomar bunda perneta corpo minhocar orelhuda ter unha incravar peito cair caroco costa genteo capino despenca cair fora ir nao dancar chameir guerreiro macedo padre exorcisar vaza tcha tchritcha tchritcha tchum tchritcha tchritcha fede mais urubu falar bem curto grosso contigo hein falar vazar coisa igual nunca ver ir puxa feio',\n",
              " 'jogar bape pegar cavalinho pagar pau povinho so dom perrier sair conversivel mola neymar combina esportivo quebrada zona norte zaki narchi predinho revelacao bico rebelar meca virar tubarao oakley cara foguetao natal ta bala ginzao taco zona norte areo',\n",
              " 'sonho ver voce abrir porta mandar audio volta como querer ouvir voz dizer ainda existir voce sentir viver fico rumo chao jogar vivemos pensar voce hora trazer volta sorriso',\n",
              " 'so mais dose desilusao coracao chapadao querer deus acompanhar precisar voltar errar aprender agora formar faculdade brincar sentimento quebrar amor caco afiar vier falar comigo perder tempo falar perda tempo voce grande dia ja conheci analisar momento agora vejoer quanto bom guardar tempo assim assim assim assim assim assim assim assim poder ter mulher querer lado mesmo assim sinto bom sozin entao quica sentar apaixonar entao Liga chamar vacinar linguajar quico sentar apaixonar entao Liga chamar vacinar linguajar quico sentar apaixonar entao liga entao chama vacinar linguajar entao liga sentar apaixonar poder ligar poder chamar vacinar linguajar',\n",
              " 'moca vir direcao mostrar intencao louco atira coracao vestido branco sapato perder cinderela gastar mo nota corre virar ver tamanho sorriso donzela donzela',\n",
              " 'ok vir bem vamo ali noite levo dancar entao bota bom roupa roso boca bem nem precisar mistura ali pouco aqui ofereco bem mais drink Rebola rebolar',\n",
              " 'fiel olhar cara amante debochar haha amante olhar cara fiel debochar haha fiel ha agora esculachar amante ha ha esculachar',\n",
              " 'sequencia vapo sequencia vapo sequencia vapo sequencia vapo tocar Mandelao apegar querer compromisso nois meter rolar tchau bander apegar querer compromisso nois meter rolar tchau bandido tacar xereca tacar xereca sentar pro criar boca falar gostosin tacar xereca tacar xereca sentar pro criar boca falar gostosin hoje ter festinha aqui dentro barraco arrastar pro beco sequencia vapo sequencia vapo sequencia vapo sequencia vapo',\n",
              " 'thaysa maravilha junto poder convocar menina comecar ensaio primeiro maravilha chegar disposicao descer subir tomar descer subir tomar descer subir tomar rajadao segundo maravilha acabar terminar agora solteira ninguem segurar bate bate bunda calcanhar bate bate bunda calcanhar bate bate bunda calcanhar terceiro quarta sao bom amiga jogar pernar pro alto passinho gira giro giro gira gira girar agora menina fazer sincronizado mandar quadradinho chamar',\n",
              " 'pocoto pocoto pocoto pocoto eguinho pocoto',\n",
              " 've poder poder encostar camarote querer sacar ve poder poder encostar camarote querer sacar ve poder poder encostar camarote querer tomar love dj alguir muito love lover',\n",
              " 'movimentar mola movimentar mola r',\n",
              " 'loucura penso olhar vejo postura querer arrumar ta bagunca deixar arrumar novo baguncar machucar coluna corpinho lir Deus fazer fazer enxergar novo como primeiro vez coracao tar fundo poco',\n",
              " 'movimentar movimentar movimentar movimentando camarote festa querer ver dancar tu faixa roso tipo gin rebolar rebolar bunda festa querer ver dancar tu faixa roso tipo gin rebolar rebolar bunda',\n",
              " 'querer han ate manha',\n",
              " 'saber vir longe sinalizar lotar mina gostoso chamar dedin chapar cheio vontade mandar papo rolar baile pagar piloto ver cena quente carro vir sacolejar raba frente nenem querer botadona brabar dar so botadonar bem so botadonar bem vir sacolejar raba frente nenem querer botadona brabar dar so botadonar bem so botadonar bem so botadonar bem bota boto boto bota aqui botar boto boto botadonar botar boto boto bota aqui botar boto boto botadonar botadonar botadonar',\n",
              " 'bom transar puta profissional bom transar puta profissional vir foder clima quente calor grau bom foder puta profissional vir foder clima quente calor grau mina doer fazer coisa absurr mina doer fazer coisa absurr piroca encaixar xota saco bater bunda encaixar xota saco bater bunda mina doer fazer coisa absurr mina doer fazer coisa absurr piroca encaixar xota saco bater bunda encaixar xota saco bater bunda mina doer fazer coisa absurr mina louco fazer coisa absurr encaixo xota perer encaixo bunda encaixo xota perer encaixo bunda',\n",
              " 'coxao rabao baitar baita Cabelao faixa roso cobicar rainha succao vario posicao maneira aprender passado ano enganar terminar namorado ai sati rainhar sexo mina abuso sucesso destrar cara destrar vir cima prepara destrar cara destrar vir cima prepara vir cima prepara fazer pose tamaro sentar cuzar vir cima prepara fazer pose tamaro sentar cuzar sentar cuzar',\n",
              " 'chegar rouba cena deixar moleque babar porta pico arrumar buchicho invejosa xingar baladeira gostar compromisso encanta jeitinho nao ninguem chegar lance quando chegar baile atracao ficar descontrolada som tamborzao vestido coladinho descer chao terrivel andar desfila top capa revista mais mais arrasa look tiro foto espelho postar facebook',\n",
              " 'rebolo pai novinha descer descer rebola pai em ovinha descer descer rebola pai novinha descer descer rebola pai em ovinha descer descer',\n",
              " 'tropa farma tropo farma tropo farma tropo farma tropo farma tropo farma tropo farma tropo farma querer ver ces tentar bato botar bigode pequeno acertar ter meiota milicia brotar matar voce',\n",
              " 'amar voce destruir amor enquanto viver tentar apagar dor notar acabar triz desejo Sejas seja feliz',\n",
              " 'hoje ligar esquema formar sextar bandido car enquadro ter patrao patente alto gerente fogueteiro bander sentar primeiro so bandido gostoso tropa ta demais ter escolher querer sentar mais duni duni hoje escolher bota boto foder fode gostoso bota boto foder gostoso so abusadao cara fechar posturar gostoso gostoso gostoso bota boto boto bota gostoso gostoso bota boto boto bota gostoso gostoso',\n",
              " 'pensar voce pensar quanto ainda ter acontecer quanto ambicioso pensar buscar so ter voce',\n",
              " 'fechar olho mente desenha tapo ouvido escutar voz so pensar nunca mais ver mundo tao cruel gente viver superar inimigo usar forca oprimir oprimem ir paz irmao ficar saber dia encontrar pequeno esperar valeu pequeno esperar chegar',\n",
              " 'serper contar parada aqui pegar visao encostar trazer boldo fumar caracar lanca avistar vitimo machucar espirra lanca cachorrar rolar espirra lanca fim transar serpir espirra lanca cachorrar rolar espirra lanca fim transar nois tar pai chapadin to caralho foda espirrar lanca fim transar serpir espirra lanca cachorrar rolar',\n",
              " 'mandar vida terminar mensagem horo tu liga saudade lingua querer matar vontade pena acabar gente saudade vir sentar vir sentar vir sentar vir acabar amor eterno sacanagem senta senta senta matar saudade senta senta jeitinho saber',\n",
              " 'logo manho fumei primeiro dia dar abraco veinho olhei janelo cade nave cara levar mixa tar ir correria quando cara atrasar correr ces levar pao dia menos dia achar nave jogar mata frente depenada tar cemiterio ligar lugar entrar policia clicar quebrada ver fita graco deus achar achar achar graca achar nave jogar mata frente depenada tar cemiterio ligar lugar entrar policia clicar quebrada ver fita graco deus achar achar achar graca achar achar achar achar',\n",
              " 'empinar paber ficar pei droga empinar paber ficar pei empinar paber ficar pai mandar apaixonar abdo mandar apaixonar abdo empinar paber ficar pei empinar paber ficar pei respirar garota respirar garota contigo pensar ai droga contigo pensar contigo pensar respira respirar garota contigo pensar contigo pensar dj Mandelao Mandelao Mandelao Mandelao',\n",
              " 'hoje ninguem estragar dia so porque acordar companhia nem vir estresse familia casa dia sair amigo ter hora chegar passo cartao saber pagar morte olhar saber quando chegar ter pressa viver aqui aproveitar',\n",
              " 'dia imaginar dentro casa quarto pelada botar gemer tarde noite madrugar pele pele car cara rebolar voce muito tesao muito tesao muito tesao suadinha voce dizer muito bom garoto putao louco imaginacao',\n",
              " 'poder convocar camisa caralho admetar porra sentar senta senta senta senta senta senta senta senta senta senta senta pipokinha safar ter piercing xereca soltar pontinho soltar senta senta senta solta pontinho soltar senta senta senta solta pontinho soltar senta senta sento pau pau cu solta pontinho soltar senta senta sento pau pau cu solta pontinho soltar pau boca pau cu enfiar pau buceta solta pontinho soltar pau boca pau cu enfiar pau buceta solta pontinho soltar pau boca pau cu enfiar pau buceta solta pontinho soltar pau boca pau cu enfiar pau buceta',\n",
              " 'tr bala hoje sentar par antigamente ter hoje so querer parar revista nunca achar',\n",
              " 'sinto raiva tempo doeir ti sinto raiva dever cuidar mais faltar coragem andar sozinha enfim conseguir',\n",
              " 'antes tentar vez vez esqueca vez pensar bem usar sumo chegar hora encontrar saber como falar voce voltar coracao querer esquecer justo ficar lado bem tratar viver viver sincero querer atrasar nem fazer sofrer dificil falar assumar erro culpar infelizmente mar coracao nao escolher falar deixar comecar louco voce saber demonstrar falar amor olho mostrar nada mudar sempre serar luz iluminar cer cantinho bom voltar cancao mais gosto lugar deixar nem pensar faco ir poder acabar deixar nem pensar luz luz poder apagar',\n",
              " 'enfrentar ver fundo poco vez sentir meio povo admitar vez foda tir louco luta jogo ver bike tornar hoho ver barraco tornar mansao confiar querer fazer bom amanha sempre bom hoje',\n",
              " 'juan juro esforcar terminar degradar agradar dificil amar xinga mama arranho menina bipolar bipolar carinho querer forca botar depois bota bocar gostar nois vida louco amar nois vida louco',\n",
              " 'tomar tomar tomar tomar tomar tomar tomar tomar tomar tomar tomar toma caralho',\n",
              " 'pegar mulher pegar fazer mulher ter hora lugar',\n",
              " 'lembro passar taoer linda cheiro bom ficar aqui ar mente pensar gente acontecer grau demais voce sorrir coisa ficar louco so fumaca tua bocar voce sentir brisa ver chegar brisa ver dancar paralisa juntar boca boca tirar roupa curto vida coisa amor vez chegar amor subir domingo dor beijo curar acordo segundo to sorrir',\n",
              " 'pegar fogo nois ta soco europeu dominar jogo nego famoso pesar ouro jujuzao testa jujuzao testa',\n",
              " 'brisa vibe kevin chris tamborzao fazer mexer lim ppg poder comecar descer habilidoso vir jogar abrir fecho quicadinha passar sensualizar dar sarradinha',\n",
              " 'dentro pratar tocar escobar bitch jogar cara mira flash fama mete marcha trombar bom revoar fazer story postar glockado',\n",
              " 'menorzin exibido gostar andar estilo porta glock baile balao ouvido amarrar so bander paro cheger arrodear bico menorzin exibir gostar andar estilo porta glock baile balao ouvido amarrar so bander paro cheger arrodear bico',\n",
              " 'hoje poder acordar tarde acordo manha poder chapar mente prefiro facar trampo depois casa tambem santinho levo gata saber usar fazer procurar ter muito oferecer hoje meto marrar quero saber mar mar mar mar mar mar mar mar mar mar mar mar mar',\n",
              " 'cara cara por o pele corpo transe voce sexy agradecer deixar levar merecer',\n",
              " 'fiz fiz ve been faking lover been faking lover notar saber obsessaor ve been faking lover been',\n",
              " 'olhar lar passar bonde ficar caozar porrar comer olhar lar passar bonde ficar caozar porrar comer',\n",
              " 'tirar roupa agachar mama mama tropar famoso pipoka tirar roupa agachar mama mama tropar famoso pipoka',\n",
              " 'doutor saber fazer cota aproveitar sol raiar doutor saber pensar imaginar nois parar pai livre guarde covarde sujam bandeira propagar mal emocionar trazer inverdade verso rasteira desleal',\n",
              " 'entao sarra entao sarra bundo chao bundo chao entao sarra entao sarra',\n",
              " 'olhar perder curva corpo bronzear creme uva carinha anjo diabo cama quente sol',\n",
              " 'olhar perder curva corpo bronzear creme uva carinha anjo diabo cama quente sol',\n",
              " 'dio mio forma pasa finjo entendi dio mio dame paciencia necesitare coraje dio ver forma ese rizado quien dejo chico quien dio bendecir',\n",
              " 'tiro cabeca gata gente conversar praca dia passar quando toquei ser voce apaixoneir amor aumentar momento fiquei pensar logo casamento amor deixar assim pecar favor voltar morar estrada posse dizer mundo amo voce morar estrada posse amor lir querer voce',\n",
              " 'festa vagabur carro cheio piranha ter falta espaco cama mal acostumar viver so gata esquecer quenga tacar so madame voce fazer faco voce fazer dizer copo espaco baile bandido alma vivo falso romance ficcao deixo acreditar cupido olhar vagabur naipe artista car bolar saber atico sempre ter mais louco feroz assumir cargo Malandro doutrinar pader escuto voz passar roncar jaguar blindar paro analiso mais gostosa reparo diamante pandora novo chave viver auge Bull terrier querer hoje late paro analiso mais gostosa reparo diamante pandora novo chave viver auge Bull terrier querer hoje late',\n",
              " 'mansinho igual coelhinho gostoso colo pai',\n",
              " 'assim desejo fim querer instante alto falante poder falar existo longe voce solidao mau castigo conto hora poder ver relogio mal existo longe voce solidao mau castigo conto hora poder ver relogio mal comigo',\n",
              " 'Filho heranca vida infinito promessa deus presente pai abrir porta cer Deus enviar voce tempo esperar ate vir ver hoje sorriso nao so coroa quando vejo sorrio toa so pensar ter nome santo criei parecer anjo',\n",
              " 'ter medo filho dono grande responsa sujeito homem carro bicho fiz endoidar hoje passar dar',\n",
              " 'fim semana quebrar deus querer pegar pancadao virar madrugada noite ninguem dormir',\n",
              " 'troco nao nao tao varia parada ha tempao hoje nois poder escolher nois comer saber nois',\n",
              " 'querer flor vida sorriso iluminar lagrima despedida estarar perto enxugar querer viver vida querer flor vida colhir jardim amor',\n",
              " 'fogo inveja taco pegar bala faca nunca ver voce capa respeitar bom tacar fogo inveja taco pegar bala faca nunca ver voce capa respeitar bom',\n",
              " 'pretin logo ali vizin povin conhecer falar passar catorze agora faco pe chao moleque bom coracao merecer hein vir fundao zona leste conquistar frente esquecer fundo povo sofrer periferia precisar atencao dia oro dia pecar arrumar remedio curar nacao foi pouco mesmo sofrer sorriso rosto lata fazer prata virar ouro',\n",
              " 'mais vez vitor pro ego chegar fazer crianca levar danca apaixonar nego levar cer inferno fazer corpo objeto olhar olho gemer baixinho mais vez entrego ai fico fora favoravel voce ate esqueco valer enfim poder ate dar onda troca olhar nao atencao surfar mar irmao mexer coracao chegar sumir ainda querer ta razao irmao vir enlouquecer saber lud mundo ainda querer so voce',\n",
              " 'kannalha ter senhar deixar fraquinha kannalho ter senhar deixar fraquinha portar giro fico fraquinha cara freio fico fraquinha todo tatuar fico fraquinha fumar baseado fico fraquinha',\n",
              " 'ultimamente frio calculista mente doutrinar pista vida complicado atividade coletividade sempre fazer dote girar meter aonde nao poder fim tristir saber vir mandar aonde criar abraco puro bom fe pingente peito quinhenta grama nave levo aonde querer ligar nada queimar fazer mais gol pele',\n",
              " 'ooo pecar so protecao poder desfrutar conquista longe opressao',\n",
              " 'bunda baixo ir bunda cima ir bunda baixo ir bunda cima',\n",
              " 'cair fulo cair fulo cair fulo cair fulo la cer terra cair fulo',\n",
              " 'baby alright sentar metal pai saber querer mais poder vir poder vir poder vir',\n",
              " 'bebe dizer onde ver bater saudade voce bater saudade voce querer relembrar tua sentar colo devagar descer subir depois galopa saber gostar saber gostar querer relembrar tua sentar colo devagar descer subir depois galopa saber gostar saber gostar querer relembrar',\n",
              " 'pistola porte ter pistola cabelin apavorar tipo coringar cidade ter limite ter merecer querer estresse chegar reconhecer car crime',\n",
              " 'cura tempo crise pique guardar urso pelucia trazer voce cura tempo crise pique guardar urso pelucia trazer voce',\n",
              " 'gostar notar nota nois momento hora final tipo gta gostar notar nota nois momento hora final tipo gta',\n",
              " 'querer ter querer ser perder assim bobeira tal dar tempo compromisso vir curtir vida solteira moca nao querer meter relacao valer pena dar moral vacilao mostrar hoje bem demais duvidar capaz entao voce chuta balde meter louco dia baile gaiola troco vir ficar so momento proibir envolver sentimento entao desce descer tesao senta senta senta travar bucetinha ficar dividido troca putaria vir curtir vida entao desce descer tesao senta senta senta travar bucetinha ficar dividido troca putaria vir curtir vida entao',\n",
              " 'igual voce saber ter dou nota hoje lembro ainda sonho dia voce vir igual voce saber ter dou nota hoje lembro ainda sonho dia voce vir',\n",
              " 'passar milhao ces par frente devagar oponente parar pra brecar bom tentar frustrante parar pra brecar bom nem tentar ficar inoperante',\n",
              " 'rua piao giro madruga querer cacete entao toma seguro foda invejoso perrequeiro fogo falar pura ir mais',\n",
              " 'giro louco querer muito vir pouco ambicao mais topo olhar pro caminhar viso fazer troco desviar papo torto saber ter vario olho gordo torcida ver poco trampo ideia atra platar interessante miseria carburar velho ignorante to dentro agora vejoer olho brilhante perguntar ta vida certeza bem bom antes notavel agarr chance esper cair joguei mundao cruel dignidade fiz papel agora so aproveitar tempo colheita contar nota agora so aproveitar plantamo trampo hoje comemorar agora aproveitar tempo colheita contar nota agora so aproveitar plantamo trampo hoje comemorar',\n",
              " 'glamuroso rainha funk poderoso olhar diamante envolver fascina agito Salao balanca gostoso requebrar chao',\n",
              " 'esculachar so ter nave sera achar ar entrar garagem ver gol bolinha gol quadrado fazer mina levantar popo pro alto entao ir gol bolinha gol quadrado fazer mina levantar popo pro alto gol bolinha gol quadrado fazer mina levantar popo pro alto gol bolinha gol quadrado fazer mina levantar popo pro alto levantar popo pro alto levantar popo pro alto levantar popo pro alto levantar popo pro alto',\n",
              " 'querer sentar logico logico tacar novinha dentro gol dentro gol instigar popo amassar dentro gol gol gol gol gol gol gol gol querer sentar logico logico tacar novinha dentro gol dentro gol instigar popo amassar dentro gol gol gol gol gol gol gol gol',\n",
              " 'tipo google vida procuro encontrar voce chamar vida sempre respor ce bebe lua ate beijar mar pra ficar vela ver beijo pedido amar voce',\n",
              " 'oruar gucci prar fendi pandora querer oh aqui ce poder escolher ce querer guccir prar fendi pandora querer oh aqui ce poder escolher ce querer',\n",
              " 'dizer querer querer sentar tropa fafa querer ganhar balmain andar carregar vulgo usar chain envolver saber puto fodar bem dizer querer querer sentar tropa fafa querer ganhar balmain andar carregar vulgo usar chain envolver saber puto fodo bem',\n",
              " 'hoje escapar hoje vir festa hoje querer pegar novo hoje ninguir dorme casa hoje brinquedo hoje querer pegar gostoso',\n",
              " 'hoje chorar mais mais mais mais mais mais quero voce vir pai pai pai pai pai',\n",
              " 'hoje parar gaiola ficar marola sentar chefinho jeitinho gostar ficar chapado voltar depois hora tomar tomar tomar tomar tomar gostoso tomar tomar tomar tomar tomar gostoso',\n",
              " 'hoje baile penha rolar so putaria menina dancar amigo taoer missao trazer lanca copao hoje parar gaiola ficar marola sentar chefinho jeitinho gostar ficar chapado voltar depois hora tomar tomar tomar tomar tomar gostoso tomar tomar tomar tomar tomar gostoso hoje parar gaiola ficar marola sentar chefinho jeitinho gostar ficar chapado voltar depois hora tomar tomar tomar tomar tomar gostoso tomar tomar tomar tomar tomar gostoso',\n",
              " 'ficar largar vida Ilusao fazer tempo madrugada plantao fuzil defender chefe ate final baile passar roubar atencao ja normal',\n",
              " 'nao poder acreditar quase sair boca voce beija dizer amar gente transar intencao dizer amor tesao',\n",
              " 'ilhabela dar trago vela vista frente mar ah deitar areia ver sereia mergulhar',\n",
              " 'toque carro caro ligo falar gigante vida curto viver querer casa canto familiar bem sonho hoje proporcionar ces levar serio toque carro caro ligo falar gigante viver querer casa canto familiar bem sonho hoje proporcionar ces levar serio',\n",
              " 'imaturidade palavra chave discussao verdade mentiro maldade maldito mensagem fazer jogar mundao sozinho pedacin mal caminho fazer apaixonar perdi respeito nunca ver maloca jeito aceitar desculpa tapa cara filha puta amo casa odeio rua casado dia solteiro madruga aceitar desculpa tapa cara tapa bunda amo casa odeio rua casado dia solteiro madruga',\n",
              " 'querer alcancar quando alcancar humildade simplicidade deixar brilho apagar',\n",
              " 'vez vir incendear movimento manter cavalgar toma tapa raba ladinho botada cara safar querer var entao empina rebolar entao empina rebolar ir ladinho descer fazer movimento bom bom descer fazer movimento bom bom coisa lindo bebe hoje vir mulher sentar bem vir tropa chamar foder ondinha sacanagem hoje ter ter jeito tr',\n",
              " 'lugar flor trazer flow identificar fiz falar celular jogar parede tela trincar querer retornar tar lembrar abraco apertadao cheiro bom fixar moletom dentro carro rolar competicao jane perfume mozao',\n",
              " 'igual inspirar dia boladao daleste mais forca nunca desistir hoje molecar inspirar ryan kevin visao passado instruir igual inspirar dia boladao daleste mais forca nunca desistir hoje molecar inspirar ryan kevin visao passado instruir',\n",
              " 'achar foda olhar sinal nota morrer saudade volta achar popstar',\n",
              " 'invejoso sair sair ficar querer copiar vida assim mano invejar apertar finin decolar',\n",
              " 'empinar bunda subo mao cabelo quebro ladinho quebro boquinha levo dedo desco empinar bunda subo mao cabelo quebro ladinho quebro boquinha levo dedo invocar',\n",
              " 'mc livinho morrer ciume amigo varia ocorrencia vario crime esconder sigilo cor aquarelar aqui bastar so esconder',\n",
              " 'filha fiz aqui voce quando nascer papai ensinar cantar vida facil entender saber voce mar facilitar saber dificil tentar segurar choro quando chorar alguir querer mexer primeiro ter lidar falar homem chorar so pensar chegar hora dia deixo frente escola casa ter ir',\n",
              " 'carburar vela sentido bailao hoje mecar sapao polo camurca letreiro fiquei chavao polo djokovic outletr premiumr fechei colecao Paiva carburar vela sentido bailao hoje mecar sapao polo camurca letreiro fiquei chavao polo djokovic outletr premiumr fechei colecao',\n",
              " 'forgar jaguar ano Cartao Balenciaga hah mandar puta mais cara haxixe so placo placo aprender vender droga troquei ver musica entao ir mala incomodar vir pegar mao inveja luva demorar hora chegar',\n",
              " 'marks novamente nois pensar mudar de aqui jogar ir lado aonde ter fartura ter estrutura ter dinheiro gastar sonhar tar linda sonho dificil realizar dificil fe saber dia passar jesus olhar verdade nunca deixar olhar agora perceber historia linda fazer testemunhar hoje som estalar carro ouvir voz mais favelado so precisar oportunidade benco coroa lado',\n",
              " 'dizer nao chegar cheguei grande onda vida surfar surfei rolar jogo vida pouco diferenciar chorei familia hoje so alegria festa rave dia salar balinha viver vida recalque ce seguradinha querer perreco cima nao nao querer resto vida curtir pegar visao peco paz saude sucesso muito bilhao fiz mais gol entao tocar bolo mais hitzao ir',\n",
              " 'cansado perreco cansar buxixo viver compromisso virar dia atra correria louco degustar poder chegar',\n",
              " 'aqui jogador caro coracao gelar chave enquadro ima mulher solteiro mais facil nunca apaixonar coracao espaco pro Jacare saber pequeno poder avisar pai novo coracao gelar cama pegar fogo saber pequeno poder avisar boy novo coracao gelar cama pegar fogo moleque mesmo fita querer envolver muito chato colecionar bebe fazer satisfazer poder avisar venho ter mais saber pequeno poder avisar pai novo coracao gelar cama pegar fogo passar visao',\n",
              " 'amor sintar voce dever entender jogo saber jogar nunca ganhar saber sentido amar',\n",
              " 'segundo sexta esporro escola sabar domingo solto pipar jogo bola segundo sexta esporro escola sabar domingo solto pipar jogo bola dance emocao jonathan novo geracao emocao jonathan novo geracao',\n",
              " 'jorginho empresta fazer barulho matar maconheiro',\n",
              " 'jovem reggae ice gastei cache inteiro odeio never persegue virei ima dinheiro',\n",
              " 'juda irmao adorar guardar coracao jur sempre invejar poder chegar onde chegar',\n",
              " 'vir delicia vir gostoso chegar hora vir delicia vir gostoso liberar jogo jogo jogo jogo malocar agora jogar jogar jogo jogo maloca jogar jogar jogo jogo malocar agora jogar jogar jogo jogo maloca tipo cinderela sapato cristal encaixa encaixa encaixa bunda encaixa encaixa encaixa bunda',\n",
              " 'hipocrisia simpatir juncao venenoso imaginar querer apunhalar falsidade dia dia mais perigoso juda enrustir sanguessuga tombar',\n",
              " 'nao sempre enter ver voce longe sintar so tentar dar tempo real so ficar mau volta to sofrer depre so aumentar saber relacionamento briga xinga depois amar',\n",
              " 'cano enquanto achar continuar procurar cano lembrar ver segurar descer continuar procurar saber saber falar',\n",
              " 'let let hoje terminar bololo let let festa bandida bander ter cantor let hoje terminar bololo let let festa bandido bandir ter cantor Mandela beber nois passar abrir sorrisao fuga Liga pisca alerto mostrar direcao miliducar canhao let fartura loucuro hoje querer dar',\n",
              " 'vida louco acordar sonhar terror cuzao chefe piranha vida louco acordar sonhar terror cuzao chefe piranha dizer aonde ver bebe dizer aonde ver dizer aonde ver bebe felp xama xama chamar hair dizer aonde ver bebe dizer aonde ver dizer aonde ver felp xama xama chamar little hair',\n",
              " 'Lei atracao subir descer mao escorregar passar pele patyzinhar meno tal requintada quebrada fazer fumaca mete',\n",
              " 'amar tempo escola dar atencao pedir chance voce dizer marcar ver ir comer abandonar lei retorno adiantar chorar marcar ver ir comer abandonar lei retorno adiantar chorar marcar ver ir comer abandonar lei retorno adiantar chorar marcar ver ir comer abandonar lei retorno adiantar chorar',\n",
              " 'aqui bem voce aqui hoje peguei pensar voce saudade vir destruir demorar ver ce querer ver favelado bem perceber quebrada virar refem ce correr lado plaque provar mostrar nem valer ter',\n",
              " 'explanar microfone querer transar bebeu demais falar pensar amiga nao mina familia embalar ritmo ritmo putario liga samu liga samu querer transar tr dar hemorragia cu atra avisar quando ver ser tr dj anunciar muito preocupado amigo ta treta desmaiar',\n",
              " 'linda moreno voce perfeito grande riqueza beleza natureza sair cabeco sair cabeco sair cabeca antes esqueca mundo mundo princesa mundo',\n",
              " 'encostar pit fique rico vida curto irmaos feder ouro encostar pit fique rico vida curto irmaos feder ouro',\n",
              " 'levar limpa ouvir escutar falar solteiro sim sozinho ficar ate quando namorar varia querer dar respeitar trair trai tempo agora assim loira segundo morena terca quarto vir ruivo quinto pegar japonês sexta nega gostar demais serar ruim calendario papai',\n",
              " 'louco sonhador louco sonhador louco sonhador lembrar quando moleque jet sonhar hornet meca teto solar ir buscar lembrar quando so saia roupa emprestar laber ter mais nunca fiz escada poder chegar sonho grande mesmo pareca distante forca garantir historia ainda espelho pro pequeno',\n",
              " 'loucuro fazer descer bandido medo apaixonar cama vulgo chamar conheco piranha nascer namorar',\n",
              " 'Puto puto so voltar love absurdo Puto puto so voltar love absurdo tubaraor pegar tubarao pegar arruma tua cama hoje baguncar falcao pegar falcao pegar arruma tua cama hoje baguncar',\n",
              " 'ir tua casa conversar roupa deixo suar deixar louco californiano so ficar levar separei grama aqui dentro bag pegar forca pecar boca gosto leite moco vontade faco jeitinho amor carinho escurinho corpo suar voce quando encontrar sequencia lovezinho corpo suar voce quando encontrar sequencia lovezinho',\n",
              " 'corpo suar voce quando encontrar sequencia lovezinho corpo suar voce quando encontrar sequencia lovezinho',\n",
              " 'corpo suar voce quando encontrar sequencia lovezinho corpo suar voce quando encontrar sequencia lovezinho',\n",
              " 'soltar pino granada destravar nike guccir ouro prar solta pino granada destravar nike guccir ouro prar solta pino granada destravar nike guccir ouro prar solta pino granada destravar nike guccir ouro prar',\n",
              " 'faltar sintar voce depois dizer querer vir ver manda mensagem colo liberar subir descer vida noite linda so mais linda ainda amigo sentar preferida malvar atico mexe vir ah ter descer segurar sentar nao encarar apaixonar so voce luz luar estrela acompanhar nois amar ah ter descer segurar sentar devagar nao machucar so voce luz luar estrela acompanhar nois amar ter descer descer aguentar ah ter descer descer senta devagar nao machucar',\n",
              " 'luz luar holofote fluxo seguir firme forte querer aparecer selfie segurar malote tropar ta presente passar visao novinha ta luz luar bate bunda chao arrasto bunda chao bater bunda chao arrasto bunda chao rebolar quico botor mais perder linha perder linha perder linha luz luar deixar maluco amar fazer tatuagem vulgo amar fazer tatuagem vulgo amar fazer tatuagem vulgo so relembrar ligado vida eterno tio papo reto neguinho fiote porra',\n",
              " 'faltar sintar voce depois dizer querer vir ver manda mensagem colo liberar subir descer vida noite linda so mais linda ainda amigo sentar preferida malvar atico mexe vir ah ter descer segurar sentar nao encarar apaixonar so voce luz luar estrela acompanhar nois amar ah ter descer segurar sentar devagar nao machucar so voce luz luar estrela acompanhar nois amar ter descer descer aguentar ah ter descer descer senta devagar nao machucar',\n",
              " 'menina quebrada diamante lapidar ano criticar futuro mal criar muito prazer cancelar incomodar prada gastar so lapada levo filha mal educar fazer fila hater acostumado cuidar dorme exemplo ter casa cancelar engaja viro assunto saio pagina publicidade ficar cara gastar mais prar muito facil voce apontar bem sentadinha ai sofa querer ver fazer nem levantar trabalhar julgar querer lugar diferente saber onde ler bosta criticar engolir seco nunca parar nunca parar nunca parar nunca nunca nunca parar nunca parar nunca parar nunca nunca nunca parar',\n",
              " 'jogar roxo piscina placo mudar clima gostar lingua',\n",
              " 'voce cura jurar nao abandonar fazer perder postura cria admitir negar',\n",
              " 'voce cura jurar nao abandonar fazer perder postura cria admitir negar',\n",
              " 'saber vida coracao para dizer esquecer saber sorriso motivo sempre pensar gente viver linda diferente igual preferida sempre pedir foda vicir saber jeito fazer fode vida acabar postura cria',\n",
              " 'entao joga macicar peito tralha afunda bonezin fazer risco navalha afundo pedal vida louco grau semblante marginal forte forte dar falha bom bom patricia hoje saber impressionar te preguica boto carona hoje banho grife corpo bacana forte abraco aqui correr mais meio macico porradeiro boladao saudade voltar mais falar sorte falar forte abencoar iluminar demais saber bem como quanto mais ce ter ce querer querer oh falar sorte falar forte abencoar iluminar demais saber bem como quanto mais ce ter ce querer querer demais',\n",
              " 'hornet amarok cruzeiro gastar mais amor menos recalque sair morrer mais daleste mandar pro recalque tomar',\n",
              " 'puto bandido marketing jeito gostar playboy odeia paty perigo subir rocar meiota vida bandido querer adrenalinar viver intensamente cortando asfalto sonho bandida viver perigosamente malditar perigoso cara anjo mente maldoso malado gostoso sentar forca raba cabuloso sentar forca sentar forca sentar forca raba cabuloso',\n",
              " 'fe preferida mulher parar maldiva fe preferida mulher parar maldiva poder tocar noite inteirar poder pedir replay cansar paro so voce descansar so ter minutinho festa continuar',\n",
              " 'mandrake cheiroso traje bobo braitir vibe novo audi',\n",
              " 'vida mau cama bom sempre dar presente brisar maloqueiro oakley',\n",
              " 'nao nao evoque arranquei teto teto mansao',\n",
              " 'entao mama pegar Grelo chamar piranha cama xota querer gozar querer dar querer dar mama pego Grelo chamar piranha cama xota querer gozar querer dar querer dar',\n",
              " 'mander sinal alo chance pro mander sinal saudader aumentar golpe fatal mander sinal preciso dizer vida parar voce caos leveir tempo demais deixeir porcao coisa tra errei so olhar bem nunca ver assim so viver relacao detalhe perdi grao Graos deixeir cair sera chegar fim pior perceber vir dar sinal nao ver',\n",
              " 'manto timao explanar visao piao situacao gaviao rasante louco nois fe',\n",
              " 'sucessada belo dia saber girar poder ate falar quanto mais falar cavalo andar aqui',\n",
              " 'matematica ter explicar porcentagem melhor ensinar porcentagem melhor ensinar oral sentar oral sentar pra menina marcombi pedrinho comandar pra menina aqui jota pedrinho comandar quebrar pedrinho ensinar oral sentar oral sentar oral sentar oral sentar',\n",
              " 'tranquilao lazer Cheirosao traje dia baile assim jack maca verde vida lutar obter disciplina humildade mesa balde gin jack maca verde interessar nike esconder pecar sapeca hoje ta cacar chave acender farol meca ligo nave interpretar hoje ter festa dia baile igual nois nao poder procurar so colocadao gostar assim fazer posicao colocar mateer charada querer jogar bunda alto ponta bota bom vestido tira querer hoje satisfazer desejo caio passo caio passo olhar caio passo',\n",
              " 'dia noite ver entro insta so matar ai inver voce conseguir superar amanha saber arrepender amanha saber',\n",
              " 'entao deixar ir fazer mais parte entao deixar ir sumo volto decidir',\n",
              " 'hoje olhar ae agora feliz ver senhora poder viver olhar ae agora feliz ver senhora poder viver',\n",
              " 'mau achar inesquecivel agora imploro querer voltar desejo bom possivel melhor dar jogar bunda meio maloqueragem copao mao paredao tocar faco machucar so aprender valorizar agora paro aguentar pressao vario contatinho rocar bundao agora paredao raba chao tchauzin voce bom livrar bom livrar bom livrar bom livrar bom livrar',\n",
              " 'perguntar sonho saber entao respondi pequeno demais saber entao deus responder calmo filho ter plano passar fazer parte jogo madrugada sentia sono cheiro beira esgoto dificuldade nois passar deixar abalar mente fiz amizade felicidade ver sorriso crianca paz canto canto favela nois gueto pobre maloqueiro servente pedreiro cansei bater prego mae querer engenheiro falar dono predio entao basta sonhar gigante olhar nois alto falante antes rocha hoje diamante outdoor estampar nome',\n",
              " 'fechar porta casa show hoje mundo girar louvar senhor vida mudar abracar abencoar sinto abencoar sinto abencoar oh oh sinto abencoar',\n",
              " 'tchutchuca ter sonho voce como sonho contar querer saber assim so voce sala brincar rima souber tirar roupinha usar usar entao tira blusa querer ate manha vir tirar sutia manha tarde noitinho entao tira sainha ganhar tchutchuquinha mentira mentira perder ta camisinha mentira mentira perder ta camisinha enganar camisinha tar guardar enganar camisinha tar guardar',\n",
              " 'chamar porra basear suave life life olho igual ciclope sempre atividade life life theuzin mandar pra novinho safadinha querer ter Whisky balinha Whisky Whisky Whisky Whisky balinha aqui serrao sucês sentimento chacoalhar pau aqui dentro chacoalha pau aqui dentro',\n",
              " 'bem ce jogar cara ta bem gastar gucci versace ta bem chamar amor quando conver convir',\n",
              " 'sexta feira baile fechar varia garrafa esquecer sofrimento passar voce saber fita vir caminhar ligar ne veinho poder pode',\n",
              " 'hehehe toma voltar caralho muito muito bom dia povo aqui baile egito mano devorar caralho mano devorar jogar rabao la selva lambuzar pote mel amassar tropa homem reverse sentar pique jogar rabao la selva lambuzar pote mel amassar tropa homem reverse sentar caralho aqui baile egito mano devorar mano devorar',\n",
              " 'dar valor agora arrepender mais caro conhecer iludido sorriso agora odeio saber avisar jogo dia virar orgulho acabar agora voce pagar preco ficar ai novinha desprezo dizer ai feliz agora curtir voce chorar brincar sentimento so to curtir bom momento',\n",
              " 'mc saber voltar pra tchuca bom opcao fodir marcha play porra verao saber fazer passado tirar deixar lado agora saber voltar pra tchuca bom opcao fodir marcha play porra verao saber fazer passado tirar deixar lado agora',\n",
              " 'deixar vida levar vida levar feliz Deus dar miguelina saudade mae bater oracoe senhora',\n",
              " 'guih original caralho boca plantao tocar tubarao cheio prata sacola bolso dichar famoso verdao aqui saber ta dificil entender explico voce menorzar boca destrar hoje passar conhecer pequeno taliba focar furto estelionato prata lacrar tiguan trar digital penny face colomber aromatico fumaco subir prata destacar cunhar trajar seta fio fio refrigerar protecao bala lagarto broto sereno ver bobojaco madruga sinistrar campo minar vidro embaca brisa vejo reflexo maldade dominar dialeto passar visao tomamo boyzao puxo avenida oi pego nao pegar pegar nao pegar taliba aplicar levar barraco farzao oi pego nao pegar pegar nao pegar taliba aplicar levar barraco farzao oi pego nao pegar pegar nao pegar taliba aplicar levar barraco farzao',\n",
              " 'guih original caralho marginal nois grudar android quintal grande porte carenar jogar mata antes robocop entao manda buscar manda buscar entao manda buscar manda buscar taliba levar tiguan kia sorentar pequeno pegar entao manda buscar manda buscar entao manda buscar manda buscar',\n",
              " 'voltar re adiantar ligar irmao mesmo conduzo fe mesmo seguro refrao',\n",
              " 'barra favelar playboy ficar puto sao recalcar paty menorzin abusar paty otario sentir ronaldo mentir sintar empurrei parecar magico acordar pular janela pau aguentar botar goela achar chuteira conhecia republico tcheca comi novinha inglaterra comi novinha frente pai',\n",
              " 'quando passar quarta engata primeiro segunda baixo so terceiro meter quando passar quarta',\n",
              " 'engata primeiro tirando neutra bater segunda depois acelerar robozao pista vish nao pegar',\n",
              " 'gostar quando puxa cabelo xinga soquinho costela esquentar clima deixar louconar deixar onda encosto paredao sequencia toma tomar adorar meter louco adorar quando meter louco meter cachorro meter mete cachorro meter cachorro meter mete cachorro meter cachorro meter mete cachorro pitbull meter pitbull te mete pitbull mete chamar swing vir pitbull meter pitbull meter mete cachorro meter mete cachorro meter cachorro meter mete cachorro meter cachorro meter mete cachorro',\n",
              " 'desapego partir peito confiar mais ninguem grande medo agora ralar coracao tambem segredo so divir travesseiro mais ninguem ninguem pai proteja esperanca ainda consiga amar crianca vez querer coracao pedra amar demais sempre merda ohr deus mais precisar esquecer tempo mais lutar precisar aprender mais deixar amar dor nao fazer ajoelhar rezar pai cade abandonar',\n",
              " 'menino fiz jeito querer acostumei mania lembro saudade momento voar vento viagem sempre pensamento levar dancar levar dancar levar dancar',\n",
              " 'namorado mo otario lavar calcinhar ficar cheio marra mar cozinha tu nao gostar entao dorme portao baile curticao aca aca aca aca acabar',\n",
              " 'grande grosso parecer cipo falar olhar monstro olho',\n",
              " 'chamar vida chamar vida chamar vida chamar vida bolso forrar gasto igual retardar grano multiplica vida luxo to xucro revoar alto mar ig vir lancha bancar',\n",
              " 'motivo comemorar maloqueiro motivo comemorar sofredor sonhador coracao verdadeiro coisa mudar tomar proporcao entao poder ir so desacredito comedia filme virar drama quando roubar cena descer acao',\n",
              " 'menina vermelho vir baile ver rebolar chao usar dolce gabbano car ter grana gastar tambem usar',\n",
              " 'hoje chorar mais mais mais mais mais mais quero voce vir pai pai pai pai pai',\n",
              " 'viajei movimento corpo alimento tar peguei contato ficar pensamento levar viver igual nao ter faco noite valer viajo tempo fazer acontecer quanta vez ter falar voce',\n",
              " 'moco sair sacar voce muito novo brincar morrer dizer ha vida aprontar venha descer deixa levar cafe conversar ouvir tentar convencer',\n",
              " 'atividade virar saudade cadear massacre morte saber pequeno rezo Deus guarde pequeno',\n",
              " 'dizer ai querer ter dinheiro ser corromper sair fora malokeiro real ilude cifrao familiar bem bem amigo legal vamo dizer querer ver acontecer vida bater porta ofereca bom voce pegar ce deixar passar colher ce ter plantar ficar parado chuva cair florescer ver dizer quanto ver parasitar parar pensar esquecer falar mesmo lugar crer comigo vida bater ver tu aguentar apanhar vao querer derrubar levantei ir voce levantar querer bom dia querer erguer castelo derrubar longe mare ruim natural coisa fluir lembrar ninguar grande bom querer bom dia querer bom dia querer bom dia querer bom dia',\n",
              " 'olhar mundo covarde olhar mundo covarde tirar voce tirar voce hoje restar saudade hoje restar saudade deixar canto tentar forte tentar forte ter plano peito sofrer tentar forte peito sofrer sofrer tentar forte',\n",
              " 'maldade mano maner pequeno muleque maloqueiro mundo magico menino mulherengo misterioso malvar mostrar malandro malandriar maioral bom momento marginal maldito memoria mensageiro malicioso mantimento mantemo mafioso moderno mal humorar misterio mercadoria milagroso mafia monstra milicia milhoes manobra maestro mostrar maneira mudar modernizar magia mal feitor manter maligno milimetrica montar magnatar medo mina molhar mudanca malicioso moeda melhor menino maquinar mundo militar mutilar mundo mania montar musica meter',\n",
              " 'deus ai saudade menino correr sorrir olho cheio felicidade decepcao filho traficante antes hoje olho maldade',\n",
              " 'tu mina fazer tipo sentar aula saber facil envolver tua mente ter varia',\n",
              " 'lembro sinto dor tentar esquecer som tocar querer dizer coisa amor musica ficar',\n",
              " 'djay porra fumar fuma fuma fuma',\n",
              " 'movimentacao novinha ter dom dom fazer jogadinha morder fazer jogadinha morder fazer jogadinha morder fazer jogadinha morder boquir pro criar',\n",
              " 'quicar rebola trar abrir fechar ponta ficar quicar trar abrir fechar ponta ficar',\n",
              " 'negligencia ir pai boladao botar pressao',\n",
              " 'raspar ladin ladin girar quebradeira piquezin quebradeira lancar novo ta ritimar so bater palminha virar costa rebolar rebolada rebolada rebolada rebolada rebolada rebolada rebolada',\n",
              " 've poder banco desfrutar felicidade panamera modelo tapa orelha hoje teto solar goteira olhar maloka chegar dificil conseguir saber tempo professor nao correr atra vir',\n",
              " 'terminar voce achar sofrer sonhar ninguem entender vida levar pique jogador caro olho pra foto pôr otario bom presente passar melhor mal acompanhar namora otario namora ai pegar mundo sentir to blogueirinha curtir madrugada curtinho revoada namor otaria namora ai demais alguir segurar hora festa',\n",
              " 'terminar voce achar sofrer sonhar ninguem entender vida levar pique jogador caro olho pra foto pôr otario bom presente passar melhor mal acompanhar namora otario namora ai pegar mundo sentir to blogueirinha curtir madrugada curtinho revoada namor otaria namora ai pegar mundo sentir to blogueirinha curtir madrugada curtinho revoada namor otaria namora ai demais alguir segurar hora festa',\n",
              " 'garota falar querer mais saber muito bem fazer tempo atra saber muito bem tambem pequeno sagaz achar poder confiar sao igual',\n",
              " 'baile nois midio baile pequeno marola acender puxa prender soltar mao copao whisky red bull lanca perfume encomendar mais tenis bone tra saber hoje lacoste armani oakley calvin klein piranha olhar piscar buceta transudao pique arrastar treta comi bunda taquei compromisso passar nunca esquecer passar nunca esquecer comi xota taquei compromisso passar nunca esquecer passar nunca esquecer',\n",
              " 'uh menina piranho cabeca branco apenas novinho banca vir ca semana querer serio mano so querer grana querer envolver envolver tua bunda balanca ta vir aqui bafora lanco final noite querer ir cama broto casa amiga piranha liberar tir roupa acanhir passar teste vamo potycabana carro esportivo saber tirar onda shopping lancar gabbano final noite querer ir cama broto casa amiga piranha querer envolver envolver tua bunda balanca ta vir aqui bafora lanco final noite querer ir cama broto casa amiga piranha querer envolver envolver tua bunda balanca ta vir aqui bafora lanca',\n",
              " 'oque igor guilherme andar pensar ave Maria dj oreiar gosto puta whisky gin so bomba ice fumo gostar assim jogar instinto sempre contar',\n",
              " 'querer ta navegar contar falar quanto amo gente abracar gente beijar amor ar espalhar conheci amor conhecer bondade hoje conheci amor verdade jeito sorrir jeito falar fico meio perturbar vejo olhar voce fazer feliz fazer delirar voce fazer apaixonar voce quando mais precisar querer querer poder contar duvide luz astro sol calor duver ate verdade confiar confiar duvidir luz astro sol calor duver ate verdade confiar confiar confiar amor mundo amor viajar contar segundo sol acabar',\n",
              " 'nunca vender maconha nunca vender maconha loucura pobre pobre bebi red bull amenizar vela dia demor semana acabar dizer dinheiro nao crescer arvore nunca vendeu maconha vir mundo ensino gostar mais lasanhar gostar gostar gostar conhecer resto mor foda daleste',\n",
              " 'professora desculpe falar ano escola coisa vao mudar ti levar mal descobrir cabral cabral chegar abril depois colonizar chamar pau trazer familia muito menos filho saber matar vario indio caravela trazer morte milhao indio morrer tuberculose falar sofrimento tupis guaranis lembrar guerreiro zumbi palmar vitimo emboscada dandar levar chicotada descobrir nao cabral',\n",
              " 'pensar engana saber fama meio banca mundo conhecer saber perder postura Santa acanha final conta pedir chamar negar deixar sigilo poder explanar postar so bom amigo esqueco sentar maloqueiro ver voce quicar puxar cabelo ver empurrar perno tremer esqueco',\n",
              " 'julgar tragar estresse melhor amigo algo mais deus lagrima tornar sorriso mais brinde paz saude vida pai querer mal vida seguir levar vida paz cheio namorar viver revoar moca puta pelada cama agora mostrar corpo brincadeira boca preenchido rosar sexo noite inteirar deixo arrepiar pele molhar tremer bagunco cabelo olhar bem olho kevin deixar bola mais beck sair som beat murilo lt muito bom lambuzar som hit som sentar bem gostoso jogar boto shorts rabao chanel vir cor batom balanca pro chique pro maloqueiro chique rebolar refrao',\n",
              " 'loucura fazer descer bandido medo apaixonar cama vulgo chamar conheco piranha nascer namorar',\n",
              " 'avisar melhor esquecer viver paz cade voce dar criar sonho depois desfaz nao querer mais amar demais entregar demais voce dizer tanto fazer querer mais querer mais amar demais sofrer demais alguir dizer tanto fazer querer mais',\n",
              " 'olhar achar meter louco de aqui pouco fazer nem fiz quando dancar incomod achar pouco ai deixar lembrar obrigado nada ninguem mandar raba bunda nascer mandada mandar raba deixar lembrar obrigado nada ninguem mandar raba bunda nascer mandada mandar raba olhar baba oi baba baby raba baba close raba baba baba mandar raba',\n",
              " 'so ver feliz so ver superar bloquear bloquear chorar chorar chorar chorar',\n",
              " 'gostar cheiro deixar travesseiro gostar gente pegar fogo chuveiro gosto liberdade sumo voltar maldade',\n",
              " 'porra aqui tiktok baile funk sentar senta fode sentar senta senta senta senta senta senta senta senta senta senta senta senta senta senta senta vem vir piscando xereca vir vir piscando buceta vir vir piscando xereca vir vir piscando buceta',\n",
              " 'como costume verde cabuloso ha tempo acompanhar tranquilizar bolo acer tipo tatuagem corpo brisa ai pequeno breque chegar agora fumar conselho visaor ce perder neblino fecho cara mudar clima sujeito bom malandrao nao tempo modo porra vicio vez olhos vermelho fazer velha chorar hoje canto conscientizer moleque pensar bem espelho cantar cantar globo terra ver fazer fumaca igual parcela bandido cair fodar falador mais atmosfera maner aqui fumar amigo jogar coletivo quando cair levantar ir luta por fechar inimigo fumar dar sorriso quando brisar bate vira puto',\n",
              " 'deixar contar historia gostar contar dinheiro lancoer copia colo geral saber segredo',\n",
              " 'nois cara viver so siliconada chegar festa book ate taco marchar viver revoar feio ficar ate incomodar gabb mc nois cara viver so siliconada chegar festa book ate taco marchar viver revoar feio ficar ate incomodar',\n",
              " 'alo atender tar preocupadao pivete quase morrer coracao correr ver juntei grano passagem contar hora gente matar saudade beber gostar mais voce beber gostar mais voce antes voce mundao gratidao princês mudar Cabeca fazer dizer',\n",
              " 'cara imitar gringo brasileiro funkeiro nato alma maloqueiro ter palco nois toma assalto fazer girar paco beat seguro rasteiro',\n",
              " 'nada menino encantar quebrar dedo rasga empinar pipa desbicar raia desbicar raia lembrar mais linda quebrada hoje poder querer graca ficcao coracao coracao baile quebrar ver linda chacoalhar lato hoje poder querer graca ficcao coracao coracao',\n",
              " 'botar socar botar socar garantir morro vir base mostro nenem nenem botar socar tr bota yeah botar socar tr bota',\n",
              " 'pedir ficar prometer nao ir tempo perder bebe passar hora voce entregar descer mais pouquin louco linda vir lala bem bom roupa tentar entender poder garota ai acabar postura pai tao louco linda vir lala bem bom roupa tentar entender poder garota ai acabar postura pai',\n",
              " 'envenenar copo ter bala foco vicio girar salver ph tigre ta ano passado peguei pra revoar fiz perigoso sorrir fiz bandida feliz respor deixar trampo fluir fazer dia loucura ano passado terminei sozinho deixar procurar prefiro assim liguei modo baguncar bebe sul camarote fire kunk estoura don perrie falo amar voce iludar foco golpe',\n",
              " 'viver melhor sonhar sonhar sobreviver nota desafino livro estante escolher ler',\n",
              " 'virar costume querer parar blitz vao acostumar ver preto dentro carrao sempre nike camisa time bigodin cabelo cordao nunca familiar verdadeiro amigo jamais permitir esquecer vir saber mundo volta nada passar bater tropo hoje',\n",
              " 'jeito sentar covarde brisar ver descer obra arte saudade voce sentar maldade fazer olhar negar vontade coracao',\n",
              " 'primeiramente agradeco conceder mais dia vida forte abraco pro amigo fortalecer louco vida nem saber agradecer mainha dar eitar coitar joelho ralar ate calejar oracao pequeno virar jogador pequeno vida levar bander roubar bander ladrao virar pastor louco vida vida louco custar caro aprender brinde pro entao bastar viver obrigar deus pao dia obrigar deus saude familio obrigar dia vida pecar olhar anjo guia',\n",
              " 'saber querer tentar saber entender rua trampar to pensar voce beber',\n",
              " 'leo sucesso mulherada saber nao dono mao conheco ruivinha dancar rave mandela saber tuar intencao fazer carinha safar bater popo chao juliano querer falar pader rodo caio papim entao desliza desliza vir jogar bundao preparar poder so colocadao entao desliza desliza vir jogar bundao preparar poder so colocadao so colocadao',\n",
              " 'senhor complicado treta aqui ate confessar hoje pensar desistir lembrar bom momento quanto nois sonhar quando pivete vaidade saudade moleque vario parceiraor jogar vida loko hoje chefe patraozao boca ter amigo saudade acontecer cade voce crianca ter sonho menino mais peca cabuloso teatro vida chamar destino pedir deixar fraquejar recordacao tempo bom peito levar pedir deixar fraquejar recordacao tempo bom peito levar deixar fraquejar',\n",
              " 'so ter maneira chamar cadela tcheka tcheka',\n",
              " 'olhei espelho trafico droga ver retrovisor opcao roubar viver vida muito perigoso prefiro correr perigo poder cantar olhei espelho trafico droga ver retrovisor opcao roubar viver vida escuro muito perigoso prefiro correr perigo poder cantar pensar futuro bom igualdade querer grande tambem olhem pro pequeno prejudicado sa mau',\n",
              " 'oculto saber ter montao estilo vulto vir sinistro saber puto querer mais vao envenenar nem fazer parar coracao',\n",
              " 'importar fazer ter sempre alguir falar acho melhor ce ir luta ficar assistir gorar carar momento mundo comentar pedir dentro conheco bem rua passar bico perguntar favelar ano sempre passar aqui roncar pente frente mamar saber bem plano conforme gastar so dinheiro entrar amarrar malandro querer exibir quando aproximar aqui ter voce escolher praia maloka sempre chique dever whisky puta ensina viver ensina viver ensina viver sempre chique dever whisky puta ensina viver',\n",
              " 'paparazzi olho bom fase vivo po tumultuo novo passar batido moleque liso olho bom fase vivo po tumultuo novo passar batido moleque liso ah moleque liso',\n",
              " 'logo apegar voce mesmo ideia curtar mesmo role truta voce presta chato demais marrudar briguento oposto atraar historia implicar amar piroco briga sentar mais gostoso implicar amar piroco implicar sentar mais gostoso',\n",
              " 'nem querer aler foca fazer caminhada querer ver preto bem nem embaca nem embaca',\n",
              " 'gm beat emplacar mais koringa koringo',\n",
              " 'cair papinho ai bagulho fluir ver bota boto botar botar',\n",
              " 'bombei musica invejoso hoje querer dar so oruar famoso papin Augustin arrasto reliquia marcin brabao Alemaozin brechar ce fazer tao bem mais roder mundo sinto cheiro lembro bem deixar sozinho dormir travesseiro',\n",
              " 'chance saber afim saber querer sentir sabor brincar amor',\n",
              " 'ouco multidao chamar deixar trampo caminhar enquanto deus levar marchar firme ir falso enrustir escutar voce fodir cuidado chamar amigo aperta falar irmao tempo atras ser assim so ligo importante comida prato filha papar mentir tambem querer juntar milha andar picadilha corrente brilhar sonho vagabur dar bom familia',\n",
              " 'don Juan acreditar final ano engate acreditar noite dormir ajudar trabalhar tarde acreditar final ano engate acreditar noite dormir ajudar trabalhar tarde prainhar casa beira mar havaiana camisa ver gatinha passar',\n",
              " 'novo passinho geral amarrar muito maneiro poder mandar revelacao aqui Rio janeiro aprender mandar tempo inteiro comunidade passinho estourar tit Vovo vovo prestar atencao agora ensinar passinho volante voce tambem mandar aaaaaaaaah lelek lek lek lek lek lek lek girar girando girando lado girar girander girar pro aaaaaaaaah lelek lek lek lek lek lek lek girar girando girando lado girar girander girar pro passinho volante querer ver baile passinho passinho passinho volante passinho volante querer ver baile passinho volante querer ver baile',\n",
              " 'querer ter pau tamanho mesa disser beleza olhar vida oh vida pau cheio ferido olhar vida oh vida',\n",
              " 'flow gente passar show fechar olhar aonde gente chegar pai futebol nego ate sambar tocar neymar gol',\n",
              " 'ai liga querer foder pecar ficar prazer transar ver mar satisfazer deusar milenar querer amar liga querer foder pecar transar prazer transar ver mar satisfazer deusar milenar querer amar voce',\n",
              " 'dar voce querer amar so deixeir perno bambo avisar nao ficar apaixonar fiz perno bambear',\n",
              " 'sair subir morro sentar querer cara poder proporcionar facil vir ganhar presente balmain peca grife querer carinha momento bom momento comigo fuder bandido carro bicho gemeu tirar foto bico mentir olhar cara fazer promessa poder cumprir cansar usar maria gueixa agora loul',\n",
              " 'dj perera original gabriel borel produzir explodir bum dar errar sair cabeca lugar restaurante la parei quando notei boca comecar secar vir cumprimentar ouvido sussurrar saber cara graca fiquei paisagem pedir sentar graca xingar pilantragem saber cara graca fiquei paisagem pedir fazer faixa xingar pilantragem sentada graca quicada graca mamada graca safar muito estressar favor nao cobrar sentada passar sentada graca quicada graca mamada graca safar muito estressar favor nao cobrar sentada passar sentada graca quicada graca mamada graca safar muito estressar favor nao cobrar sentada passar',\n",
              " 'pedir carinho voce voce ter monte fazer fila ter lugar lugar lugar pedir carinho voce voce de aqui pouco sentar tanto esperar tanto esperar tanto esperar',\n",
              " 'cruadao uisque modo pitbull bravo cruadao uisque modo pitbull bravo pitbull enraivar pitbull enraivar pitbull enraivar pitbull enraivar pitbull enraivar pitbull enraivar mandar refrao preciso citrato mandar refrao preciso citrato',\n",
              " 'pum pa droga vender rende mais banco itau pa policia prender mente mais olhar tormento tapa cara ideia vergonha midia colocar cuzao datena ar falar dar perder policia',\n",
              " 'jogar baralho puxa navalha risco faco chao',\n",
              " 'morena ta loirinha ta entao ruiva vir entao poder soltar encostar ahn encostar encostar ahn jogar bunda ar quando ver morena confesso apaixonar quando ver loirinha confesso apaixonar quando ver ruivinha confessar apaixoneir deixar clima gostoso quicar tr vez ir qui qui qui qui qui quicar sentar quicar sentar jogar bunda',\n",
              " 'popotao popotao grandao popotao popotao grandao popotao popotao popotao deus popotao grandao',\n",
              " 'nao chorar nao pra dizer voce nao chorar quando alguir saber amar nao saber sinceramente pensar sinceramente saber ter coracao Baby thought alway',\n",
              " 'querer saber maconha ilegal planta erva natural querer saber maconha ilegal planta erva natural',\n",
              " 'fiz pedido estrela cadente vir comigo arrepender largo medo bobo prender romance Kanye',\n",
              " 'sumer voce ver mudei vida voce saber ta saudade chamar ate voce ligacao morrao ir',\n",
              " 'fechar coracao ter varia mais ter fe fechar inverno verao praiar mundao girar mandar racalque fuder ano perreco vida novo novo plano viver dj emite emplacar',\n",
              " 'espetacular sorriso princesa impressionar quando arrasto treta chamar amiga conta tr sentar mais tr mamar entao',\n",
              " 'criptografar mente vir memoria fato recente apegar pequeno chapa quente querer romance inteligente cursa doutorar vida louco boca dono horario provei valor tambem provei mudar larguei mao crime continuar armar entao vem deito cama vir refem bola baseado querer fumar tambem saber ficar bem tao bem tao',\n",
              " 'entrar senta camera lento ficar vontade saber pegar aqui forte arrebentar',\n",
              " 'brincar amorzin bom vinho finin esquecer mundo tacar taca voce vida longo boa acertamo letra bater perfazer damar vagabur quando entregar parecer ter fim por tempo',\n",
              " 'primeiro beck mamar beck transar terceiro beck quase gozar quarto beck oh primeiro beck tar fluir segundo beck tar acontecer quando ver tar foder tar metendo tar foder ai onda sentar varo senta senta senta senta senta senta varo',\n",
              " 'princesa favor voltar amo amor princês favor voltar',\n",
              " 'problematico puxar cortar raspou estilo viver sistematico vir falar amor mandar ha',\n",
              " 'olhar problematico ladroe cena vez sarcastico ficar tra pena sabichao posturar pro louco problema progresso bom viver intensamente lema',\n",
              " 'vejo mundo perna ar nem assistar tv misterio decifrar gente entender ter coisa fora lugar pessoa conhecer olho cer comeco pensar gente entender',\n",
              " 'coracao amor começar agora gozar coracao amor começar agora gozar fofoca cao cutcharra mimimi comeu mal caralho gemi iludir fofoca cao cutcharra mimimi comeu mal caralho gemi iludir piroca cantar muito menos grosso cair legal propaganda enganoso corpo lir caralho perder borrachar fraco moral servir levar ralo pensar ir cer tempo dinheiro porra hotel fofoca cutcharra fofoca cao querer comer comeu mal caralho',\n",
              " 'antes jogar missil fugir quarentena antes pular catraco procurar ver problema',\n",
              " 'hoje acordar direito hoje comer mina gostoso maconha falar gostar brisa sentar pi sentar piroca acordar direito hoje comer mina gostoso maconha falar gostar brisa sentar piroca',\n",
              " 'paulin capital progresso vitoria sucesso gueto berco vir represento quebrar nascer progresso vitoria sucesso gueto berco vir represento quebrar nascer',\n",
              " 'queimar nome praca meio madrugada ce falar falar mal largar sentar mesmo boca xinga odear quando lambe beija mesmo boca mandar ir quando apagar Luz pedir hora hora',\n",
              " 'quando morrer querer enterrar assim terra comer jeitinho gostar novo ai gostar bota tirar bota tirar disputar botar pipokinha ten disputar botar pipokinha gostar botar botar pipokinha botar botar pipokinha botar botar pipokinha botar botar pipokinha ten disputar botar pipokinha botar botar pipokinha botar botar pipokinha ten disputar botar pipokinha ten disputar botar pipokinha botar botar pipokinha botar botar pipokinha botar botar pipokinha botar botar pipokinha botar botar pipokinha botar botar pipokinha catileia gostar preparar bom ano ano vir ter mais botar botar pipokinha botar botar pipokinha botar botar pipokinha botar botar pipokinha botar botar pipokinha botar botar pipokinha botar botar pipokinha botar botar pipokinha',\n",
              " 'quando gente briga ficar mais linda noite cama dar jeito gente acertar briga vir consertar deus ate quando mundo acabar sempre enter ver voce longe sintar so tentar dar tempo real so ficar mau volta to sofrer depressao aumentar saber relacionamento briga xinga depois amar',\n",
              " 'quando mandar Menina descer descer descer concentrar bater resto esquecer esquecer esquecer',\n",
              " 'fechar olho mente desenha tapo ouvido escutar voz so pensar nunca mais ver',\n",
              " 'desce quico subir olhar hipnotizar chamar amo desce quico subir olhar hipnotizar chamar amo',\n",
              " 'deus vida derrota pai ajudar hora verso rimo bolei nota olhai dir chegar melhora',\n",
              " 'escutar amiga querer empolgar cara apaixonada acabar entregar saber noite longo ninfeta jogar rebolada enquanto dj tocar amiga avisar presta mandar apaixonar amigo mandar apaixonar amigo empinar pey empinar pey empinar tomar jogo tomar jogo tomar jogo empinar empinar toma jogo tomar jogo tomar jogo empinar empinar toma jogo tomar jogo tomar jogo tomar jogo tomar jogo tomar jogo tomar jogo tomar jogo tomar jogo tomar jogo tomar jogo tomar jogo empinar pey empinar pey empinar pey empinar pey',\n",
              " 'mais maloqueiro suspeito mais morador gueto balar sempre sobrar pro preto querer paz',\n",
              " 'quase impossivel ter nois trampar dia noite Deus abencoar mudar plano dar casa carro ano ano',\n",
              " 'pequeno mais forgado lancar prophecy white andar mais descalco',\n",
              " 'tambem nao vir dizer entendi errar dormia lado fiel respeitar entreguei agora percebi deixar querer enganar so prazer ter mao deixar direcao magoar baguncar coracao',\n",
              " 'serio ainda saber aqui sigo regra fora missao ate fim cantar leal estao bem perto',\n",
              " 'nao querer frente quero lado quero quero querer frente quero lado quero quero entrar tesao caralho entrar tesao caralho entrar tesao caralho bota pipokinha bota pipokinha bota pipokinha boto bota bota bota pipokinha boto bota bota bota tomar tomar tomar toma toma tomar tomar toma toma tomar tomar toma',\n",
              " 'querer amor querer fazer bem mais feliz esqueca passar vir deixar querer deixar amar olhar amor querer ter aqui quando chegar noite comecar chorar pedia Deus voce voltar voltar tempo passar hoje aqui frente frente saber esqueci',\n",
              " 'ai vontade louco ai vontade louco ai vontade louco dificil controlar querer dar cuzinho vir vir vir querer dar beijinho vir ca vir vir',\n",
              " 'querer encontrar quero amar voce terra cer mar querer encontrar quero amar voce terra cer mar',\n",
              " 'ohr amor jeito olhar mesmo falar hoje dia ter sabor voce provar quando menos esperar achar dia gente sonhar',\n",
              " 'maria estoy enamorar hein hein Maria taoer linda dao dao bundao rabetao tao chao rabetao tao chao rabetao tao chao rabetao tao chao fazer serenata so ver dancar pelada fazer serenata so ver dancar pelada',\n",
              " 'luan luan luan luan manter postura ficar pena envolver tapa bunda falar voce pegar posicoe lado frente costa hoje querer ganhar surra maravilhosa desgracado treta poder chamar rainha faixa preto desgracar treta poder chamar rainha faixa preto brunyn maceteer peguei firme novinha fiz pedir cena instigo mina bandido entao toma gostar conhecer pista faixa roso fazer arte marcial dar cha maneiro hoje ganhar grau tomar danado tomar tomar treta rainhar faixa preto',\n",
              " 'aqui so trabalho lir lir pussy matar rir matar mais matar mais jeito envolvente botar chapa quente causar zum zum causar zum beco viela rainhar ludmilla focar bumbum foca bumbum foca foca foca foca bumbum foca bumbum',\n",
              " 'instagr falar caralho quando ta sozinha safar guarda lado amiga late mais alto nunca ver sozinha saber esculachar ralar mandada ralar mandada safadona caralho ralar mandada safadona caralho ralar mandada safadona caralho ralar mandada safadona caralho ralar mandada safadona caralho acompanhar face pessoalmente correr recalcar perder storie recalcar perder storie recalcar perder acompanhar face pessoalmente correr acompanhar face pessoalmente correr recalcar perder storie recalcar perder storie',\n",
              " 'parrapapapapapa papa papar papa papar paparra paparra paparra Clack papa papar',\n",
              " 'so mais Silva Estrela brilha funkeiro pai familia mais silva Estrela brilha funkeiro pai familia',\n",
              " 'canto rap solitario pensamento guarder retrato quando dormir vejo voce pensar mesmo morrer morena linda deslumbrante voce valer mais diamante saber aguentar botar lugar nao facar coracao sedento porta bater entrar desespero dar aguentar pedir voltar',\n",
              " 'beija flor tocar terror refresca cheirar senhor amor apenas tesao dera combinar peguei fiz cancao mandar cd escutar serar ouve',\n",
              " 'rede social menina arlequino quer bisbilhota belo dia avistar rolar troca olhar confirmar sempre cobicar cara hoje vir jogar agora constar ah broto vir aqui ve pôr senta bundao avisar nao querer relacionar pente ralar',\n",
              " 'selva pedra virar rei leao ter nem trinta busao gostar podre coracao catraco mansao ventre tar escrito vir luz mundao poluir ser milhoe escolher historia gigante caber livro renascir cinza pronto vencer lugar alto querer voar ha montanha deus poder mover porta abrir ninguem mais fechar renasci cinza pronto vencer lugar alto querer voar ha montanha Deus poder mover porta abrir ninguem mais fechar',\n",
              " 'olhar storie vir ver aqui pessoalmente saber mudar to baita saudade gente gente valer porra chegar baby arrumar ter remember madruga manha voce procurar loucuro gente loucura prazer beber brotar cama magia acontecer querer novo subir descer depois acabar pedir reverse depois acabar pedir reverse',\n",
              " 'sempre prova moleque bom brincar voltar revoada to muito bem sentir casa voltar revoar cachorrada voltar revoar cachorrada',\n",
              " 'diminuir faco contrario diminuir desmerecer alguem julgar ser humano vida voce valer ter puta cobro comprar governo brecar nota nao cancelar ter tempestade nota guarda chuva criticar vida louco pagar ninguem forte abraco congelar ver vida parar tempo tempo aqui fora andar levar caminhar vento novo modelo carro ano to junto futuro ver inveja andar tra tchau falar olho obeso tanto olhar vida pai tchau falar mais junto futuro ver inveja andar tra tchau falar olho obender tanto olhar vida pai tchau falar mais',\n",
              " 'poder apitar forca revoar soltar beat vir jogar solta beat vir poder apitar forca revoar soltar beat vir jogar solta beat vir',\n",
              " 'vir revoar revoeir tr geral transar tr comer tambem vir revoar revoeir tr geral transar tr comer tambem',\n",
              " 'pensar montar maquina dar volta role tempo salver leal quebrada pequeno saber fazer lagrima cair rosto deixar sangramento rosinhar chico ces matar saudade coracao bater',\n",
              " 'sonho querer mais acordar varia amar por varia amar talvez pro petrificar hoje proponho mais noite espetacular',\n",
              " 'roubar coracao armar ak trovao naoer resisti levantei mao tirar camisa vir colchao',\n",
              " 'ter sol ter praia ter praia ter sal ter sol ter praia ter praia ter sal sal sal sal sal ter sol ter praia ter praia ter sal ter sol tеm praia ter praia ter sal ter sol ter praia ter praia ter sal sal sal sal sal ter sol ter praia ter praia ter sal',\n",
              " 'onda lanco santo amaro chapar onda lanco santo amaro chapar rico pai onlyfans querer usar lanca santo amaro querer colocar peito silicone tomeir melzinho hoje transar mesmo mais hotel ainda beber ret fumar fuma pro cer ser pai saber fazer',\n",
              " 'rodar mundo poder falar grande nao ter voce poder perguntar tri mundial saber responder voce ainda querer vir zuar fazer tempo ganhar sala trofeu entrar ter tacar rodo querer voce pensar respeitar tri mundial tricolor nao respeita historio deixar menino jogar grande causar entrar jogo serio fazer gol bagunca Morumbi certo tricolor ganhar mais nao pensar respeitar tri mundial tricolor nao respeita historio deixar menino jogar grande causar',\n",
              " 'vir chicote algema corda alpinista percebir cara sadomasoquista vir chicote algema corda alpinista percebir cara sadomasoquista vir perfectlyr good air care stick stone break bone chaim sadomasoquista quista quista quista sadomasoquista quista quista quista sadomasoquista quista quista quista sadomasoquista quista quista sar safar homem tarar pede dar dou dou',\n",
              " 'querer envolver envolver querer envolver criminoso querer dar bandido querer envolver malvadao entao tchuca pego sarra pequeno glock cintura entao tchuca pego sarra pequeno glock cintura entao sarra pequeno sarra pequeno sarra pequeno glock cintura entao sarra sarra sarra sarrar pequeno sarra pequeno glock cintura entao sarra pequeno sarra pequeno sarra pequeno glock cintura entao sarra sarra sarra sarrar pequeno sarra pequeno glock cintura lalau dar querer sentar piroca marginal lalau dar querer sentar piroca marginal lalau dar querer sentar piroca marginal lalau dar querer sentar piroca marginal fazer horror xereca fazer horror xereca fazer horror xereca fazer horror xereca ter pena piriquita pedir forca tcheca ter pena piriquita pedir forca tcheca hahaha oi hahaha oi hahaha haha ha',\n",
              " 'hoje acordar saudade pedir deus guardar puder ouvir so dizer muito obrigar sempre nois',\n",
              " 'danca dancar danca dancar danca dancar falar dj fazer diferente botar chapa quente gente dancar dizer menina danca fascino alucinar querer beijar quando vejo desperto lembro beijo paro sonhar pensar beijar beijar beijar beijar vir comigo dancar dancar dancar dancar danca dancar danca dancar danca dancar danca dancar',\n",
              " 'querer querer pegar lado taco puxo cabelo pegar jeito deixo ar',\n",
              " 'amor mulher love olhar cara vagabur fode querer dar puxo dar gole faco mulher sofrer',\n",
              " 'vidar entao aproveite achar resumer dinheiro melhore momento sao simples existir preciso existir alguir verdadeiro',\n",
              " 'gm lipir emplacar mais hit entao desentocar robo meio favelo saca retrovisor Liga alertar pequeno chavaiar tira bico tambor ideia vacuo reta vacuo reta favela nao ter sinal pequeno tocar trambolho motoloka dom tocar barro asfalto morro drak radical quintal perigoso respeitar bom desconhecer pisar fofo favela sinal pequeno tocar trambolho motoloka dom tocar barro asfalto morro drak radical quintal perigoso respeitar bom desconhecer pisar fofo',\n",
              " 'distancia gente fazer entender dia feliz ser voce saber demorei acordar talvez voce nem voltar querer falar voce aqui perder metade voce voce aqui nao voce nao saber fazer voce aqui perder vir resgatar volta tempo voce aqui doer tanto chorei demais vivo esperar',\n",
              " 'fiz cancao expressar sentimento ver amor voar vento sol estrela lua mar deixar sentido passo caminhar ser deixar aqui levar sorriso junto saber voltar desistir dama vagabur nada ver realidade nada ver maturidade nada ver felicidade ver verdade nada ver realidade nada ver maturidade nada ver felicidade ver verdade',\n",
              " 'fato ter argumento coracao foder tempo querer ver voce bem bom ontem acompanhar vario momento fato ter argumento coracao foder tempo hoje amo bem mais ontem dificilr sentimento',\n",
              " 'piranha querer foder ocasiao fazer bander varia sereiar carro bicho peito tropa ficar fodir',\n",
              " 'entao pegar visao Sereia sereiar desculpa ficar longe confessar pouco machuca de oi muito mais viver longe puta Sereia sereiar desculpa ficar longe confessar pouco machuca de oi muito mais viver longe puta',\n",
              " 'fuder fuder fuder fuder dar perder amigo cunhar aparecer Liga Liga Liga ater finjo ver tr hora casa passo ate prever bolei fumar princesa nois ir giro certeza passeio velar Beira dolar carteira nois netflix cervejar bolo sempre sobremesa nois tipo helena casal filme cinema',\n",
              " 'falar feroz brilho incomodar boy quebrar ecoa voz cair lagrima vencedor cristal meio caco vidro revolucao sempre notavel agua vinho verdade tonar crianca tamper ouvir agora milhao storie tambem zona leste ficar forte ter lider mostrar favela poder vencer tambem fazer pequeno sonhar mais alto trafico pop',\n",
              " 'joaozinho vt dj passar visao',\n",
              " 'don juan passar nave linda quebrar parecer mentira memo acreditar bolar plano ficar rico ano nao ficar novo morrer tentar passar nave linda quebrar parecer mentira memo acreditar bolar plano ficar rico ano nao ficar novo morrer tentar',\n",
              " 'nois blindar pras pisto quesito nois carro chefe falar brisar gostar melodia entao falar bem baixinho cantar ouvido mk piao maloqueiro entrar casado poder sair solteiro modelo olhar favelar contar dinheiro marks nois brinda chamar gringa passar nois instigo seguir insta acompanhar dia novela preferida passar tela',\n",
              " 'seguro calmo cuidar precipitar decisao poder obrigar ficar sempre querer jogar cara briga vir mesmo ideia errar viver longe surtada quando raiva passar sempre broto casa simplesmente completamente viciar raba querer mais sentar donzela passar desfilar favelo foda apegueir perversa passar desfilar favela sentada apegueir perversa',\n",
              " 'pensar bem valer pena despeder negar amor vida crise normal apenas briga casal filme nunca chegar final ainda existir amor gente oh querer voltar tempo amar novo entendir teu sinal fogo amor dar Valor acabar',\n",
              " 'ficar dar show pussy viciar voltar casa cheio sintoma ficar dar show pussy viciar voltar casa cheio sintoma cheio sintoma cheio sintoma prazer',\n",
              " 'olhar chegar beber tropo ludmilla hoje botar ferver jogar clima tomar tomar tomar tomar toma tomar tomar so sentadonar tomar tomar so tomar tomar so sentadonar tomar tomar so tomar tomar so sentadonar tomar tomar so tomar tomar so sentadonar tomar tomar tomar',\n",
              " 'dar mole pro pai perdoar clicar abracar cao papai baguncar clicar',\n",
              " 'solta frango vir gente',\n",
              " 'sonhar nunca desistir ter fe facil nem tentar ate esgotar forca hoje querer dividir ostentar esperanca levar sonhar nunca desistir ter fe facil nem tentar ate esgotar forca hoje querer dividir ostentar esperanca levar mundo sorrir',\n",
              " 'zona sul loirinha olho azul impar pai pai neguin moro Barraquin dar chave coracao falar pai querer dinheiro ter riqueza querer casar brincar amar somente',\n",
              " 'fodo',\n",
              " 'dificil pegar estilo ahar dificil fazer malote sim dificil ter talento dificilr ter sorte foda hein foda hein',\n",
              " 'raio sol brilho mais belo olhar sincero amor manha cheiro mar voce dancar veuve clicquot saber vida fazer momento sorriso pensamento fa fa boca dizer amo dentro so poder ouvir fa fa boca dizer amo dentro so poder ouvir',\n",
              " 'passar mo sufoco parar pobre louco marmito ter real bolso ajudar moco responder virar rosto quanto vir falar ficar troco louco vida louco louco vida louco pequeno opcao solucao ir boca diferente lele mente espelhar kaxeta funk linha frente jogo virar deus abencoar livre arbitrio escolher cantor jogo virar abencoar passo passo batalha tempo senhor oh novo cordao ouro pingente jesus crir evitar olho vitorioso vitorioso tentar alvejar luz cegar vaso valioso',\n",
              " 'dar atencao dar valor culpa amigo mente fraco incentivar vir julgar amiga culpa tu preferir ficar ai madruga entao entao preparo mulher bailao comecar dar valor agora estrepar amiga sarrar amiga sarrar amiga sarrar querer jogar amiga sarrar amiga sarrar amiga sarrar mandar escutar',\n",
              " 'daleste top angra lado lata ouro ter ter dobro ter dinheiro enjoar vir morrer perguntar mane assim houser boy quarto liberar errar errar ninguem fazer bandida virar refem vir baile funk ter ousadia alcool final geral descontrolar aonde ir mesmo tempo vir claro capital nota aonde ir mesmo tempo vir claro capital nota sair fora voltar bem acompanhar',\n",
              " 'tempo crise estao comportar como aumentar money ter girar afetar so brisa continuar gargalhar segundo segundo balada balada bala bala aromatizar contar mulherar perder pista bebido ter meio meio ter bebido pro musica mulher money mafu',\n",
              " 'cachorra preparar popozur baile pular sair chao bonde tigrao liberir energia vir meio Salao baile tomar querer ver dancar dominar planeta gritar assim',\n",
              " 'aqui cantar professora sempre tirar burro pro ser cara pra pessoa gritar ajudar so fazer surdo pro vizinho la bairro amiga mae filho marginal ter futuro aqui mostrar favelar tambem poder olhar destravar mundo aonde chegar agora rolezin esqueci bode merecedor desisti longe holofote mae avisar inimigo querer amigo tentar derrubar deus abencoar vitorio chegar pai oh gratidao obrigar conselho sempre coracao oh pai oh gratidao amigo pouco tar ali comigo deus Deus dar pai oh gratidao amigo pouco tar ali comigo deus Deus dar mao Deus dar mao Deus dar mao Matt mt pegar visao pega visao amem gratidao',\n",
              " 'prometer fazer feliz mergulhei ilusaor quando ver perdi forte confusao baile lotar pesadao so cantinho contencao voce chegar beijar desandar coracao saber tal amor voce xinga briga fico chateadao porrar mais facil trocar tiro policia ir pro asfalto meter fita trocar alemao revelar deixar bolar falar laco olhar ter maldade Lei vida ser derramar sangue encomer antes so saudade',\n",
              " 'so love so so so so so so so quero novo voce atracar gosto corpo almar venero demais prazer controlo calendario utilizar mao amor esperar ter prazer corpo mais quente sol viver sonhar pensar delirio jogar futebol',\n",
              " 'malandra assanhadinhar so querer vrau querer vrau querer vir favela ficar doidinha entao vir sentar aqui sentar aqui sentar aqui ir malandra assanhadinha ir querer vrau querer vrau querer vir favela ficar doidinho entao vir sentar aqui ir novinha ritmo aqui sentar aqui sentar aqui sentar aqui sentar aqui sentar aqui sentar aqui sentar senta aqui sentar aqui sentar aqui sentar aqui sentar aqui sentar aqui sentar senta aqui sentar aqui sentar aqui sentar aqui sentar aqui sentar aqui sentar ir malandra assanhadinhar so querer vrau querer vrau querer vir favela ficar doidinha entao vir sentar aqui',\n",
              " 'poder vir dinheiro trazer piranha poder vir dinheiro chamar trazer piranha chamar broto convocar puta broto convocar puta mais tarde ter fervo hoje rolar suruba surubinha leve surubinha leve filha puta taco bebido depois tacar pico abandonar rua diguinho aqui pegar visao pegar visao ritmo selminho aqui oh pique',\n",
              " 'voce precisar preocupar amor viver levar voce amor nunca ver enfim chegar preciso voce voce dar sentar bumbum fazer querer querer querer ver pelada',\n",
              " 'faco gente ficar bom insistir brigar toa dizer jeito nao mais casal sao gostar quando magoa logo logo atra pessoa nao querer entao vir fazer gente passar passar ficar tra saber quando ficar bem comigo gente entao viver paz deitar aqui chegar mais hoje dia lir voce querer so voce longe ver conhecer saber verdade conhecer saber metade voce',\n",
              " 'quando gente transar ahn ahn sempre parecer primeira vez gostar quando dizer amar dizer amar demorar encontrar',\n",
              " 'xereca pisco',\n",
              " 'rezor voce poder postar foto amante babar alguir descobrir caso la dia semana vir visitar voce viver querer poder ter deus destroi familia agradar voce vez tentar entender sempre entao falar marido presente talarico tar sentar macho tua amiga tomar pau falar marido presente talarico tar sentar macho tua amiga tomar pau',\n",
              " 'talvez povo levantar dia talvez paz reine periferia talvez morro voltar viver alegria talvez talvez poze',\n",
              " 'glamuroso cruze braco ombrinho lanca frente descer bem devagarinho quebradinha subir devagar bota maluquinha tapinha dar tapinha nao tapinha nao tapinha tapinha tapinha nao tapinha nao tapinha cabelo tocar boca beijar vidrar bundinho maluquinho apertar',\n",
              " 'andar lado pro muito doido achar mudo vir sarrar rocar jogar cabelo esfregar bunda clima ficar quente muito envolvente mudinha calar sarrar beijar morder chupar mudinha pelada taquei mudar gritar ai taquei mudar gritar ai taquei mudar gritar ai taquei mudar gritar ai ladinho ladinho ladinho ladinho ladinho ladinho quebra taquei mudar falar pegar po',\n",
              " 'dj Kadu tchau obrigar forte abraco hoje revoar danada lado pesar ligar nao verdade bom colar lado tchau obrigar forte abraco hoje revoar danada lado pesar ligar nao verdade bom colar lado',\n",
              " 'tcheca tcheca tcheca tcheca tcheca tcheca tcheca tcheca tcheca tcheca tcheca tcheca tcheca tcheca tcheca tcheca tcheca tcheca tcheca tcheca tcheca tcheca tcheca tcheca parar close tcheca amor close tcheca amor close tcheca close tcheca close tcheca close tcheca',\n",
              " 'serar ainda pensar musica fazer lembrar tempo ainda aqui tar aqui saber querer voce perto saber dificil aceitar saudade muito ruim muito ruim levar paz voltar mais levar paz voltar mais levar paz',\n",
              " 'nao viver mexer pouco defesa livre levar soltar sobrenome perigo nunca andar trilho mais louco pegar visao viber migo gente briga amar amo piranha passar gente arrumar role dia semana grana grana dar ter voce cuidar',\n",
              " 'falar querer namorar tipo relacao nao cara certo querer ficar ficar prometo corpo empresto prometo corpo empresto combinar assim so liga falar querer dizer tambem querer dar nao mexer dar errar chamar chacoalhando chamar chacoalhando rabo chacoa cocoalhar rabo combinar assim so liga falar querer dizer tambem querer dar nao mexer dar errar chamar chacoalhando chamar chacoalhando',\n",
              " 'voce saber quando voce ver sinal hora meter casa tomar cafe saber seguir marginal passar tatuape casa tomar cafe ter cafe prefiro cha relaxar deixar louco',\n",
              " 'voce saber quando voce ver sinal hora meter casa tomar cafe saber seguir marginal passar tatuape casa tomar cafe ter cafe prefiro cha relaxar deixar louca ter cafe prefiro cha relaxar deixar louco',\n",
              " 'olhar so dir botar fe antes querer hoje querer nem tentar intimidade cortar simpatia face mensagem receber dia gostoso ta safar tenebroso querer ver pegar ta safar ta gostoso tenebroso querer ver pegar segundo intencoe vacilao morrer margem criar quebrada ter instinto selvagem fortalecer esquecido respeito envolver saber caminhado dizer mulher bandido gostoso ta safar tenebroso querer ver pegar ta safar ta gostoso tenebroso querer ver pegar querer ver pegar querer ver pegar',\n",
              " 'menina fiz jeito querer mais dono vida cansei precisar terapia',\n",
              " 'pegar galera ligar agora novo onda pirata rei ondo olhar onda onda ondo olhar onda onda ondo olhar onda onda ondo olhar onda molhar banhar sacudir abalar molhar banhar sacudir abalar molhou rostinho molhar barriguinha molhar pezinho molhar corpinho deixar enxugar balanca balanco sacudir treme parar balanca balanco sacudir treme parar capitao mandar sim senhor capitao mandar sim senhor capitao mandar sim senhor andar prancha cuidado tubaraor pegar andar prancha cuidado tubaraor pegar',\n",
              " 'buceta sentar sentei chupa Grelo ate gozar chupar chupor buceta sentar sentei chupa Grelo ate gozar entao',\n",
              " 'ela top linda levar soltar querer mais exploda chora muito agora',\n",
              " 'desandar piranha pique boladao hoje noite mete meter varia posicao querer pente so vir vir jacare tomar tomar tapa tomar tomar tapa tomar tomar tapa tomar tomar tapa voce pedir safar toma tomar tapa tomar tomar tapa tomar tomar tapa voce pedir safar',\n",
              " 'trajar lacoste cordao pescoco valendo carro forte nois tocar bode agora tocar robocop tricote dar fuga cop cop',\n",
              " 'treme treme treme treme treme treme parar treme treme treme treme treme treme devagar',\n",
              " 'madrugada abandonar atender celular tirar onda cheio marra achar perdoar chegar bolar agora querer dou bola sentar chora voce perder dar mole caramba tremer vacilao ta arrepender comer mao pensar car nao bem assim agora babo bobo correr atra',\n",
              " 'tropa forte banca dj pererar traja lacoste',\n",
              " 'nois tr multiplicar familia bem agradeco amem tropa mantem nois vale danadinha vir vir gostar usar fenty shein',\n",
              " 'tropa sabio fazer dinheiro facil destaco favelar milionario passo sempre mais falar calar boca pensar contrario',\n",
              " 'confessar fa voce pareo inspiracao fazer faco contrario tuaer ligar chamar fazer ter ansiedade provar dizer querer fazer mulher contar pro beber quando sentar voce enlouquecer ensinar ter noite prazer botar firme fazer xota arder botar firme fazer xota arder botar firme fazer xota arder botar firme fazer xota arder quando sentar voce enlouquecer ensinar ter noite prazer botar firme fazer xota arder masoquista gostar sofrer mais soltar poder provar bebe botar firme escutar voce gemer botar firme escutar voce gemer',\n",
              " 'andar prancha cuidado tubaraor pegar andar prancha cuidado tubaraor pegar tubarao amo falcao apaixonar apaixonar aqui tubarao enquanto ta apaixonar tubarao empurrar montao apaixonar aqui tubarao enquanto ta apaixonar empurrar montao apaixonar aqui so tubarao enquanto ta apaixonar tubarao empurrar montao poder ver gordin bucetar logo piscr saber tr bala taco pico menina vir estado querer cachorrada querer fuder tubarao rei revoada amo sentar pica safar rebolo pica nao amo sentar pica safar rebolo pica nao vir fuder rei revoada sentar pica vir fuder rei revoada',\n",
              " 'andar prancha cuidado tubaraor pegar andar prancha cuidado tubaraor pegar tubarao amo falcao apaixonar sentar pica safar rebolo pica nao senta pica safar tubarao rebolo pica nao vir foder rei revoada vir foder rei revoada',\n",
              " 'mais vez tesao mais forte mais forte baile fm acontecer',\n",
              " 'trazer boldo trazer lanca prestar atencao usar longe crianca ter complicacao',\n",
              " 'viajar malocar cara correr gerar favela pegar envolver zona sul zona norte rolar festinha broto bonder ta forte rolar festinha broto bonder ta forte acionar tropa rolar resenho sigilo esquema ter balao ter balinha ficar onda perder linha onda lanca botar cansar onda bala sentar vara onda boldo onda boldo foder gostoso foder foder gostoso onda lanca Lanca onda bala balo balo balo balo onda boldo onda boldo foder gostoso foder foder gostoso',\n",
              " 'saber faser fase fase saber faser fase fase recomeco vir clarear descanse Deus passar depois tempestade ha brilhar',\n",
              " 'dar agora dar viver vida loka modelo gta',\n",
              " 'ter ter disputar botar pipokinha ter ter disputar botar pipokinha ter ter disputar botar pipokinha ter ter disputar botar pipokinha',\n",
              " 'garoto escute aqui sempre apoiar fazer feliz poder tentar garanto bom arrumar bem zen viver aprender devar to bem esnobar agora esnobor tambem mais vez vida vir ensinar quando ter fim mente lembrar fiz dar valor antigamente agora ter saber hora acabar pensar coracao disparar quando menos perceber ver ai',\n",
              " 'brisar voce querer ver to puxar assunto voce responder vir vir ficar hora voltar vir matar saudade antes matar',\n",
              " 'to fome querer leite assumar pipoca querer croquete maionese apresentar larico mulekes',\n",
              " 'aturar solteirar pista ficar olhar sair amiga to livre curtir vida hoje tropa botar ferver demais hoje louco abusar presa festa parado dancar frente tra ta demais hoje louco abusar presa festa parado dancar frente tra aturar solteirar pista solteira pista sair amiga to livre curtir vida hoje tropa botar ferver',\n",
              " 'bater balado sensacao claro funk irmao mulher linr rebolar chao purar seducao tranquilao bom to curtir batidao ligar vir sentir emocao mulherar descer chao descer descer',\n",
              " 'usar usar usar larguei familia Escola saber parei maconha usar usar crack copo guaravita fico suave usar usar maconha engordar mais light usar usar',\n",
              " 'voar alto sigo luta trabalhar dobrar voar alto sigo luta trabalhar dobrar show querer saber cara momento fumo braba poder passar tempo pisar hoje dia render poder crer dinheiro tropa ter humildade lixo render ninguem guardar cash multiplicar bem grande meta deixar familia bem poder crer',\n",
              " 'ne conspirar sempre ser piranha querer malote bolso grife bone saber conspirar sempre ser piranha querer malote bolso grife bone saber',\n",
              " 'dormir ficante erro entregar cedo demais saber erro oh erro querer cometer oh evitar voce',\n",
              " 'boca desgrudar copo grau beber preparar preparar misturar misturar virar virar virar serar mais chapado balada saber dormir casa preparar preparar misturar misturar virar virar virar preparar misturar virar virar brinde brinde partir cima brinde brinde brinde brinde partir cima brinde brinde preparar misturar virar virar',\n",
              " 'saber rotina sentir solidao ter palma mao grana gastar so dorme dia acordar madruga sair rua nave procurar festa',\n",
              " 'hoje saio loirinha amanho sento moreninha mae ter nor dia',\n",
              " 'undererere unbadabar dabaue underegunder unbadabar badaba dabaue envolver amor ternura paixao pegar bem lado vir ca tesao envolver noite ter indecisao amo querer vir ca dizer bem baixinho assim amo querer voce noite dia curto voce sim perco nascer desculpe querer bater humilhar parei pensar ciume vir bla bla bla mais amar hoje diante amo vir',\n",
              " 'mc cabelinho saber nao valho largar poder ficar mesmo saber querer compromisso bicho solto voce querer correr risco entao ficar cobrar nao estressar contigo cobrar conversamos voce aceitar maluco neurotico possessivo',\n",
              " 'julgar falar conexao coisa mundo imaginar vir importar sempre muito bom levar paz terrivel tirar neuroses mente bom',\n",
              " 'de aqui frente diferente so querer ver gente universo lir taoer bonito quando louco entender menina carente querer ver sorrir margem distante caixa blunt dose mesa jogo fumaco ar mercer madrugada som risado paz fazer enxergar so much cabeca erguer seguir adiante prometo so futuro brilhante have roma duomo nunca virar dor dato alegr ar permaneca ser querer enxergar nunca cego caira ar nascer aviador',\n",
              " 'saber faltar faltar catuaba verdade embrazar falar catuaba beber embrazar embrazar embrazar embrazar embrazar',\n",
              " 'Menina ta louco querer quebrar cama cara patricia engano tua fama periculosa sentar comandar noite ter mostrar amar saber bandido apaixonar saber bandido apaixonar noite ter mostrar amar noite ter mostrar amar ir chao doidonar ir chao doidonar danca chamar querer pica entao toma ir chao doidonar ir chao doidonar danca chamar querer pica entao toma',\n",
              " 'nunca amar simplesmente usar abusar voce nunca amar usar abusar',\n",
              " 'ella parar bate bate prender Chispa mira bate bate cuar maneja desacatar bate bater party empieza vamo dale ga',\n",
              " 'ver ouco bokaloka so amenizar briga motivo fazer afastar sentimento fragil facil abalar viver briga bom terminar rasgar peita lacoste jogar alianca avisar vaza ter volta inconveniente viro costa chorar lembrar gente depois ir bom bem bom so assim demorei terminar so se ver story ciume sofrer semblante mudar cara fecho sincero ainda esperar fundo esperar aconteca bem esperar sigar bem tambem encontre alguer facar bem jeito sempre querer pecar deus mais feliz partir agora ter ir esperar entendir recar saber cama chorar normal saber foda chegar momento dizer hora falar partir mais iludir cansei hora falar partir mais iludir cansei bem bom',\n",
              " 'rezo pecar deus cuidar cuidar vida abencoarr abencoar correr voce ate fim assim saber alguir fazer tao bem mais amigo irmao valeu',\n",
              " 'acordar fiquei desanimar olhei pro celular ter recado perguntei dizer facar desculpe amor voltar pro braco liguei atender ate enter contigo ser humano erra ligar necessidade falar saber errei puta pecar desculpa cara emburrar dar porra infelizmente ta tristir poder dizer abandonar querer voce entao fugir querer ter familiar lar feliz dia noite ver sorrir dizer sim ficar junto ate depois fim abraco cheirar carinho amor deixar sozinho',\n",
              " 'sentar senta senta senta senta senta droga',\n",
              " 'marca ver poder ferver hoje querer voce vir satisfazer jeito amarro jogo rabo sequencia toma tomar sequencia vapo vapo jogo rabo jogo rabo sequencia toma tomar sequencia vapo vapo avisar envolver papo passar boato voce enlouquecer dar prazer pedir prazer agora poder fazer querer mais voce falar querer tua mulher tomar vergonha cara largo meu muito louco onda chameir criar base rolar chuva',\n",
              " 'vir poder chamar vir captiva citroen hornet vir ter galo tambem ter vermelho tambem hoje nao ninguem nao ninguem',\n",
              " 'vir sentar pai jacare mandar mandar descer checa subir checa',\n",
              " 'pensar vida acaso ta dificil ta caminho certo sabe peso fardo forca continuar sucesso mais perto caminho fe senhor naoer queda fazer parar conquistar saber valor vir derramar criticar apoiar palavra desanimar desacreditar mostrar aprender facil derrubar vencedor vencedor mostrar mundo valor certezar dia chegar sonhar vencedor vencedor mostrar mundo valor calmo ainda provar capaz merecedor',\n",
              " 'ciclone vento km chegar jacare respeitar caralho agora fazer pular pular sentar ate acabar fogo quico forca cima Brasil garoto quico forca garoto quico quico quico garoto fazer pular pular sentar ate acabar fogo quico forca garoto quico forca garoto quico quico quico garoto car limite jacare jacare',\n",
              " 'passar ficar descontrolada pedir mais safar cara tipo querer ve cara coracao parede cair labia provar intencao esqueci tempo crianca nao infancia ter certezar hoje ronco esperanca alcancar teu grande objetivo garupa mina amigo grife menino azul destino ilhabela avistar mulher belo dizer fera achar castelo cinderela achar castelo cinderela achar castelo cinderela achar castelo cinderela',\n",
              " 'vida bom como querer voce abracar noite fria vez fechar olho pensar lado sentir pele ver olhar inexplicavel infelizmente noite chegar aqui sozinho quarto voce perto magoei passado favor perdoa nao dar machuquei hoje sinto agora saber fiz errar quase perdi esquecer passado',\n",
              " 'fiz quintal vender grama verdinha real fiz quintal vender grama verdinha real',\n",
              " 'olhar tormento tapa cara ideia vergonha midia colocar cuzao datena ar falar dar perder policia',\n",
              " 'olhar tormento tapa cara ideia vergonha midia colocar cuzao datena ar falar dar perder policia',\n",
              " 'faixa gaza homem bombar guerra nada vario titanio pente coleter prova bala descer pista fazer assalto mais bolar perfume importar pistolar ouro poder lutar conquistar precisar credito pagar ver ecko lacoste peca varia camisas time fora ate pensar mole viver crime planto humildade colher poder recompensa vir logo fora lei lei fazer certo aceitar nao chegar ganhar moral cria consideracao ter age pureza amar papo reto bota pecar mesa amigo ver morar cer tempo despedir mais fazer papel mandar mandar assim cvrl ate fim vermelhaor pequenininho so pequeno bolar favela baixinho nao nao nao mar assim cvrl ate fim vermelhaor pequenininho so pequeno bolar favela baixinho',\n",
              " 'menina comportadinha resolver namorar puta babaca deixar casa balada zoar agora nao querer saber soltar revoltar tar agora resolver parada fico casa fico casa botar botar botar',\n",
              " 'vida bandido jogo bruto hoje festa amanho luto Caveirao assustar fugir conflito blindar sangue jesus cristo',\n",
              " 'vida muito louco saber bem como sao vario mandadao testa fe ter mandar volta re rodo lacoste peito sempre posturar bolso cheio dinheiro poder fazer vivo vida jeito arrastar cima contar segredo',\n",
              " 'balanca bunda agora querer ver voce descer',\n",
              " 'varia danadinhar contatinho pai vario danadinha contatinho pai vario danadinha contatinho pai',\n",
              " 'bota tiro empurra encaixo machucar bota tiro empurra encaixo machucar bota tiro empurra encaixo machucar hoje so querer dar',\n",
              " 'vacilao sair fora caminho neurose aqui ter sobra Deus sempre sozinho ficar ficar sair respeitar historia luta assim agora entao boca voce falar aqui so ter merecedor cair paraqueda mo atividader ladeira beco palmear voce garantir seguranca momento lazer baile rolar visao cria lir querer ver melhoria favela crianca sorrir solta soltar soltar soltar alemao pegar volta soltar soltar soltar soltar depois tropar pisa nunca mais alemao volta',\n",
              " 'analisar querer bem deixeir coroa preocupacao entrar vida errar querer saber estudo pai xingar quase pegar murro menino vagabur menino vagabur falar virar cantor acreditar ate vida mostrar ter medo passar passar vitoria chegar deus abencoar madeira buraco telha tampar amem vitorio chegar deus abencoar hoje enter preciso passar veneno dar valor',\n",
              " 'pegar vizinho gracinha dar mole grande tempao',\n",
              " 'conquistar apenas sorriso voce lado precisar sentir beijo molhar sentir calor teu braco querer voce lado enquanto existir sera amar pecar sera acabar deixar ir conquistar fazer ensinar ser',\n",
              " 'perguntar digar bem feliz ter alguir perguntar digar feliz curtir vida jeito sempre querer nao digo verdade alegria fiz quarto pequeno ilha sobrancelha cabelo fazer perdi vontade viver mais dificil acostumar tempo bom remedio ajudar voce nunca verar chorar voce nunca verar chorar',\n",
              " 'volta bebe volta nao ninguem to saudade sentadinha ter volta bebe volta nenem volta bebe volta nenem saudade sentadinha ter volta bebe volta nao ninguem',\n",
              " 'buscar mercede buscar versatilidade permitir opinar preto vermelha marromr comprar so comecar brincar buscar tal versatilidade permitir opinar preto vermelha marromr comprar so comecar brincar',\n",
              " 'desafiar dizer saber dancar dizer saber mexer ter provar pagar ver voce dizer cansar balada rainha danca entao rebolar descer entao descer realmente rainhar acabar provar top ter estilo quando empina fazer quadradinho',\n",
              " 'dar mole engravidar novinha dar mole engravidar novinha',\n",
              " 'vir cabare vir vir cabare cheio mulher so ter mulher tarar vir cabare vir vir cabare entao largar casa morar cabare largar casa morar cabare fico vontade rodear mulher fico vontade rodear mulher vir cabare vir vir cabare vir cabare vir vir cabare safar saber agora perturba dia noite noite dia contento nem tre ter mulher dia mes vir mc duzinho assim assim assim largar casa morar cabare largar casa morar cabare',\n",
              " 'casa tomar bala cama pelar encher corpo marca batom peguei verde peguei lanca xereco lanca hidromassagem pronto pro perigo passar cabecinha xererequinha antes avisar perdoar botar botar botar colocar colocar colocar fazer tremer perninha logo quando gozar botar botar botar colocar colocar colocar fazer tremer perninha logo quando gozar botar botar botar colocar colocar colocar fazer tremer perninha logo quando gozar passar passar derruba fumado suruba particular abastecer bala pura querer pular poder sentar pisa bater mente safada tesao bater junto aguentar pedir botar amor pedir botar pedir botar amor pedir botar',\n",
              " 'levar bem longe de aqui fumar Beira verme nunca encontrar gente perguntar gente cheio entorpecente fumar transar',\n",
              " 'passar visao hoje poder forgar desfrutar lala chavao piao perguntar botar gritar tal torpedao',\n",
              " 'deixar forgar deixar ta lala gritar chavao peao deixar lado opiniao recalcar de aqui escuto barulho robozao',\n",
              " 'vario abandonar so faltar fe dizer amar madrugada sobrar pois mae sempre manter nois sempre ajudar sempre alertar nunca escutar sempre faltar tar atra melhor fazer favor agora olhar ir cadeia visitar voce agora dia saber senhora chorar veinho sabadao chegar visitar saber sozinho sexta feira madruga partir poder nois trombar poder falar ai',\n",
              " 'postura mesmo so mudar valor bolso menozinho iraque saber sair poco exorciso cama nem samara ficar louco dom ter pescoco lancha dubai comi bitch botar pau fora entender dizer shit dick',\n",
              " 'tentar pegar gangue ouvir diamante saber nao nao mais gravar video dar tapa bumbum dentro dentro gravar video fazer sexo',\n",
              " 'querer quero juju japones entao bola mais esquecer pai vento entao vir barra recreio patricia quebrar meio vir penha rocinha ganhar midio sentar',\n",
              " 'nascer xoxota abrir lua sonho menine ver todinha nu banheiro sacar talento rocar bem gostoso perder Movimento',\n",
              " 'bater bunda forte bate bunda forte bate bunda forte zaquin bate bunda forte bate bunda forte bate bunda forte bate bunda forte bate bunda forte bate bunda forte zaquin']"
            ]
          },
          "metadata": {},
          "execution_count": 11
        }
      ]
    },
    {
      "cell_type": "code",
      "source": [
        "\n",
        "# create the document-word matrix\n",
        "\n",
        "vectorizer = CountVectorizer(analyzer='word',\n",
        "                             min_df=2, #minima recorrencia de 1 palavra\n",
        "                             lowercase=True,\n",
        "                             token_pattern='[a-zA-Z0-9]{3,}',\n",
        "   )\n",
        "\n",
        "data_vectorized = vectorizer.fit_transform(data_lemmatized)\n",
        "\n",
        "vectorizer.get_feature_names_out()"
      ],
      "metadata": {
        "colab": {
          "base_uri": "https://localhost:8080/"
        },
        "id": "XS-3z0FKZUlC",
        "outputId": "869c42fd-4b3a-4a56-e3bc-b2fb67a3201b"
      },
      "execution_count": null,
      "outputs": [
        {
          "output_type": "execute_result",
          "data": {
            "text/plain": [
              "array(['abalar', 'abandonar', 'abandono', ..., 'xota', 'yeah', 'zona'],\n",
              "      dtype=object)"
            ]
          },
          "metadata": {},
          "execution_count": 12
        }
      ]
    },
    {
      "cell_type": "code",
      "source": [
        "data_vectorized"
      ],
      "metadata": {
        "colab": {
          "base_uri": "https://localhost:8080/"
        },
        "id": "R7byrAXKYUWX",
        "outputId": "d161caf2-6a2b-47f6-ef4f-4a921c7890d2"
      },
      "execution_count": null,
      "outputs": [
        {
          "output_type": "execute_result",
          "data": {
            "text/plain": [
              "<596x1609 sparse matrix of type '<class 'numpy.int64'>'\n",
              "\twith 11329 stored elements in Compressed Sparse Row format>"
            ]
          },
          "metadata": {},
          "execution_count": 13
        }
      ]
    },
    {
      "cell_type": "code",
      "source": [
        "\n",
        "# Build LDA Model\n",
        "lda_model = LatentDirichletAllocation(n_components=5,               # Number of topics\n",
        "                                      max_iter=20,\n",
        "# Max learning iterations\n",
        "                                      learning_method='batch',\n",
        "                                      random_state=100,\n",
        "                                      evaluate_every = -1\n",
        "\n",
        "                )"
      ],
      "metadata": {
        "id": "w1co1kirgQSb"
      },
      "execution_count": null,
      "outputs": []
    },
    {
      "cell_type": "code",
      "source": [
        "\n",
        "lda_output = lda_model.fit_transform(data_vectorized)\n",
        "print(lda_model)  # Model attributes\n",
        "\n",
        "# Log Likelyhood: Higher the better\n",
        "print(\"Log Likelihood: \", lda_model.score(data_vectorized))\n",
        "# Perplexity: Lower the better. Perplexity = exp(-1. * log-likelihood per word)\n",
        "print(\"Perplexity: \", lda_model.perplexity(data_vectorized))"
      ],
      "metadata": {
        "colab": {
          "base_uri": "https://localhost:8080/"
        },
        "id": "ut2_x77a7PlB",
        "outputId": "8e7842c4-c24b-4005-d2d0-797697895e83"
      },
      "execution_count": null,
      "outputs": [
        {
          "output_type": "stream",
          "name": "stdout",
          "text": [
            "LatentDirichletAllocation(max_iter=20, n_components=5, random_state=100)\n",
            "Log Likelihood:  -112343.3121350933\n",
            "Perplexity:  815.5490494443528\n"
          ]
        }
      ]
    },
    {
      "cell_type": "code",
      "source": [
        "\n",
        "# Create Document — Topic Matrix\n",
        "# lda_output = best_lda_model.transform(data_vectorized)\n",
        "lda_output = lda_model.transform(data_vectorized)\n",
        "\n",
        "# column names\n",
        "topicnames = ['Topic' + str(i) for i in range(lda_model.n_components)]\n",
        "# index names\n",
        "docnames = ['Doc' + str(i) for i in range(len(data))]\n",
        "# Make the pandas dataframe\n",
        "df_document_topic = pd.DataFrame(np.round(lda_output, 2), columns=topicnames, index=docnames)\n",
        "# Get dominant topic for each document\n",
        "dominant_topic = np.argmax(df_document_topic.values, axis=1)\n",
        "df_document_topic['dominant_topic'] = dominant_topic"
      ],
      "metadata": {
        "id": "vNwSvYrc7bs5"
      },
      "execution_count": null,
      "outputs": []
    },
    {
      "cell_type": "code",
      "source": [
        "lda_output"
      ],
      "metadata": {
        "colab": {
          "base_uri": "https://localhost:8080/"
        },
        "id": "7TizWP28GoR6",
        "outputId": "ff5ac80f-cc2c-47a8-b2ff-9f86f797b497"
      },
      "execution_count": null,
      "outputs": [
        {
          "output_type": "execute_result",
          "data": {
            "text/plain": [
              "array([[0.0733726 , 0.0081467 , 0.00805763, 0.51403286, 0.39639021],\n",
              "       [0.00843932, 0.00866015, 0.00848829, 0.00845651, 0.96595573],\n",
              "       [0.23286709, 0.00510809, 0.00502791, 0.00508246, 0.75191446],\n",
              "       ...,\n",
              "       [0.00971783, 0.00977128, 0.0098525 , 0.96071878, 0.00993961],\n",
              "       [0.01454197, 0.01449807, 0.14124316, 0.01444999, 0.81526682],\n",
              "       [0.00721943, 0.00727836, 0.00729693, 0.007221  , 0.97098428]])"
            ]
          },
          "metadata": {},
          "execution_count": 17
        }
      ]
    },
    {
      "cell_type": "code",
      "source": [
        "df_output = pd.DataFrame(data = lda_output,columns=topicnames)\n",
        "df_output.sum(1)"
      ],
      "metadata": {
        "colab": {
          "base_uri": "https://localhost:8080/"
        },
        "id": "7QScYbfmHI5U",
        "outputId": "7754eefa-a585-41bb-8746-54cf409fef72"
      },
      "execution_count": null,
      "outputs": [
        {
          "output_type": "execute_result",
          "data": {
            "text/plain": [
              "0      1.0\n",
              "1      1.0\n",
              "2      1.0\n",
              "3      1.0\n",
              "4      1.0\n",
              "      ... \n",
              "591    1.0\n",
              "592    1.0\n",
              "593    1.0\n",
              "594    1.0\n",
              "595    1.0\n",
              "Length: 596, dtype: float64"
            ]
          },
          "metadata": {},
          "execution_count": 18
        }
      ]
    },
    {
      "cell_type": "code",
      "source": [
        "# PCA na tabela de frequencia de palavras\n",
        "\n",
        "pca = PCA(n_components=100)\n",
        "matriz_pca = pca.fit_transform(data_vectorized.toarray())\n",
        "# print(matriz_pca)\n",
        "pd.DataFrame(data=pca.explained_variance_ratio_).to_excel(r'/content/drive/MyDrive/UFRGS/mestrado/PLN/analise funk/analise_musicas LDA/pca.xlsx')\n",
        "\n",
        "\n",
        "# não funciona, pouca variância explicada, primeiras 2 componentes só explicam 11% da variância"
      ],
      "metadata": {
        "id": "bzAQN9PDYkEc"
      },
      "execution_count": null,
      "outputs": []
    },
    {
      "cell_type": "code",
      "source": [],
      "metadata": {
        "id": "_bREDhwjGSm3"
      },
      "execution_count": null,
      "outputs": []
    },
    {
      "cell_type": "code",
      "source": [
        "df_final = pd.concat([df2,df_output],axis=1)\n",
        "df_final.head()\n",
        "df_final.to_excel(r'/content/drive/MyDrive/UFRGS/mestrado/PLN/analise funk/analise_musicas LDA/musicas_cluster.xlsx')\n"
      ],
      "metadata": {
        "id": "G7lNx-bbUcHc"
      },
      "execution_count": null,
      "outputs": []
    },
    {
      "cell_type": "code",
      "source": [
        "df_final['cluster'] = df_final[['Topic0','Topic1','Topic2','Topic3','Topic4']].idxmax(1)\n",
        "df_final['cluster_value'] = df_final[['Topic0','Topic1','Topic2','Topic0','Topic0']].max(1)\n",
        "df_final['cluster_distance'] = 1-df_final['cluster_value']"
      ],
      "metadata": {
        "id": "JG5dRensHj9H"
      },
      "execution_count": null,
      "outputs": []
    },
    {
      "cell_type": "code",
      "source": [
        "\n",
        "cardinalidade = df_final['cluster'].value_counts()\n",
        "cardinalidade.plot(kind='bar',title='Cardinalidade')"
      ],
      "metadata": {
        "colab": {
          "base_uri": "https://localhost:8080/",
          "height": 499
        },
        "id": "1M6zOmBpI5RI",
        "outputId": "c5f7205e-ff23-465b-a133-a10f38e49a7f"
      },
      "execution_count": null,
      "outputs": [
        {
          "output_type": "execute_result",
          "data": {
            "text/plain": [
              "<Axes: title={'center': 'Cardinalidade'}>"
            ]
          },
          "metadata": {},
          "execution_count": 22
        },
        {
          "output_type": "display_data",
          "data": {
            "text/plain": [
              "<Figure size 640x480 with 1 Axes>"
            ],
            "image/png": "[encoded data removed]"
          },
          "metadata": {}
        }
      ]
    },
    {
      "cell_type": "code",
      "source": [
        "# magnitude\n",
        "\n",
        "df_final['aux'] = 1\n",
        "\n",
        "magnitude = df_final.groupby(['cluster']).agg({'cluster_distance':'sum','aux':'sum'})\n",
        "\n",
        "magnitude[['cluster_distance']].plot(kind='bar',title='Magnitude')"
      ],
      "metadata": {
        "colab": {
          "base_uri": "https://localhost:8080/",
          "height": 519
        },
        "id": "A9RzLoUYJn7G",
        "outputId": "11aeda58-e98a-4f54-b241-e9f533d4a4ac"
      },
      "execution_count": null,
      "outputs": [
        {
          "output_type": "execute_result",
          "data": {
            "text/plain": [
              "<Axes: title={'center': 'Magnitude'}, xlabel='cluster'>"
            ]
          },
          "metadata": {},
          "execution_count": 30
        },
        {
          "output_type": "display_data",
          "data": {
            "text/plain": [
              "<Figure size 640x480 with 1 Axes>"
            ],
            "image/png": "[encoded data removed]"
          },
          "metadata": {}
        }
      ]
    },
    {
      "cell_type": "code",
      "source": [
        "magnitude['magnitude_percentual'] = magnitude['cluster_distance']/magnitude['aux']\n",
        "\n",
        "magnitude['magnitude_percentual'].plot(kind='bar',title='Magnitude percentual')"
      ],
      "metadata": {
        "colab": {
          "base_uri": "https://localhost:8080/",
          "height": 519
        },
        "id": "cROsn63k7Niz",
        "outputId": "2eb2c537-5651-4416-a954-d16f2abcba44"
      },
      "execution_count": null,
      "outputs": [
        {
          "output_type": "execute_result",
          "data": {
            "text/plain": [
              "<Axes: title={'center': 'Magnitude percentual'}, xlabel='cluster'>"
            ]
          },
          "metadata": {},
          "execution_count": 34
        },
        {
          "output_type": "display_data",
          "data": {
            "text/plain": [
              "<Figure size 640x480 with 1 Axes>"
            ],
            "image/png": "[encoded data removed]"
          },
          "metadata": {}
        }
      ]
    },
    {
      "cell_type": "code",
      "source": [
        "magnitude"
      ],
      "metadata": {
        "colab": {
          "base_uri": "https://localhost:8080/",
          "height": 238
        },
        "id": "_eLHsj4YOevB",
        "outputId": "c094d1b5-34bf-4d94-f5e0-8f1e587a04c5"
      },
      "execution_count": null,
      "outputs": [
        {
          "output_type": "execute_result",
          "data": {
            "text/plain": [
              "         cluster_distance\n",
              "cluster                  \n",
              "Topic0          11.572285\n",
              "Topic1          13.898285\n",
              "Topic2          13.257576\n",
              "Topic3          78.179208\n",
              "Topic4         239.630563"
            ],
            "text/html": [
              "\n",
              "\n",
              "  <div id=\"df-ba311b63-681f-4946-8858-0483145398a8\">\n",
              "    <div class=\"colab-df-container\">\n",
              "      <div>\n",
              "<style scoped>\n",
              "    .dataframe tbody tr th:only-of-type {\n",
              "        vertical-align: middle;\n",
              "    }\n",
              "\n",
              "    .dataframe tbody tr th {\n",
              "        vertical-align: top;\n",
              "    }\n",
              "\n",
              "    .dataframe thead th {\n",
              "        text-align: right;\n",
              "    }\n",
              "</style>\n",
              "<table border=\"1\" class=\"dataframe\">\n",
              "  <thead>\n",
              "    <tr style=\"text-align: right;\">\n",
              "      <th></th>\n",
              "      <th>cluster_distance</th>\n",
              "    </tr>\n",
              "    <tr>\n",
              "      <th>cluster</th>\n",
              "      <th></th>\n",
              "    </tr>\n",
              "  </thead>\n",
              "  <tbody>\n",
              "    <tr>\n",
              "      <th>Topic0</th>\n",
              "      <td>11.572285</td>\n",
              "    </tr>\n",
              "    <tr>\n",
              "      <th>Topic1</th>\n",
              "      <td>13.898285</td>\n",
              "    </tr>\n",
              "    <tr>\n",
              "      <th>Topic2</th>\n",
              "      <td>13.257576</td>\n",
              "    </tr>\n",
              "    <tr>\n",
              "      <th>Topic3</th>\n",
              "      <td>78.179208</td>\n",
              "    </tr>\n",
              "    <tr>\n",
              "      <th>Topic4</th>\n",
              "      <td>239.630563</td>\n",
              "    </tr>\n",
              "  </tbody>\n",
              "</table>\n",
              "</div>\n",
              "      <button class=\"colab-df-convert\" onclick=\"convertToInteractive('df-ba311b63-681f-4946-8858-0483145398a8')\"\n",
              "              title=\"Convert this dataframe to an interactive table.\"\n",
              "              style=\"display:none;\">\n",
              "\n",
              "  <svg xmlns=\"http://www.w3.org/2000/svg\" height=\"24px\"viewBox=\"0 0 24 24\"\n",
              "       width=\"24px\">\n",
              "    <path d=\"M0 0h24v24H0V0z\" fill=\"none\"/>\n",
              "    <path d=\"M18.56 5.44l.94 2.06.94-2.06 2.06-.94-2.06-.94-.94-2.06-.94 2.06-2.06.94zm-11 1L8.5 8.5l.94-2.06 2.06-.94-2.06-.94L8.5 2.5l-.94 2.06-2.06.94zm10 10l.94 2.06.94-2.06 2.06-.94-2.06-.94-.94-2.06-.94 2.06-2.06.94z\"/><path d=\"M17.41 7.96l-1.37-1.37c-.4-.4-.92-.59-1.43-.59-.52 0-1.04.2-1.43.59L10.3 9.45l-7.72 7.72c-.78.78-.78 2.05 0 2.83L4 21.41c.39.39.9.59 1.41.59.51 0 1.02-.2 1.41-.59l7.78-7.78 2.81-2.81c.8-.78.8-2.07 0-2.86zM5.41 20L4 18.59l7.72-7.72 1.47 1.35L5.41 20z\"/>\n",
              "  </svg>\n",
              "      </button>\n",
              "\n",
              "\n",
              "\n",
              "    <div id=\"df-acbd3073-cbdd-4057-85fd-50a7ce5d802e\">\n",
              "      <button class=\"colab-df-quickchart\" onclick=\"quickchart('df-acbd3073-cbdd-4057-85fd-50a7ce5d802e')\"\n",
              "              title=\"Suggest charts.\"\n",
              "              style=\"display:none;\">\n",
              "\n",
              "<svg xmlns=\"http://www.w3.org/2000/svg\" height=\"24px\"viewBox=\"0 0 24 24\"\n",
              "     width=\"24px\">\n",
              "    <g>\n",
              "        <path d=\"M19 3H5c-1.1 0-2 .9-2 2v14c0 1.1.9 2 2 2h14c1.1 0 2-.9 2-2V5c0-1.1-.9-2-2-2zM9 17H7v-7h2v7zm4 0h-2V7h2v10zm4 0h-2v-4h2v4z\"/>\n",
              "    </g>\n",
              "</svg>\n",
              "      </button>\n",
              "    </div>\n",
              "\n",
              "<style>\n",
              "  .colab-df-quickchart {\n",
              "    background-color: #E8F0FE;\n",
              "    border: none;\n",
              "    border-radius: 50%;\n",
              "    cursor: pointer;\n",
              "    display: none;\n",
              "    fill: #1967D2;\n",
              "    height: 32px;\n",
              "    padding: 0 0 0 0;\n",
              "    width: 32px;\n",
              "  }\n",
              "\n",
              "  .colab-df-quickchart:hover {\n",
              "    background-color: #E2EBFA;\n",
              "    box-shadow: 0px 1px 2px rgba(60, 64, 67, 0.3), 0px 1px 3px 1px rgba(60, 64, 67, 0.15);\n",
              "    fill: #174EA6;\n",
              "  }\n",
              "\n",
              "  [theme=dark] .colab-df-quickchart {\n",
              "    background-color: #3B4455;\n",
              "    fill: #D2E3FC;\n",
              "  }\n",
              "\n",
              "  [theme=dark] .colab-df-quickchart:hover {\n",
              "    background-color: #434B5C;\n",
              "    box-shadow: 0px 1px 3px 1px rgba(0, 0, 0, 0.15);\n",
              "    filter: drop-shadow(0px 1px 2px rgba(0, 0, 0, 0.3));\n",
              "    fill: #FFFFFF;\n",
              "  }\n",
              "</style>\n",
              "\n",
              "    <script>\n",
              "      async function quickchart(key) {\n",
              "        const containerElement = document.querySelector('#' + key);\n",
              "        const charts = await google.colab.kernel.invokeFunction(\n",
              "            'suggestCharts', [key], {});\n",
              "      }\n",
              "    </script>\n",
              "\n",
              "      <script>\n",
              "\n",
              "function displayQuickchartButton(domScope) {\n",
              "  let quickchartButtonEl =\n",
              "    domScope.querySelector('#df-acbd3073-cbdd-4057-85fd-50a7ce5d802e button.colab-df-quickchart');\n",
              "  quickchartButtonEl.style.display =\n",
              "    google.colab.kernel.accessAllowed ? 'block' : 'none';\n",
              "}\n",
              "\n",
              "        displayQuickchartButton(document);\n",
              "      </script>\n",
              "      <style>\n",
              "    .colab-df-container {\n",
              "      display:flex;\n",
              "      flex-wrap:wrap;\n",
              "      gap: 12px;\n",
              "    }\n",
              "\n",
              "    .colab-df-convert {\n",
              "      background-color: #E8F0FE;\n",
              "      border: none;\n",
              "      border-radius: 50%;\n",
              "      cursor: pointer;\n",
              "      display: none;\n",
              "      fill: #1967D2;\n",
              "      height: 32px;\n",
              "      padding: 0 0 0 0;\n",
              "      width: 32px;\n",
              "    }\n",
              "\n",
              "    .colab-df-convert:hover {\n",
              "      background-color: #E2EBFA;\n",
              "      box-shadow: 0px 1px 2px rgba(60, 64, 67, 0.3), 0px 1px 3px 1px rgba(60, 64, 67, 0.15);\n",
              "      fill: #174EA6;\n",
              "    }\n",
              "\n",
              "    [theme=dark] .colab-df-convert {\n",
              "      background-color: #3B4455;\n",
              "      fill: #D2E3FC;\n",
              "    }\n",
              "\n",
              "    [theme=dark] .colab-df-convert:hover {\n",
              "      background-color: #434B5C;\n",
              "      box-shadow: 0px 1px 3px 1px rgba(0, 0, 0, 0.15);\n",
              "      filter: drop-shadow(0px 1px 2px rgba(0, 0, 0, 0.3));\n",
              "      fill: #FFFFFF;\n",
              "    }\n",
              "  </style>\n",
              "\n",
              "      <script>\n",
              "        const buttonEl =\n",
              "          document.querySelector('#df-ba311b63-681f-4946-8858-0483145398a8 button.colab-df-convert');\n",
              "        buttonEl.style.display =\n",
              "          google.colab.kernel.accessAllowed ? 'block' : 'none';\n",
              "\n",
              "        async function convertToInteractive(key) {\n",
              "          const element = document.querySelector('#df-ba311b63-681f-4946-8858-0483145398a8');\n",
              "          const dataTable =\n",
              "            await google.colab.kernel.invokeFunction('convertToInteractive',\n",
              "                                                     [key], {});\n",
              "          if (!dataTable) return;\n",
              "\n",
              "          const docLinkHtml = 'Like what you see? Visit the ' +\n",
              "            '<a target=\"_blank\" href=https://colab.research.google.com/notebooks/data_table.ipynb>data table notebook</a>'\n",
              "            + ' to learn more about interactive tables.';\n",
              "          element.innerHTML = '';\n",
              "          dataTable['output_type'] = 'display_data';\n",
              "          await google.colab.output.renderOutput(dataTable, element);\n",
              "          const docLink = document.createElement('div');\n",
              "          docLink.innerHTML = docLinkHtml;\n",
              "          element.appendChild(docLink);\n",
              "        }\n",
              "      </script>\n",
              "    </div>\n",
              "  </div>\n"
            ]
          },
          "metadata": {},
          "execution_count": 24
        }
      ]
    },
    {
      "cell_type": "code",
      "source": [
        "cardvsmg = magnitude.copy()\n",
        "cardvsmg['cardinalidade'] = cardinalidade\n",
        "cardvsmg['magnitude'] = cardvsmg['cluster_distance']\n",
        "\n",
        "cardvsmg.plot(x = 'cardinalidade', y = 'magnitude', kind='scatter')"
      ],
      "metadata": {
        "colab": {
          "base_uri": "https://localhost:8080/",
          "height": 470
        },
        "id": "KIX9sE6ONwUR",
        "outputId": "aa16ab65-df02-44c3-b14d-cf723fe22783"
      },
      "execution_count": null,
      "outputs": [
        {
          "output_type": "execute_result",
          "data": {
            "text/plain": [
              "<Axes: xlabel='cardinalidade', ylabel='magnitude'>"
            ]
          },
          "metadata": {},
          "execution_count": 25
        },
        {
          "output_type": "display_data",
          "data": {
            "text/plain": [
              "<Figure size 640x480 with 1 Axes>"
            ],
            "image/png": "[encoded data removed]"
          },
          "metadata": {}
        }
      ]
    },
    {
      "cell_type": "code",
      "source": [
        "cardvsmg[['cardinalidade','magnitude']]"
      ],
      "metadata": {
        "colab": {
          "base_uri": "https://localhost:8080/",
          "height": 237
        },
        "id": "cKO_pW62Oz3X",
        "outputId": "80d1feca-84c6-4848-b3d4-f040ac2b7f80"
      },
      "execution_count": null,
      "outputs": [
        {
          "output_type": "execute_result",
          "data": {
            "text/plain": [
              "         cardinalidade   magnitude\n",
              "cluster                           \n",
              "Topic0              72   11.572285\n",
              "Topic1              85   13.898285\n",
              "Topic2              77   13.257576\n",
              "Topic3              85   78.179208\n",
              "Topic4             277  239.630563"
            ],
            "text/html": [
              "\n",
              "\n",
              "  <div id=\"df-7d5157e5-eadf-400e-92ef-6f9b6f8c4f04\">\n",
              "    <div class=\"colab-df-container\">\n",
              "      <div>\n",
              "<style scoped>\n",
              "    .dataframe tbody tr th:only-of-type {\n",
              "        vertical-align: middle;\n",
              "    }\n",
              "\n",
              "    .dataframe tbody tr th {\n",
              "        vertical-align: top;\n",
              "    }\n",
              "\n",
              "    .dataframe thead th {\n",
              "        text-align: right;\n",
              "    }\n",
              "</style>\n",
              "<table border=\"1\" class=\"dataframe\">\n",
              "  <thead>\n",
              "    <tr style=\"text-align: right;\">\n",
              "      <th></th>\n",
              "      <th>cardinalidade</th>\n",
              "      <th>magnitude</th>\n",
              "    </tr>\n",
              "    <tr>\n",
              "      <th>cluster</th>\n",
              "      <th></th>\n",
              "      <th></th>\n",
              "    </tr>\n",
              "  </thead>\n",
              "  <tbody>\n",
              "    <tr>\n",
              "      <th>Topic0</th>\n",
              "      <td>72</td>\n",
              "      <td>11.572285</td>\n",
              "    </tr>\n",
              "    <tr>\n",
              "      <th>Topic1</th>\n",
              "      <td>85</td>\n",
              "      <td>13.898285</td>\n",
              "    </tr>\n",
              "    <tr>\n",
              "      <th>Topic2</th>\n",
              "      <td>77</td>\n",
              "      <td>13.257576</td>\n",
              "    </tr>\n",
              "    <tr>\n",
              "      <th>Topic3</th>\n",
              "      <td>85</td>\n",
              "      <td>78.179208</td>\n",
              "    </tr>\n",
              "    <tr>\n",
              "      <th>Topic4</th>\n",
              "      <td>277</td>\n",
              "      <td>239.630563</td>\n",
              "    </tr>\n",
              "  </tbody>\n",
              "</table>\n",
              "</div>\n",
              "      <button class=\"colab-df-convert\" onclick=\"convertToInteractive('df-7d5157e5-eadf-400e-92ef-6f9b6f8c4f04')\"\n",
              "              title=\"Convert this dataframe to an interactive table.\"\n",
              "              style=\"display:none;\">\n",
              "\n",
              "  <svg xmlns=\"http://www.w3.org/2000/svg\" height=\"24px\"viewBox=\"0 0 24 24\"\n",
              "       width=\"24px\">\n",
              "    <path d=\"M0 0h24v24H0V0z\" fill=\"none\"/>\n",
              "    <path d=\"M18.56 5.44l.94 2.06.94-2.06 2.06-.94-2.06-.94-.94-2.06-.94 2.06-2.06.94zm-11 1L8.5 8.5l.94-2.06 2.06-.94-2.06-.94L8.5 2.5l-.94 2.06-2.06.94zm10 10l.94 2.06.94-2.06 2.06-.94-2.06-.94-.94-2.06-.94 2.06-2.06.94z\"/><path d=\"M17.41 7.96l-1.37-1.37c-.4-.4-.92-.59-1.43-.59-.52 0-1.04.2-1.43.59L10.3 9.45l-7.72 7.72c-.78.78-.78 2.05 0 2.83L4 21.41c.39.39.9.59 1.41.59.51 0 1.02-.2 1.41-.59l7.78-7.78 2.81-2.81c.8-.78.8-2.07 0-2.86zM5.41 20L4 18.59l7.72-7.72 1.47 1.35L5.41 20z\"/>\n",
              "  </svg>\n",
              "      </button>\n",
              "\n",
              "\n",
              "\n",
              "    <div id=\"df-62274862-52e1-4f92-b7f9-ca7bb4e70181\">\n",
              "      <button class=\"colab-df-quickchart\" onclick=\"quickchart('df-62274862-52e1-4f92-b7f9-ca7bb4e70181')\"\n",
              "              title=\"Suggest charts.\"\n",
              "              style=\"display:none;\">\n",
              "\n",
              "<svg xmlns=\"http://www.w3.org/2000/svg\" height=\"24px\"viewBox=\"0 0 24 24\"\n",
              "     width=\"24px\">\n",
              "    <g>\n",
              "        <path d=\"M19 3H5c-1.1 0-2 .9-2 2v14c0 1.1.9 2 2 2h14c1.1 0 2-.9 2-2V5c0-1.1-.9-2-2-2zM9 17H7v-7h2v7zm4 0h-2V7h2v10zm4 0h-2v-4h2v4z\"/>\n",
              "    </g>\n",
              "</svg>\n",
              "      </button>\n",
              "    </div>\n",
              "\n",
              "<style>\n",
              "  .colab-df-quickchart {\n",
              "    background-color: #E8F0FE;\n",
              "    border: none;\n",
              "    border-radius: 50%;\n",
              "    cursor: pointer;\n",
              "    display: none;\n",
              "    fill: #1967D2;\n",
              "    height: 32px;\n",
              "    padding: 0 0 0 0;\n",
              "    width: 32px;\n",
              "  }\n",
              "\n",
              "  .colab-df-quickchart:hover {\n",
              "    background-color: #E2EBFA;\n",
              "    box-shadow: 0px 1px 2px rgba(60, 64, 67, 0.3), 0px 1px 3px 1px rgba(60, 64, 67, 0.15);\n",
              "    fill: #174EA6;\n",
              "  }\n",
              "\n",
              "  [theme=dark] .colab-df-quickchart {\n",
              "    background-color: #3B4455;\n",
              "    fill: #D2E3FC;\n",
              "  }\n",
              "\n",
              "  [theme=dark] .colab-df-quickchart:hover {\n",
              "    background-color: #434B5C;\n",
              "    box-shadow: 0px 1px 3px 1px rgba(0, 0, 0, 0.15);\n",
              "    filter: drop-shadow(0px 1px 2px rgba(0, 0, 0, 0.3));\n",
              "    fill: #FFFFFF;\n",
              "  }\n",
              "</style>\n",
              "\n",
              "    <script>\n",
              "      async function quickchart(key) {\n",
              "        const containerElement = document.querySelector('#' + key);\n",
              "        const charts = await google.colab.kernel.invokeFunction(\n",
              "            'suggestCharts', [key], {});\n",
              "      }\n",
              "    </script>\n",
              "\n",
              "      <script>\n",
              "\n",
              "function displayQuickchartButton(domScope) {\n",
              "  let quickchartButtonEl =\n",
              "    domScope.querySelector('#df-62274862-52e1-4f92-b7f9-ca7bb4e70181 button.colab-df-quickchart');\n",
              "  quickchartButtonEl.style.display =\n",
              "    google.colab.kernel.accessAllowed ? 'block' : 'none';\n",
              "}\n",
              "\n",
              "        displayQuickchartButton(document);\n",
              "      </script>\n",
              "      <style>\n",
              "    .colab-df-container {\n",
              "      display:flex;\n",
              "      flex-wrap:wrap;\n",
              "      gap: 12px;\n",
              "    }\n",
              "\n",
              "    .colab-df-convert {\n",
              "      background-color: #E8F0FE;\n",
              "      border: none;\n",
              "      border-radius: 50%;\n",
              "      cursor: pointer;\n",
              "      display: none;\n",
              "      fill: #1967D2;\n",
              "      height: 32px;\n",
              "      padding: 0 0 0 0;\n",
              "      width: 32px;\n",
              "    }\n",
              "\n",
              "    .colab-df-convert:hover {\n",
              "      background-color: #E2EBFA;\n",
              "      box-shadow: 0px 1px 2px rgba(60, 64, 67, 0.3), 0px 1px 3px 1px rgba(60, 64, 67, 0.15);\n",
              "      fill: #174EA6;\n",
              "    }\n",
              "\n",
              "    [theme=dark] .colab-df-convert {\n",
              "      background-color: #3B4455;\n",
              "      fill: #D2E3FC;\n",
              "    }\n",
              "\n",
              "    [theme=dark] .colab-df-convert:hover {\n",
              "      background-color: #434B5C;\n",
              "      box-shadow: 0px 1px 3px 1px rgba(0, 0, 0, 0.15);\n",
              "      filter: drop-shadow(0px 1px 2px rgba(0, 0, 0, 0.3));\n",
              "      fill: #FFFFFF;\n",
              "    }\n",
              "  </style>\n",
              "\n",
              "      <script>\n",
              "        const buttonEl =\n",
              "          document.querySelector('#df-7d5157e5-eadf-400e-92ef-6f9b6f8c4f04 button.colab-df-convert');\n",
              "        buttonEl.style.display =\n",
              "          google.colab.kernel.accessAllowed ? 'block' : 'none';\n",
              "\n",
              "        async function convertToInteractive(key) {\n",
              "          const element = document.querySelector('#df-7d5157e5-eadf-400e-92ef-6f9b6f8c4f04');\n",
              "          const dataTable =\n",
              "            await google.colab.kernel.invokeFunction('convertToInteractive',\n",
              "                                                     [key], {});\n",
              "          if (!dataTable) return;\n",
              "\n",
              "          const docLinkHtml = 'Like what you see? Visit the ' +\n",
              "            '<a target=\"_blank\" href=https://colab.research.google.com/notebooks/data_table.ipynb>data table notebook</a>'\n",
              "            + ' to learn more about interactive tables.';\n",
              "          element.innerHTML = '';\n",
              "          dataTable['output_type'] = 'display_data';\n",
              "          await google.colab.output.renderOutput(dataTable, element);\n",
              "          const docLink = document.createElement('div');\n",
              "          docLink.innerHTML = docLinkHtml;\n",
              "          element.appendChild(docLink);\n",
              "        }\n",
              "      </script>\n",
              "    </div>\n",
              "  </div>\n"
            ]
          },
          "metadata": {},
          "execution_count": 60
        }
      ]
    },
    {
      "cell_type": "code",
      "source": [
        "\n",
        "# Topic-Keyword Matrix\n",
        "df_topic_keywords = pd.DataFrame(lda_model.components_)\n",
        "# Assign Column and Index\n",
        "df_topic_keywords.columns = vectorizer.get_feature_names_out()\n",
        "df_topic_keywords.index = topicnames\n",
        "# View"
      ],
      "metadata": {
        "id": "qz6BtKTc-MTT"
      },
      "execution_count": null,
      "outputs": []
    },
    {
      "cell_type": "code",
      "source": [
        "print(df_topic_keywords)"
      ],
      "metadata": {
        "colab": {
          "base_uri": "https://localhost:8080/"
        },
        "id": "vEy8nBt1-r0p",
        "outputId": "d605cbdf-8814-4163-bc77-e10120feef50"
      },
      "execution_count": null,
      "outputs": [
        {
          "output_type": "stream",
          "name": "stdout",
          "text": [
            "          abalar  abandonar  abandono   abencoar   abracar    abraco  \\\n",
            "Topic0  0.200003   0.200005  0.200002   0.203051  0.206534  0.202930   \n",
            "Topic1  2.827519   0.201928  2.199994   0.201747  0.200006  4.255088   \n",
            "Topic2  0.200003   0.200282  0.200002   0.200471  0.200006  2.199697   \n",
            "Topic3  0.205356   0.200916  0.200002   1.640815  0.200571  2.482058   \n",
            "Topic4  1.567120  12.196869  0.200001  11.753916  5.192883  2.860227   \n",
            "\n",
            "           abrir   absurdo    abusar     acabar  ...       voz     vulgo  \\\n",
            "Topic0  3.404456  0.200004  3.206044   0.200445  ...  0.200005  0.200004   \n",
            "Topic1  2.514475  2.200764  0.200009   9.736654  ...  0.206115  0.200004   \n",
            "Topic2  0.201437  0.200004  0.200009   5.073781  ...  0.200005  1.199991   \n",
            "Topic3  0.201515  0.200004  0.200009   0.200456  ...  0.204101  0.200004   \n",
            "Topic4  7.678117  1.199225  2.193929  12.788663  ...  6.189774  7.199997   \n",
            "\n",
            "          whisky    xereca    xereco     xinga    xingar      xota      yeah  \\\n",
            "Topic0  8.201681  0.202921  1.151721  4.069348  2.196346  5.187431  1.255510   \n",
            "Topic1  0.200390  0.200007  0.200001  1.315466  0.201879  0.200418  0.202008   \n",
            "Topic2  2.192491  8.195550  1.246168  0.202505  0.200002  8.201965  0.201521   \n",
            "Topic3  0.200005  6.201519  0.200001  1.199444  2.200311  0.200344  2.137985   \n",
            "Topic4  0.205433  0.200003  0.202108  0.213237  0.201462  4.209842  0.202976   \n",
            "\n",
            "            zona  \n",
            "Topic0  4.869178  \n",
            "Topic1  0.207133  \n",
            "Topic2  0.200422  \n",
            "Topic3  0.201809  \n",
            "Topic4  3.521459  \n",
            "\n",
            "[5 rows x 1609 columns]\n"
          ]
        }
      ]
    },
    {
      "cell_type": "code",
      "source": [
        "\n",
        "df_topic_keywords.to_csv(r'/content/drive/MyDrive/UFRGS/mestrado/PLN/analise funk/analise_musicas LDA/topicos.csv',\n",
        "                         sep=';',decimal=',',index=False)\n",
        "\n"
      ],
      "metadata": {
        "id": "wFzKRz2HNz3C"
      },
      "execution_count": null,
      "outputs": []
    },
    {
      "cell_type": "code",
      "source": [
        "df_topic_keywords.sum(1)"
      ],
      "metadata": {
        "colab": {
          "base_uri": "https://localhost:8080/"
        },
        "id": "xyCpsDh2_SrB",
        "outputId": "ef77a2f2-4c96-4d8c-e740-b97443e8f2e9"
      },
      "execution_count": null,
      "outputs": [
        {
          "output_type": "execute_result",
          "data": {
            "text/plain": [
              "Topic0    2576.534790\n",
              "Topic1    2794.035671\n",
              "Topic2    2736.570956\n",
              "Topic3    2857.769707\n",
              "Topic4    7402.088876\n",
              "dtype: float64"
            ]
          },
          "metadata": {},
          "execution_count": 25
        }
      ]
    }
  ]
}